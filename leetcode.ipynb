{
 "cells": [
  {
   "cell_type": "markdown",
   "metadata": {},
   "source": [
    "# LeetCode"
   ]
  },
  {
   "cell_type": "markdown",
   "metadata": {},
   "source": [
    "## 21. [Merge Two Sorted Lists](https://leetcode.com/problems/merge-two-sorted-lists/)"
   ]
  },
  {
   "cell_type": "code",
   "execution_count": 122,
   "metadata": {},
   "outputs": [],
   "source": [
    "from dataclasses import dataclass\n",
    "\n",
    "@dataclass\n",
    "class ListNode(object):\n",
    "    value: int = 0\n",
    "    next: int = None"
   ]
  },
  {
   "cell_type": "code",
   "execution_count": 117,
   "metadata": {},
   "outputs": [],
   "source": [
    "def merge_two_lists(a: list, b: list) -> list:\n",
    "    '''\n",
    "    '''\n",
    "    store = []\n",
    "    item_count = len(a) + len(b)\n",
    "    \n",
    "    for i in range(item_count):\n",
    "        # if a or b is empty return the the other\n",
    "        if not a or not b:\n",
    "            return store + a + b\n",
    "        # add to store and remove from lists\n",
    "        if a[0] == b[0]:\n",
    "            store = store + [a[0]] * 2\n",
    "            a.pop(0)\n",
    "            b.pop(0)\n",
    "        elif b[0] < a[0]:\n",
    "            store.append(b[0])\n",
    "            b.pop(0)\n",
    "        elif b[0] > a[0]:\n",
    "            store.append(a[0])\n",
    "            a.pop(0)\n",
    "    return store"
   ]
  },
  {
   "cell_type": "code",
   "execution_count": 118,
   "metadata": {},
   "outputs": [
    {
     "data": {
      "text/plain": [
       "[1, 1, 2, 3, 4, 4]"
      ]
     },
     "execution_count": 118,
     "metadata": {},
     "output_type": "execute_result"
    }
   ],
   "source": [
    "a = [1,2,4]\n",
    "b = [1,3,4]\n",
    "\n",
    "merge_two_lists(a, b)"
   ]
  },
  {
   "cell_type": "code",
   "execution_count": 119,
   "metadata": {},
   "outputs": [
    {
     "data": {
      "text/plain": [
       "[0]"
      ]
     },
     "execution_count": 119,
     "metadata": {},
     "output_type": "execute_result"
    }
   ],
   "source": [
    "merge_two_lists([], [0])"
   ]
  },
  {
   "cell_type": "code",
   "execution_count": 120,
   "metadata": {},
   "outputs": [
    {
     "data": {
      "text/plain": [
       "[]"
      ]
     },
     "execution_count": 120,
     "metadata": {},
     "output_type": "execute_result"
    }
   ],
   "source": [
    "merge_two_lists([], [])"
   ]
  },
  {
   "cell_type": "markdown",
   "metadata": {},
   "source": [
    "## 204 [Count Primes](https://leetcode.com/problems/count-primes/)"
   ]
  },
  {
   "cell_type": "code",
   "execution_count": 22,
   "metadata": {},
   "outputs": [],
   "source": [
    "def count_primes(n: int) -> int:\n",
    "    '''count the number of primes from 1 to `n`\n",
    "    '''\n",
    "    # store prime numbers\n",
    "    store = []\n",
    "    # primes between 1 and 10\n",
    "    primes = [2]\n",
    "    \n",
    "    for i in range(2, n):\n",
    "        add_number = True\n",
    "        # check if the number is divisible by a prime\n",
    "        for num in primes:\n",
    "            if i % num == 0 and i not in primes:\n",
    "                add_number = False\n",
    "                break\n",
    "        if add_number == True:\n",
    "            primes.append(i)\n",
    "            store.append(i)\n",
    "            \n",
    "    # return the store's length        \n",
    "    return len(store)"
   ]
  },
  {
   "cell_type": "code",
   "execution_count": 23,
   "metadata": {},
   "outputs": [
    {
     "data": {
      "text/plain": [
       "4"
      ]
     },
     "execution_count": 23,
     "metadata": {},
     "output_type": "execute_result"
    }
   ],
   "source": [
    "count_primes(10)"
   ]
  },
  {
   "cell_type": "code",
   "execution_count": 21,
   "metadata": {},
   "outputs": [
    {
     "data": {
      "text/plain": [
       "1229"
      ]
     },
     "execution_count": 21,
     "metadata": {},
     "output_type": "execute_result"
    }
   ],
   "source": [
    "count_primes(10000)"
   ]
  },
  {
   "cell_type": "code",
   "execution_count": 25,
   "metadata": {},
   "outputs": [
    {
     "name": "stdout",
     "output_type": "stream",
     "text": [
      "[2, 3, 4, 5, 6, 7, 8, 9]\n"
     ]
    }
   ],
   "source": [
    "l = []\n",
    "for i in range(10):\n",
    "    if i % 1 - 1 = 0:\n",
    "        add_value = False\n",
    "    "
   ]
  },
  {
   "cell_type": "markdown",
   "metadata": {},
   "source": [
    "## 228 [Summary Ranges](https://leetcode.com/problems/summary-ranges/)"
   ]
  },
  {
   "cell_type": "code",
   "execution_count": 175,
   "metadata": {},
   "outputs": [],
   "source": [
    "a = [0,1,2,4,5,7]\n",
    "def summary_ranges(nums: List[int]) -> List[str]:\n",
    "    '''\n",
    "    '''\n",
    "    if not nums:\n",
    "        return []\n",
    "    elif len(nums) == 1:\n",
    "        return [str(nums[0])]\n",
    "\n",
    "    group_count = 0\n",
    "    count = 1\n",
    "    store = {0: [nums[0]]}\n",
    "    output = []\n",
    "\n",
    "    while count < len(nums):\n",
    "        difference = abs(store[group_count][-1] - nums[count])\n",
    "        if difference == 0 or difference == 1:\n",
    "            store[group_count].append(nums[count])\n",
    "        else:\n",
    "            group_count = group_count + 1\n",
    "            store[group_count] = [nums[count]]\n",
    "        count += 1\n",
    "\n",
    "    for key in store.keys():\n",
    "        if len(store[key]) > 1:\n",
    "            output.append(f'{store[key][0]}->{store[key][-1]}')\n",
    "        else:\n",
    "            output.append(str(store[key][0]))\n",
    "\n",
    "    return output"
   ]
  },
  {
   "cell_type": "code",
   "execution_count": 176,
   "metadata": {},
   "outputs": [
    {
     "data": {
      "text/plain": [
       "['0->5', '7']"
      ]
     },
     "execution_count": 176,
     "metadata": {},
     "output_type": "execute_result"
    }
   ],
   "source": [
    "nums = [0,1,2,3,4,5,7]\n",
    "summary_ranges(nums)"
   ]
  },
  {
   "cell_type": "code",
   "execution_count": 177,
   "metadata": {},
   "outputs": [
    {
     "data": {
      "text/plain": [
       "['-1']"
      ]
     },
     "execution_count": 177,
     "metadata": {},
     "output_type": "execute_result"
    }
   ],
   "source": [
    "summary_ranges([-1])"
   ]
  },
  {
   "cell_type": "code",
   "execution_count": 178,
   "metadata": {},
   "outputs": [
    {
     "data": {
      "text/plain": [
       "['0']"
      ]
     },
     "execution_count": 178,
     "metadata": {},
     "output_type": "execute_result"
    }
   ],
   "source": [
    "summary_ranges([0])"
   ]
  },
  {
   "cell_type": "code",
   "execution_count": 179,
   "metadata": {},
   "outputs": [
    {
     "data": {
      "text/plain": [
       "['-3->-2', '0', '2->4', '6', '8->9']"
      ]
     },
     "execution_count": 179,
     "metadata": {},
     "output_type": "execute_result"
    }
   ],
   "source": [
    "summary_ranges([-3,-2,0,2,3,4,6,8,9])"
   ]
  },
  {
   "cell_type": "code",
   "execution_count": 180,
   "metadata": {},
   "outputs": [
    {
     "data": {
      "text/plain": [
       "['-2147483648->-2147483647', '2147483647']"
      ]
     },
     "execution_count": 180,
     "metadata": {},
     "output_type": "execute_result"
    }
   ],
   "source": [
    "summary_ranges([-2147483648,-2147483647,2147483647])"
   ]
  },
  {
   "cell_type": "markdown",
   "metadata": {},
   "source": [
    "## Coin Change"
   ]
  },
  {
   "cell_type": "code",
   "execution_count": null,
   "metadata": {},
   "outputs": [],
   "source": [
    "from typing import List\n",
    "\n",
    "def coinChange(coins: List[int], amount: int) -> int:\n",
    "    '''\n",
    "    - **parameters**, **types**, **return**\n",
    "        :param coins: a list of coins\n",
    "        :param amount: amount to obtain from the coins\n",
    "        :type coins: List[int]\n",
    "        :type amount: int\n",
    "        :return: the number of coins needed to obtain the amount\n",
    "        :rtype: int\n",
    "    '''\n",
    "    if amount == 0:\n",
    "        return 0\n",
    "    \n",
    "    store = []\n",
    "    count = 0\n",
    "    # sort coins from greatest to smallest\n",
    "    coins = sorted(coins, reverse=True)\n",
    "    \n",
    "    for coin in coins:\n",
    "        # number of coins\n",
    "        n = 0\n",
    "        while True:\n",
    "            remainder = amount - n * coin\n",
    "            \n",
    "            if remainder < 0:\n",
    "                store.append({\n",
    "                    'coin': coin,\n",
    "                    'n': n - 1\n",
    "                })\n",
    "                # set the new amount\n",
    "                amount = amount - (n - 1) * coin\n",
    "                # update the coin count\n",
    "                count = count + (n - 1)\n",
    "                break\n",
    "            else:\n",
    "                n += 1\n",
    "            \n",
    "    #if amount != 0:\n",
    "        #return -1\n",
    "    print(store)\n",
    "    return count"
   ]
  },
  {
   "cell_type": "code",
   "execution_count": null,
   "metadata": {},
   "outputs": [],
   "source": [
    "coinChange([1,2,5], 11)"
   ]
  },
  {
   "cell_type": "code",
   "execution_count": null,
   "metadata": {},
   "outputs": [],
   "source": [
    "coinChange([2], 3)"
   ]
  },
  {
   "cell_type": "code",
   "execution_count": null,
   "metadata": {},
   "outputs": [],
   "source": [
    "coinChange([1], 0)"
   ]
  },
  {
   "cell_type": "code",
   "execution_count": null,
   "metadata": {},
   "outputs": [],
   "source": [
    "coinChange([186,419,83,408], 6249)"
   ]
  },
  {
   "cell_type": "code",
   "execution_count": null,
   "metadata": {},
   "outputs": [],
   "source": [
    "14*419 - 6249"
   ]
  },
  {
   "cell_type": "code",
   "execution_count": null,
   "metadata": {},
   "outputs": [],
   "source": [
    "coinChange([186,83], 6249)"
   ]
  },
  {
   "cell_type": "code",
   "execution_count": null,
   "metadata": {},
   "outputs": [],
   "source": [
    "n=186\n",
    "int(6249 / n)"
   ]
  },
  {
   "cell_type": "code",
   "execution_count": null,
   "metadata": {},
   "outputs": [],
   "source": [
    "6249 - int(6249 / n) * n"
   ]
  },
  {
   "cell_type": "code",
   "execution_count": null,
   "metadata": {},
   "outputs": [],
   "source": [
    "383/83"
   ]
  },
  {
   "cell_type": "markdown",
   "metadata": {},
   "source": [
    "## 482 [License Key Formatting]()"
   ]
  },
  {
   "cell_type": "code",
   "execution_count": null,
   "metadata": {},
   "outputs": [],
   "source": [
    "def format_key(S: str, K: int) -> str:\n",
    "    '''\n",
    "    '''\n",
    "    # convert alpha chars to uppercase\n",
    "    S = S.upper().replace('-', '')\n",
    "    store = ''\n",
    "\n",
    "    while True:\n",
    "        # add the last K chars in S to the store\n",
    "        store = '-' + S[-K:] + store\n",
    "        # remove the K chars from S\n",
    "        S = S[:-K]\n",
    "        if len(S) <= 0:\n",
    "            break\n",
    "    return store[1:]"
   ]
  },
  {
   "cell_type": "code",
   "execution_count": null,
   "metadata": {},
   "outputs": [],
   "source": [
    "format_key(\"5f3Z-2e-9-w\", 4)"
   ]
  },
  {
   "cell_type": "code",
   "execution_count": null,
   "metadata": {},
   "outputs": [],
   "source": [
    "format_key(\"2-4A0r7-4k\", 4)"
   ]
  },
  {
   "cell_type": "code",
   "execution_count": null,
   "metadata": {},
   "outputs": [],
   "source": [
    "format_key(\"2-5g-3-J\", 2)"
   ]
  },
  {
   "cell_type": "markdown",
   "metadata": {},
   "source": [
    "## 347. Top K Frequent Elements"
   ]
  },
  {
   "cell_type": "code",
   "execution_count": 136,
   "metadata": {},
   "outputs": [],
   "source": [
    "from typing import List\n",
    "\n",
    "def topKFrequent(nums, k):\n",
    "    \"\"\"\n",
    "    :type nums: List[int]\n",
    "    :type k: int\n",
    "    :rtype: List[int]\n",
    "    \"\"\"\n",
    "    store = {}\n",
    "    output = {}\n",
    "    output1 = []\n",
    "    nums = sorted(nums)\n",
    "    \n",
    "    for num in nums:\n",
    "        if num in store.keys():\n",
    "            store[num] += 1\n",
    "        else:\n",
    "            store[num] = 1\n",
    "    \n",
    "    for key in store.keys():\n",
    "        if store[key] in output.keys():\n",
    "            output[store[key]].append(key)\n",
    "        else:\n",
    "            output[store[key]] = [key]\n",
    "            \n",
    "    keys = list(sorted(output.keys(), reverse=True))[:k]\n",
    "    for key in keys:\n",
    "        output1 = output1 + output[key]\n",
    "        if len(output1) >= k:\n",
    "            break\n",
    "    \n",
    "    return output1"
   ]
  },
  {
   "cell_type": "code",
   "execution_count": 137,
   "metadata": {},
   "outputs": [
    {
     "data": {
      "text/plain": [
       "[1, 2]"
      ]
     },
     "execution_count": 137,
     "metadata": {},
     "output_type": "execute_result"
    }
   ],
   "source": [
    "topKFrequent([1,1,1,2,2,3], 2)"
   ]
  },
  {
   "cell_type": "code",
   "execution_count": null,
   "metadata": {},
   "outputs": [],
   "source": [
    "topKFrequent([1,2], 2)"
   ]
  },
  {
   "cell_type": "code",
   "execution_count": null,
   "metadata": {},
   "outputs": [],
   "source": [
    "topKFrequent([4,1,-1,2,-1,2,3], 2)"
   ]
  },
  {
   "cell_type": "markdown",
   "metadata": {},
   "source": [
    "## 17. [Letter Combinations of a Phone Number](https://leetcode.com/problems/letter-combinations-of-a-phone-number/)"
   ]
  },
  {
   "cell_type": "code",
   "execution_count": 165,
   "metadata": {},
   "outputs": [],
   "source": [
    "def list_combination(a: list, b: list) -> list:\n",
    "    '''\n",
    "    '''\n",
    "    store = []\n",
    "    \n",
    "    if not a or not b:\n",
    "        return a + b\n",
    "    \n",
    "    for i in range(len(a)):\n",
    "        for j in range(len(b)):\n",
    "            store.append(f'{a[i]}{b[j]}')\n",
    "    \n",
    "    return store\n",
    "    "
   ]
  },
  {
   "cell_type": "code",
   "execution_count": 166,
   "metadata": {},
   "outputs": [
    {
     "data": {
      "text/plain": [
       "['15', '14', '16', '25', '24', '26', '35', '34', '36']"
      ]
     },
     "execution_count": 166,
     "metadata": {},
     "output_type": "execute_result"
    }
   ],
   "source": [
    "combine([1,2,3], [5,4,6])"
   ]
  },
  {
   "cell_type": "code",
   "execution_count": 167,
   "metadata": {},
   "outputs": [],
   "source": [
    "from typing import List\n",
    "import itertools\n",
    "\n",
    "def letter_combinations(digits: str) -> List[str]:\n",
    "    \"\"\"\n",
    "    :type digits: str\n",
    "    :rtype: List[str]\n",
    "    \"\"\"\n",
    "    store = []\n",
    "    \n",
    "    mapping = {\n",
    "        '2': ['a', 'b', 'c'],\n",
    "        '3': ['d', 'e', 'f'],\n",
    "        '4': ['g', 'h', 'i'],\n",
    "        '5': ['j', 'k', 'l'],\n",
    "        '6': ['m', 'n', 'o'],\n",
    "        '7': ['p', 'q', 'r', 's'],\n",
    "        '8': ['t', 'u', 'v'],\n",
    "        '9': ['w', 'x', 'y', 'z'],\n",
    "    }\n",
    "        \n",
    "    if digits == '':\n",
    "        return []\n",
    "    \n",
    "    if len(digits) == 1:\n",
    "        return mapping[digits]\n",
    "    \n",
    "    while len(digits) > 0:\n",
    "        store = list_combination(store, mapping[digits[0]])\n",
    "        digits = digits[1:]\n",
    "        \n",
    "    return store"
   ]
  },
  {
   "cell_type": "code",
   "execution_count": 168,
   "metadata": {},
   "outputs": [
    {
     "data": {
      "text/plain": [
       "['ad', 'ae', 'af', 'bd', 'be', 'bf', 'cd', 'ce', 'cf']"
      ]
     },
     "execution_count": 168,
     "metadata": {},
     "output_type": "execute_result"
    }
   ],
   "source": [
    "letter_combinations('23')"
   ]
  },
  {
   "cell_type": "markdown",
   "metadata": {},
   "source": [
    "## 268. [Missing Number](https://leetcode.com/problems/missing-number/)"
   ]
  },
  {
   "cell_type": "code",
   "execution_count": null,
   "metadata": {},
   "outputs": [],
   "source": [
    "from math import factorial\n",
    "from typing import List\n",
    "\n",
    "def missing_number(nums: List[int]) -> int:\n",
    "    '''\n",
    "    :type nums: List[int]\n",
    "    :rtype: int\n",
    "    '''\n",
    "    nums.sort()\n",
    "        \n",
    "    # check that first and last elements of the string are 0 and `n`\n",
    "    if nums[-1] != len(nums):\n",
    "        return len(nums)\n",
    "    elif nums[0] != 0:\n",
    "        return 0\n",
    "\n",
    "    # find the missing number\n",
    "    for i in range(1, len(nums)):\n",
    "        if i not in nums:\n",
    "            return i"
   ]
  },
  {
   "cell_type": "code",
   "execution_count": null,
   "metadata": {},
   "outputs": [],
   "source": [
    "missing_number([0,1])"
   ]
  },
  {
   "cell_type": "markdown",
   "metadata": {},
   "source": [
    "## 66. [Plus One](https://leetcode.com/problems/plus-one/)"
   ]
  },
  {
   "cell_type": "code",
   "execution_count": null,
   "metadata": {},
   "outputs": [],
   "source": [
    "from typing import List\n",
    "\n",
    "def plus_one(digits: List[int]):\n",
    "    \"\"\"\n",
    "    :type digits: List[int]\n",
    "    :rtype: List[int]\n",
    "    \"\"\"\n",
    "    # convert ints in `digits` to strings\n",
    "    string_digits = [str(int) for int in digits]\n",
    "    # combine strings to form a number and add one\n",
    "    number = ''.join(string_digits)\n",
    "    number = int(number) + 1\n",
    "    digits_plus_one = [int(char) for char in str(number)]\n",
    "    if len(digits_plus_one) < len(digits):\n",
    "        multiplier = len(digits) - len(digits_plus_one)\n",
    "        digits_plus_one = [0] * multiplier + digits_plus_one\n",
    "    return digits_plus_one"
   ]
  },
  {
   "cell_type": "code",
   "execution_count": null,
   "metadata": {},
   "outputs": [],
   "source": [
    "plus_one([1,2,3])"
   ]
  },
  {
   "cell_type": "code",
   "execution_count": null,
   "metadata": {},
   "outputs": [],
   "source": [
    "plus_one([4,3,2,1])"
   ]
  },
  {
   "cell_type": "code",
   "execution_count": null,
   "metadata": {},
   "outputs": [],
   "source": [
    "plus_one([0,0])"
   ]
  },
  {
   "cell_type": "markdown",
   "metadata": {},
   "source": [
    "## 283 [Zero Moves](https://leetcode.com/problems/move-zeroes/)"
   ]
  },
  {
   "cell_type": "code",
   "execution_count": null,
   "metadata": {},
   "outputs": [],
   "source": [
    "from typing import List\n",
    "\n",
    "def move_zeroes(nums):\n",
    "    \"\"\"\n",
    "    :type nums: List[int]\n",
    "    :rtype: None Do not return anything, modify nums in-place instead.\n",
    "    \"\"\"\n",
    "    count = 0\n",
    "    for i in reversed(range(len(nums))):\n",
    "        if nums[i] == 0:\n",
    "            del[nums[i]]\n",
    "            nums.append(0)\n",
    "            count += 1\n",
    "    return nums"
   ]
  },
  {
   "cell_type": "code",
   "execution_count": null,
   "metadata": {},
   "outputs": [],
   "source": [
    "move_zeroes([0,1,0,3,12])"
   ]
  },
  {
   "cell_type": "markdown",
   "metadata": {},
   "source": [
    "## 290. [Word Pattern]()"
   ]
  },
  {
   "cell_type": "code",
   "execution_count": null,
   "metadata": {},
   "outputs": [],
   "source": [
    "def word_pattern(pattern: str, s: str) -> bool:\n",
    "    \"\"\"\n",
    "    :type pattern: str\n",
    "    :type s: str\n",
    "    :rtype: bool\n",
    "    \"\"\"\n",
    "    \n",
    "    s = s.split(' ')\n",
    "    s_store = {}\n",
    "    p_store = {}\n",
    "    \n",
    "    for i in range(len(s)):\n",
    "        if s[i] in s_store.values():\n",
    "            print(s[i])\n",
    "        else:\n",
    "            print('test')\n",
    "            \n",
    "    return True"
   ]
  },
  {
   "cell_type": "code",
   "execution_count": null,
   "metadata": {},
   "outputs": [],
   "source": [
    "word_pattern(\"abba\", \"dog dog dog dog\")"
   ]
  },
  {
   "cell_type": "code",
   "execution_count": null,
   "metadata": {},
   "outputs": [],
   "source": [
    "word_pattern(\"abba\", \"dog cat cat dog\")"
   ]
  },
  {
   "cell_type": "code",
   "execution_count": null,
   "metadata": {},
   "outputs": [],
   "source": [
    "word_pattern(\"abba\", \"dog cat cat fish\")"
   ]
  },
  {
   "cell_type": "code",
   "execution_count": null,
   "metadata": {},
   "outputs": [],
   "source": [
    "word_pattern(\"abc\", \"dog cat dog\")"
   ]
  },
  {
   "cell_type": "markdown",
   "metadata": {},
   "source": [
    "## 412. [Fizz Buzz](https://leetcode.com/problems/fizz-buzz/)"
   ]
  },
  {
   "cell_type": "code",
   "execution_count": 127,
   "metadata": {},
   "outputs": [],
   "source": [
    "from typing import List\n",
    "\n",
    "def fizz_buzz(n: int) -> List[str]:\n",
    "    '''\n",
    "    '''\n",
    "    store = []\n",
    "    \n",
    "    for i in range(1, n + 1):\n",
    "        if i % 3 == 0 and i % 5 == 0:\n",
    "            store.append('FizzBuzz')\n",
    "        elif i % 3 == 0:\n",
    "            store.append('Fizz')\n",
    "        elif i % 5 == 0:\n",
    "            store.append('Buzz')\n",
    "        else:\n",
    "            store.append(str(i))\n",
    "    return store    "
   ]
  },
  {
   "cell_type": "code",
   "execution_count": 128,
   "metadata": {},
   "outputs": [
    {
     "data": {
      "text/plain": [
       "['1',\n",
       " '2',\n",
       " 'Fizz',\n",
       " '4',\n",
       " 'Buzz',\n",
       " 'Fizz',\n",
       " '7',\n",
       " '8',\n",
       " 'Fizz',\n",
       " 'Buzz',\n",
       " '11',\n",
       " 'Fizz',\n",
       " '13',\n",
       " '14',\n",
       " 'FizzBuzz']"
      ]
     },
     "execution_count": 128,
     "metadata": {},
     "output_type": "execute_result"
    }
   ],
   "source": [
    "fizz_buzz(15)"
   ]
  },
  {
   "cell_type": "markdown",
   "metadata": {},
   "source": [
    "## 1071. [Greatest Common Divisor of Strings](https://leetcode.com/problems/greatest-common-divisor-of-strings/)"
   ]
  },
  {
   "cell_type": "code",
   "execution_count": 17,
   "metadata": {},
   "outputs": [],
   "source": [
    "def gcd_check(a, b):\n",
    "    while a.find(b) > -1:\n",
    "        a = a[a.find(b) + len(b):]\n",
    "        if a == '':\n",
    "            return True\n",
    "    return False"
   ]
  },
  {
   "cell_type": "code",
   "execution_count": 18,
   "metadata": {},
   "outputs": [
    {
     "data": {
      "text/plain": [
       "True"
      ]
     },
     "execution_count": 18,
     "metadata": {},
     "output_type": "execute_result"
    }
   ],
   "source": [
    "check('abab', 'ab')"
   ]
  },
  {
   "cell_type": "code",
   "execution_count": null,
   "metadata": {},
   "outputs": [],
   "source": [
    "def gcd_of_string(str1: str, str2: str) -> str:\n",
    "    '''\n",
    "    '''\n",
    "    gcd = ''\n",
    "    \n",
    "    if len(str1) >= len(str2):\n",
    "        gcd_check(str1, str2)\n",
    "    else:\n",
    "        gcd_check(str1, str2)\n",
    "    \n",
    "    return gcd"
   ]
  },
  {
   "cell_type": "code",
   "execution_count": null,
   "metadata": {},
   "outputs": [],
   "source": []
  }
 ],
 "metadata": {
  "kernelspec": {
   "display_name": "Python 3.8.2 64-bit",
   "language": "python",
   "name": "python38264bite8925ebd667149fb9bb619eee2888c02"
  },
  "language_info": {
   "codemirror_mode": {
    "name": "ipython",
    "version": 3
   },
   "file_extension": ".py",
   "mimetype": "text/x-python",
   "name": "python",
   "nbconvert_exporter": "python",
   "pygments_lexer": "ipython3",
   "version": "3.8.6"
  }
 },
 "nbformat": 4,
 "nbformat_minor": 4
}
