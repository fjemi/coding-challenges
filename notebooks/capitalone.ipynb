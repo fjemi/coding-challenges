{
 "cells": [
  {
   "cell_type": "markdown",
   "metadata": {},
   "source": [
    "# Capital One"
   ]
  },
  {
   "cell_type": "markdown",
   "metadata": {},
   "source": [
    "## 204. [Count Primes](https://leetcode.com/problems/count-primes/)"
   ]
  },
  {
   "cell_type": "code",
   "execution_count": 13,
   "metadata": {},
   "outputs": [],
   "source": [
    "def count_primes(n: int) -> int:\n",
    "    '''count the number of primes from 1 to `n`\n",
    "    '''\n",
    "    # store prime numbers\n",
    "    store = []\n",
    "    # primes between 1 and 10\n",
    "    primes = [2]\n",
    "    \n",
    "    for i in range(2, n):\n",
    "        add_number = True\n",
    "        # check if the number is divisible by a prime\n",
    "        for num in primes:\n",
    "            if i % num == 0 and i not in primes:\n",
    "                add_number = False\n",
    "                break\n",
    "        if add_number == True:\n",
    "            primes.append(i)\n",
    "            store.append(i)\n",
    "            \n",
    "    # return the store's length        \n",
    "    return len(store)"
   ]
  },
  {
   "cell_type": "code",
   "execution_count": 14,
   "metadata": {},
   "outputs": [
    {
     "data": {
      "text/plain": [
       "4"
      ]
     },
     "execution_count": 14,
     "metadata": {},
     "output_type": "execute_result"
    }
   ],
   "source": [
    "count_primes(10)"
   ]
  },
  {
   "cell_type": "code",
   "execution_count": 15,
   "metadata": {},
   "outputs": [
    {
     "data": {
      "text/plain": [
       "1229"
      ]
     },
     "execution_count": 15,
     "metadata": {},
     "output_type": "execute_result"
    }
   ],
   "source": [
    "count_primes(10000)"
   ]
  },
  {
   "cell_type": "code",
   "execution_count": 16,
   "metadata": {},
   "outputs": [],
   "source": [
    "l = []\n",
    "for i in range(10):\n",
    "    if i % 1 - 1 == 0:\n",
    "        add_value = False"
   ]
  },
  {
   "cell_type": "code",
   "execution_count": 17,
   "metadata": {},
   "outputs": [
    {
     "data": {
      "text/plain": [
       "[True, True]"
      ]
     },
     "execution_count": 17,
     "metadata": {},
     "output_type": "execute_result"
    }
   ],
   "source": [
    "[True] * 2\n"
   ]
  },
  {
   "cell_type": "markdown",
   "metadata": {},
   "source": [
    "## 322. [Coin Change](https://leetcode.com/problems/coin-change)"
   ]
  },
  {
   "cell_type": "code",
   "execution_count": 24,
   "metadata": {},
   "outputs": [],
   "source": [
    "from typing import List\n",
    "\n",
    "def coinChange(coins: List[int], amount: int) -> int:\n",
    "    '''\n",
    "    - **parameters**, **types**, **return**\n",
    "        :param coins: a list of coins\n",
    "        :param amount: amount to obtain from the coins\n",
    "        :type coins: List[int]\n",
    "        :type amount: int\n",
    "        :return: the number of coins needed to obtain the amount\n",
    "        :rtype: int\n",
    "    '''\n",
    "    if amount == 0:\n",
    "        return 0\n",
    "    \n",
    "    store = []\n",
    "    count = 0\n",
    "    # sort coins from greatest to smallest\n",
    "    coins = sorted(coins, reverse=True)\n",
    "    \n",
    "    for coin in coins:\n",
    "        # number of coins\n",
    "        n = 0\n",
    "        while True:\n",
    "            remainder = amount - n * coin\n",
    "            \n",
    "            if remainder < 0:\n",
    "                store.append({\n",
    "                    'coin': coin,\n",
    "                    'n': n - 1\n",
    "                })\n",
    "                # set the new amount\n",
    "                amount = amount - (n - 1) * coin\n",
    "                # update the coin count\n",
    "                count = count + (n - 1)\n",
    "                break\n",
    "            else:\n",
    "                n += 1\n",
    "            \n",
    "    #if amount != 0:\n",
    "        #return -1\n",
    "    print(store)\n",
    "    return count"
   ]
  },
  {
   "cell_type": "code",
   "execution_count": 25,
   "metadata": {},
   "outputs": [
    {
     "name": "stdout",
     "output_type": "stream",
     "text": [
      "[{'coin': 5, 'n': 2}, {'coin': 2, 'n': 0}, {'coin': 1, 'n': 1}]\n"
     ]
    },
    {
     "data": {
      "text/plain": [
       "3"
      ]
     },
     "execution_count": 25,
     "metadata": {},
     "output_type": "execute_result"
    }
   ],
   "source": [
    "coinChange([1,2,5], 11)"
   ]
  },
  {
   "cell_type": "code",
   "execution_count": 26,
   "metadata": {},
   "outputs": [
    {
     "name": "stdout",
     "output_type": "stream",
     "text": [
      "[{'coin': 2, 'n': 1}]\n"
     ]
    },
    {
     "data": {
      "text/plain": [
       "1"
      ]
     },
     "execution_count": 26,
     "metadata": {},
     "output_type": "execute_result"
    }
   ],
   "source": [
    "coinChange([2], 3)"
   ]
  },
  {
   "cell_type": "code",
   "execution_count": 27,
   "metadata": {},
   "outputs": [
    {
     "data": {
      "text/plain": [
       "0"
      ]
     },
     "execution_count": 27,
     "metadata": {},
     "output_type": "execute_result"
    }
   ],
   "source": [
    "coinChange([1], 0)"
   ]
  },
  {
   "cell_type": "code",
   "execution_count": 28,
   "metadata": {},
   "outputs": [
    {
     "name": "stdout",
     "output_type": "stream",
     "text": [
      "[{'coin': 419, 'n': 14}, {'coin': 408, 'n': 0}, {'coin': 186, 'n': 2}, {'coin': 83, 'n': 0}]\n"
     ]
    },
    {
     "data": {
      "text/plain": [
       "16"
      ]
     },
     "execution_count": 28,
     "metadata": {},
     "output_type": "execute_result"
    }
   ],
   "source": [
    "coinChange([186,419,83,408], 6249)"
   ]
  },
  {
   "cell_type": "code",
   "execution_count": 29,
   "metadata": {},
   "outputs": [
    {
     "data": {
      "text/plain": [
       "-383"
      ]
     },
     "execution_count": 29,
     "metadata": {},
     "output_type": "execute_result"
    }
   ],
   "source": [
    "14*419 - 6249"
   ]
  },
  {
   "cell_type": "code",
   "execution_count": 30,
   "metadata": {},
   "outputs": [
    {
     "name": "stdout",
     "output_type": "stream",
     "text": [
      "[{'coin': 186, 'n': 33}, {'coin': 83, 'n': 1}]\n"
     ]
    },
    {
     "data": {
      "text/plain": [
       "34"
      ]
     },
     "execution_count": 30,
     "metadata": {},
     "output_type": "execute_result"
    }
   ],
   "source": [
    "coinChange([186,83], 6249)"
   ]
  },
  {
   "cell_type": "code",
   "execution_count": 31,
   "metadata": {},
   "outputs": [
    {
     "data": {
      "text/plain": [
       "33"
      ]
     },
     "execution_count": 31,
     "metadata": {},
     "output_type": "execute_result"
    }
   ],
   "source": [
    "n=186\n",
    "int(6249 / n)"
   ]
  },
  {
   "cell_type": "code",
   "execution_count": 32,
   "metadata": {},
   "outputs": [
    {
     "data": {
      "text/plain": [
       "111"
      ]
     },
     "execution_count": 32,
     "metadata": {},
     "output_type": "execute_result"
    }
   ],
   "source": [
    "6249 - int(6249 / n) * n"
   ]
  },
  {
   "cell_type": "code",
   "execution_count": 33,
   "metadata": {},
   "outputs": [
    {
     "data": {
      "text/plain": [
       "4.614457831325301"
      ]
     },
     "execution_count": 33,
     "metadata": {},
     "output_type": "execute_result"
    }
   ],
   "source": [
    "383/83"
   ]
  },
  {
   "cell_type": "code",
   "execution_count": 83,
   "metadata": {},
   "outputs": [
    {
     "data": {
      "text/plain": [
       "list_node(val=None, next=None)"
      ]
     },
     "execution_count": 83,
     "metadata": {},
     "output_type": "execute_result"
    }
   ],
   "source": [
    "list_node(None)"
   ]
  },
  {
   "cell_type": "markdown",
   "metadata": {},
   "source": [
    "## "
   ]
  },
  {
   "cell_type": "code",
   "execution_count": 38,
   "metadata": {},
   "outputs": [],
   "source": [
    "from typing import List\n",
    "\n",
    "def topKFrequent(nums, k):\n",
    "    '''\n",
    "    :type nums: List[int]\n",
    "    :type k: int\n",
    "    :rtype: List[int]\n",
    "    '''\n",
    "    store = {}\n",
    "    output = {}\n",
    "    output1 = []\n",
    "    nums = sorted(nums)\n",
    "    \n",
    "    for num in nums:\n",
    "        if num in store.keys():\n",
    "            store[num] += 1\n",
    "        else:\n",
    "            store[num] = 1\n",
    "    \n",
    "    for key in store.keys():\n",
    "        if store[key] in output.keys():\n",
    "            output[store[key]].append(key)\n",
    "        else:\n",
    "            output[store[key]] = [key]\n",
    "            \n",
    "    keys = list(sorted(output.keys(), reverse=True))[:k]\n",
    "    for key in keys:\n",
    "        output1 = output1 + output[key]\n",
    "        if len(output1) >= k:\n",
    "            break\n",
    "    \n",
    "    return output1"
   ]
  },
  {
   "cell_type": "code",
   "execution_count": 39,
   "metadata": {},
   "outputs": [
    {
     "data": {
      "text/plain": [
       "[1, 2]"
      ]
     },
     "execution_count": 39,
     "metadata": {},
     "output_type": "execute_result"
    }
   ],
   "source": [
    "topKFrequent([1,1,1,2,2,3], 2)"
   ]
  },
  {
   "cell_type": "code",
   "execution_count": 40,
   "metadata": {},
   "outputs": [
    {
     "data": {
      "text/plain": [
       "[1, 2]"
      ]
     },
     "execution_count": 40,
     "metadata": {},
     "output_type": "execute_result"
    }
   ],
   "source": [
    "topKFrequent([1,2], 2)"
   ]
  },
  {
   "cell_type": "code",
   "execution_count": 41,
   "metadata": {},
   "outputs": [
    {
     "data": {
      "text/plain": [
       "[-1, 2]"
      ]
     },
     "execution_count": 41,
     "metadata": {},
     "output_type": "execute_result"
    }
   ],
   "source": [
    "topKFrequent([4,1,-1,2,-1,2,3], 2)"
   ]
  },
  {
   "cell_type": "markdown",
   "metadata": {},
   "source": [
    "## 17. [Letter Combinations of a Phone Number](https://leetcode.com/problems/letter-combinations-of-a-phone-number/)"
   ]
  },
  {
   "cell_type": "code",
   "execution_count": 1,
   "metadata": {},
   "outputs": [],
   "source": [
    "from typing import List\n",
    "\n",
    "def list_combination(\n",
    "    a: List[int], b: List[int]\n",
    ") -> List[str]:\n",
    "    '''Returns 2 digit combinations of elements from two lists\n",
    "    :type a: List[int]\n",
    "    :type b: List[int]\n",
    "    :rtype: List[str]\n",
    "    '''\n",
    "    store = []\n",
    "    \n",
    "    if not a or not b:\n",
    "        return a + b\n",
    "    \n",
    "    for i in range(len(a)):\n",
    "        for j in range(len(b)):\n",
    "            store.append(f'{a[i]}{b[j]}')\n",
    "    \n",
    "    return store\n",
    "    "
   ]
  },
  {
   "cell_type": "code",
   "execution_count": 2,
   "metadata": {},
   "outputs": [
    {
     "data": {
      "text/plain": [
       "['15', '14', '16', '25', '24', '26', '35', '34', '36']"
      ]
     },
     "execution_count": 2,
     "metadata": {},
     "output_type": "execute_result"
    }
   ],
   "source": [
    "list_combination([1,2,3], [5,4,6])"
   ]
  },
  {
   "cell_type": "code",
   "execution_count": 44,
   "metadata": {},
   "outputs": [],
   "source": [
    "from typing import List\n",
    "import itertools\n",
    "\n",
    "def letter_combinations(digits: str) -> List[str]:\n",
    "    \"\"\"\n",
    "    :type digits: str\n",
    "    :rtype: List[str]\n",
    "    \"\"\"\n",
    "    store = []\n",
    "    \n",
    "    mapping = {\n",
    "        '2': ['a', 'b', 'c'],\n",
    "        '3': ['d', 'e', 'f'],\n",
    "        '4': ['g', 'h', 'i'],\n",
    "        '5': ['j', 'k', 'l'],\n",
    "        '6': ['m', 'n', 'o'],\n",
    "        '7': ['p', 'q', 'r', 's'],\n",
    "        '8': ['t', 'u', 'v'],\n",
    "        '9': ['w', 'x', 'y', 'z'],\n",
    "    }\n",
    "        \n",
    "    if digits == '':\n",
    "        return []\n",
    "    \n",
    "    if len(digits) == 1:\n",
    "        return mapping[digits]\n",
    "    \n",
    "    while len(digits) > 0:\n",
    "        store = list_combination(store, mapping[digits[0]])\n",
    "        digits = digits[1:]\n",
    "        \n",
    "    return store"
   ]
  },
  {
   "cell_type": "code",
   "execution_count": 45,
   "metadata": {},
   "outputs": [
    {
     "data": {
      "text/plain": [
       "['ad', 'ae', 'af', 'bd', 'be', 'bf', 'cd', 'ce', 'cf']"
      ]
     },
     "execution_count": 45,
     "metadata": {},
     "output_type": "execute_result"
    }
   ],
   "source": [
    "letter_combinations('23')"
   ]
  },
  {
   "cell_type": "markdown",
   "metadata": {},
   "source": [
    "## 268. [Missing Number](https://leetcode.com/problems/missing-number/)"
   ]
  },
  {
   "cell_type": "code",
   "execution_count": 46,
   "metadata": {},
   "outputs": [],
   "source": [
    "from math import factorial\n",
    "from typing import List\n",
    "\n",
    "def missing_number(nums: List[int]) -> int:\n",
    "    '''\n",
    "    :params nums: list of numbers to find the missing number in\n",
    "    :type nums: List[int]\n",
    "    :rtype: int\n",
    "    '''\n",
    "    nums.sort()\n",
    "        \n",
    "    # check that first and last elements of the string are 0 and `n`\n",
    "    if nums[-1] != len(nums):\n",
    "        return len(nums)\n",
    "    elif nums[0] != 0:\n",
    "        return 0\n",
    "\n",
    "    # find the missing number\n",
    "    for i in range(1, len(nums)):\n",
    "        if i not in nums:\n",
    "            return i"
   ]
  },
  {
   "cell_type": "code",
   "execution_count": 47,
   "metadata": {},
   "outputs": [
    {
     "data": {
      "text/plain": [
       "2"
      ]
     },
     "execution_count": 47,
     "metadata": {},
     "output_type": "execute_result"
    }
   ],
   "source": [
    "missing_number([0,1])"
   ]
  },
  {
   "cell_type": "markdown",
   "metadata": {},
   "source": [
    "## 66. [Plus One](https://leetcode.com/problems/plus-one/)"
   ]
  },
  {
   "cell_type": "code",
   "execution_count": 48,
   "metadata": {},
   "outputs": [],
   "source": [
    "from typing import List\n",
    "\n",
    "def plus_one(digits: List[int]):\n",
    "    \"\"\"\n",
    "    :type digits: List[int]\n",
    "    :rtype: List[int]\n",
    "    \"\"\"\n",
    "    # convert ints in `digits` to strings\n",
    "    string_digits = [str(int) for int in digits]\n",
    "    # combine strings to form a number and add one\n",
    "    number = ''.join(string_digits)\n",
    "    number = int(number) + 1\n",
    "    digits_plus_one = [int(char) for char in str(number)]\n",
    "    if len(digits_plus_one) < len(digits):\n",
    "        multiplier = len(digits) - len(digits_plus_one)\n",
    "        digits_plus_one = [0] * multiplier + digits_plus_one\n",
    "    return digits_plus_one"
   ]
  },
  {
   "cell_type": "code",
   "execution_count": 49,
   "metadata": {},
   "outputs": [
    {
     "data": {
      "text/plain": [
       "[1, 2, 4]"
      ]
     },
     "execution_count": 49,
     "metadata": {},
     "output_type": "execute_result"
    }
   ],
   "source": [
    "plus_one([1,2,3])"
   ]
  },
  {
   "cell_type": "code",
   "execution_count": 50,
   "metadata": {},
   "outputs": [
    {
     "data": {
      "text/plain": [
       "[4, 3, 2, 2]"
      ]
     },
     "execution_count": 50,
     "metadata": {},
     "output_type": "execute_result"
    }
   ],
   "source": [
    "plus_one([4,3,2,1])"
   ]
  },
  {
   "cell_type": "code",
   "execution_count": 51,
   "metadata": {},
   "outputs": [
    {
     "data": {
      "text/plain": [
       "[0, 1]"
      ]
     },
     "execution_count": 51,
     "metadata": {},
     "output_type": "execute_result"
    }
   ],
   "source": [
    "plus_one([0,0])"
   ]
  },
  {
   "cell_type": "markdown",
   "metadata": {},
   "source": [
    "## 283. [Zero Moves](https://leetcode.com/problems/move-zeroes/)"
   ]
  },
  {
   "cell_type": "code",
   "execution_count": 52,
   "metadata": {},
   "outputs": [],
   "source": [
    "from typing import List\n",
    "\n",
    "def move_zeroes(nums):\n",
    "    \"\"\"\n",
    "    :type nums: List[int]\n",
    "    :rtype: None Do not return anything, modify nums in-place instead.\n",
    "    \"\"\"\n",
    "    count = 0\n",
    "    for i in reversed(range(len(nums))):\n",
    "        if nums[i] == 0:\n",
    "            del[nums[i]]\n",
    "            nums.append(0)\n",
    "            count += 1\n",
    "    return nums"
   ]
  },
  {
   "cell_type": "code",
   "execution_count": 53,
   "metadata": {},
   "outputs": [
    {
     "data": {
      "text/plain": [
       "[1, 3, 12, 0, 0]"
      ]
     },
     "execution_count": 53,
     "metadata": {},
     "output_type": "execute_result"
    }
   ],
   "source": [
    "move_zeroes([0,1,0,3,12])"
   ]
  },
  {
   "cell_type": "markdown",
   "metadata": {},
   "source": [
    "## 290. [Word Pattern](https://leetcode.com/problems/word-pattern/)"
   ]
  },
  {
   "cell_type": "code",
   "execution_count": 10,
   "metadata": {},
   "outputs": [],
   "source": [
    "def word_pattern(pattern: str, s: str) -> bool:\n",
    "    \"\"\"\n",
    "    :type pattern: str\n",
    "    :type s: str\n",
    "    :rtype: bool\n",
    "    \"\"\"\n",
    "    \n",
    "    # convert string to list\n",
    "    s = s.split(' ')\n",
    "    \n",
    "    # pattern/string are empty string\n",
    "    if len(pattern) == 0 and len(s) == 0:\n",
    "        return True\n",
    "    # pattern/string lengths do not match    \n",
    "    if len(pattern) != len(s):\n",
    "        return False\n",
    "        \n",
    "    \n",
    "    # store char/words in the string/pattern\n",
    "    s_store = {}\n",
    "    p_store = {}\n",
    "    \n",
    "    for i in range(len(s)):\n",
    "        # check that chars match words\n",
    "        if s[i] in s_store.keys():\n",
    "            if s_store[s[i]] != pattern[i]:\n",
    "                return False\n",
    "        else:\n",
    "            s_store[s[i]] = pattern[i]\n",
    "            \n",
    "        # check that words match patterns\n",
    "        if pattern[i] in p_store.keys():\n",
    "            if p_store[pattern[i]] != s[i]:\n",
    "                return False\n",
    "        else:\n",
    "            p_store[pattern[i]] = s[i]\n",
    "            \n",
    "    return True"
   ]
  },
  {
   "cell_type": "code",
   "execution_count": 11,
   "metadata": {},
   "outputs": [
    {
     "data": {
      "text/plain": [
       "False"
      ]
     },
     "execution_count": 11,
     "metadata": {},
     "output_type": "execute_result"
    }
   ],
   "source": [
    "word_pattern(\"abba\", \"dog dog dog dog\")"
   ]
  },
  {
   "cell_type": "code",
   "execution_count": 12,
   "metadata": {},
   "outputs": [
    {
     "data": {
      "text/plain": [
       "True"
      ]
     },
     "execution_count": 12,
     "metadata": {},
     "output_type": "execute_result"
    }
   ],
   "source": [
    "word_pattern(\"abba\", \"dog cat cat dog\")"
   ]
  },
  {
   "cell_type": "code",
   "execution_count": 13,
   "metadata": {},
   "outputs": [
    {
     "data": {
      "text/plain": [
       "False"
      ]
     },
     "execution_count": 13,
     "metadata": {},
     "output_type": "execute_result"
    }
   ],
   "source": [
    "word_pattern(\"abba\", \"dog cat cat fish\")"
   ]
  },
  {
   "cell_type": "code",
   "execution_count": 14,
   "metadata": {},
   "outputs": [
    {
     "data": {
      "text/plain": [
       "False"
      ]
     },
     "execution_count": 14,
     "metadata": {},
     "output_type": "execute_result"
    }
   ],
   "source": [
    "word_pattern(\"abc\", \"dog cat dog\")"
   ]
  },
  {
   "cell_type": "markdown",
   "metadata": {},
   "source": [
    "## 412. [Fizz Buzz](https://leetcode.com/problems/fizz-buzz/)"
   ]
  },
  {
   "cell_type": "code",
   "execution_count": 59,
   "metadata": {},
   "outputs": [],
   "source": [
    "from typing import List\n",
    "\n",
    "def fizz_buzz(n: int) -> List[str]:\n",
    "    '''\n",
    "    '''\n",
    "    store = []\n",
    "    \n",
    "    for i in range(1, n + 1):\n",
    "        if i % 3 == 0 and i % 5 == 0:\n",
    "            store.append('FizzBuzz')\n",
    "        elif i % 3 == 0:\n",
    "            store.append('Fizz')\n",
    "        elif i % 5 == 0:\n",
    "            store.append('Buzz')\n",
    "        else:\n",
    "            store.append(str(i))\n",
    "    return store    "
   ]
  },
  {
   "cell_type": "code",
   "execution_count": 60,
   "metadata": {},
   "outputs": [
    {
     "data": {
      "text/plain": [
       "['1',\n",
       " '2',\n",
       " 'Fizz',\n",
       " '4',\n",
       " 'Buzz',\n",
       " 'Fizz',\n",
       " '7',\n",
       " '8',\n",
       " 'Fizz',\n",
       " 'Buzz',\n",
       " '11',\n",
       " 'Fizz',\n",
       " '13',\n",
       " '14',\n",
       " 'FizzBuzz']"
      ]
     },
     "execution_count": 60,
     "metadata": {},
     "output_type": "execute_result"
    }
   ],
   "source": [
    "fizz_buzz(15)"
   ]
  },
  {
   "cell_type": "markdown",
   "metadata": {},
   "source": [
    "## 1071. [Greatest Common Divisor of Strings](https://leetcode.com/problems/greatest-common-divisor-of-strings/)"
   ]
  },
  {
   "cell_type": "code",
   "execution_count": 61,
   "metadata": {},
   "outputs": [],
   "source": [
    "def gcd_check(a, b):\n",
    "    while a.find(b) > -1:\n",
    "        a = a[a.find(b) + len(b):]\n",
    "        if a == '':\n",
    "            return True\n",
    "    return False"
   ]
  },
  {
   "cell_type": "code",
   "execution_count": 62,
   "metadata": {},
   "outputs": [
    {
     "ename": "NameError",
     "evalue": "name 'check' is not defined",
     "output_type": "error",
     "traceback": [
      "\u001b[0;31m---------------------------------------------------------------------------\u001b[0m",
      "\u001b[0;31mNameError\u001b[0m                                 Traceback (most recent call last)",
      "\u001b[0;32m<ipython-input-62-9615013fdcef>\u001b[0m in \u001b[0;36m<module>\u001b[0;34m\u001b[0m\n\u001b[0;32m----> 1\u001b[0;31m \u001b[0mcheck\u001b[0m\u001b[0;34m(\u001b[0m\u001b[0;34m'abab'\u001b[0m\u001b[0;34m,\u001b[0m \u001b[0;34m'ab'\u001b[0m\u001b[0;34m)\u001b[0m\u001b[0;34m\u001b[0m\u001b[0;34m\u001b[0m\u001b[0m\n\u001b[0m",
      "\u001b[0;31mNameError\u001b[0m: name 'check' is not defined"
     ]
    }
   ],
   "source": [
    "check('abab', 'ab')"
   ]
  },
  {
   "cell_type": "code",
   "execution_count": null,
   "metadata": {},
   "outputs": [],
   "source": [
    "def gcd_of_string(str1: str, str2: str) -> str:\n",
    "    '''\n",
    "    '''\n",
    "    gcd = ''\n",
    "    \n",
    "    if len(str1) >= len(str2):\n",
    "        gcd_check(str1, str2)\n",
    "    else:\n",
    "        gcd_check(str1, str2)\n",
    "    \n",
    "    return gcd"
   ]
  },
  {
   "cell_type": "markdown",
   "metadata": {},
   "source": [
    "## 1390. [Four Divisors](https://leetcode.com/problems/four-divisors/)"
   ]
  },
  {
   "cell_type": "code",
   "execution_count": null,
   "metadata": {},
   "outputs": [],
   "source": [
    "import math\n",
    "\n",
    "def get_divisors(n: int) -> int:\n",
    "    '''\n",
    "    :params n: number to get the divisors of\n",
    "    :type n: int\n",
    "    :rtype: int\n",
    "    '''\n",
    "    store = []\n",
    "    # get the divisors for the numbers \n",
    "    for i in range(1, int(math.sqrt(n)) + 1):\n",
    "        if n % i == 0:\n",
    "            store.append(i)\n",
    "            if n / i != i:\n",
    "                store.append(n / i)\n",
    "    \n",
    "    if len(store) != 4:\n",
    "        return 0\n",
    "    return int(sum(store))\n",
    "    "
   ]
  },
  {
   "cell_type": "code",
   "execution_count": null,
   "metadata": {},
   "outputs": [],
   "source": [
    "get_divisors(8)"
   ]
  },
  {
   "cell_type": "code",
   "execution_count": null,
   "metadata": {},
   "outputs": [],
   "source": [
    "get_divisors(10)"
   ]
  },
  {
   "cell_type": "code",
   "execution_count": null,
   "metadata": {},
   "outputs": [],
   "source": [
    "from typing import List\n",
    "\n",
    "def four_divisors(nums: List[int]) -> int:\n",
    "    '''\n",
    "    :params nums: a list of integers\n",
    "    :type nums: List[int]\n",
    "    :rtype: int\n",
    "    '''\n",
    "    store = 0\n",
    "    for num in nums:\n",
    "        store += get_divisors(num)\n",
    "    return int(store)"
   ]
  },
  {
   "cell_type": "code",
   "execution_count": null,
   "metadata": {},
   "outputs": [],
   "source": [
    "four_divisors([21,4,7])"
   ]
  },
  {
   "cell_type": "code",
   "execution_count": null,
   "metadata": {},
   "outputs": [],
   "source": [
    "four_divisors([1,2,3,4,5])"
   ]
  },
  {
   "cell_type": "code",
   "execution_count": null,
   "metadata": {},
   "outputs": [],
   "source": [
    "four_divisors([21, 21])"
   ]
  },
  {
   "cell_type": "code",
   "execution_count": null,
   "metadata": {},
   "outputs": [],
   "source": [
    "a = [41803,23291,54272,48865,88774,73382,38627,15683,95593,19987,90376,38169,39495,22744,48538,43917,62055,9080,26193,10857,88835,38149,4485,78485,93563,37204,45725,41621,8280,32886,71834,42948,36623,68225,39922,84709,28613,42338,69026,70139,42110,2913,7113,77685,53361,27882,48818,73810,16362,43300,62940,58907,85489,30429,48187,92733,97577,76304,41755,72783,18355,58319,1232,49045,86937,95923,15170,50170,35030,14124,96566,98532,41624,91599,96970,97894,80710,50326,29029,50784,3861,49838,30781,51028,93921,53234,76532,57659,75713,92299,40190,56459,23448,37399,27895,72669,99850,62107,80724,14616,36115,84061,16024,38198,5332,66172,7291,66785,10067,7806,38520,31497,34785,63126,63763,27701,89501,56131,61687,93018,35478,71906,20194,47800,34969,51513,88542,38039,73496,8840,89011,61179,54943,56695,93505,34544,49808,30194,1455,60020,17233,81575,68289,14492,26516,34262,44206,11926,8364,72733,29064,60082,5357,2604,17417,14451,50122,39933,78863,57219,39238,85652,50255,46574,56250,13195,85849,29403,94799,53344,72792,16513,40217,65690,984,68091,1470,51369,47852,98305,89403,85303,62984,28661,57922,6413,73651,78582,721,84150,489,90625,82725,59504,86479,27136,93296,20663,72613,42612,78003,24367,26695,34090,72546,4939,59016,77444,56151,72472,94089,55302,87557,84782,16741,25232,4637,57552,7380,38808,12611,49369,68992,43241,53846,54576,21877,24155,33371,51156,16570,85524,90470,25370,43465,70271,75761,21426,35477,35481,57618,49021,3347,71790,49858,36175,94316,34994,81236,62049,43613,40248,10901,20329,86809,80640,81297,33847,77277,25877,89407,62598,77607,65863,11916,8449,53586,96343,48834,41458,22163,43366,57464,32390,88516,26222,43323,54225,98209,32542,6405,46027,92376,82755,31491,7571,21059,51015,39972,2548,73187,97229,38583,27479,4510,27711,79531,19920,6452,37463,67428,13474,62663,22452,44342,12899,34728,16756,36139,3357,17277,48784,60754,31004,33478,77528,25805,10816,69372,34667,41051,26965,98418,9534,36759,86316,80208,95599,97070,91142,50633,28564,65996,98322,47324,76828,21750,6137,99286,48479,71023,76496,53709,70879,68766,89088,96847,70084,11037,91984,47995,29743,29531,52636,86320,70694,51872,86634,27463,80388,43232,88125,61871,41507,30601,83158,44174,30596,10160,24510,65952,90177,69552,71006,65596,39234,94440,87904,39899,14331,60203,4799,20852,50131,61640,80426,39171,7785,34071,84967,21300,16059,22093,41885,92036,51284,57376,63573,59510,13694,9349,99721,16714,19483,78775,65989,82208,31709,27645,49651,42453,89369,32712,58769,8780,53873,8097,71058,96803,94212,25437,46800,31479,47089,78968,25851,41321,55153,26410,51823,46118,49872,5701,55259,23840,54958,29160,74570,54726,99847,98964,91021,82811,70050,80339,45387,69996,18534,30111,84576,90922,65723,60900,50909,92927,79975,763,46834,51691,494,54184,28032,95614,92610,13620,97053,24913,82271,23895,15028,29445,2700,95174,82298,68217,4986,60368,94579,86463,68522,36913,24122,6623,63047,66837,52939,71065,1524,50908,1458,98615,40984,94016,6184,38845,19373,21211,6669,38758,1889,67117,65752,28543,1460,53726,78375,46041,97596,35694,58217,38026,89205,96894,71331,24629,15542,20145,13829,68816,71544,29306,59592,93734,28004,21534,60483,99534,3350,75377,53242,52987,86259,73366,29718,35051,8128,18634,32626,26617,20010,58309,25311,67108,61456,50815,24399,94853,20708,7385,77977,9032,74182,19054,3534,91093,53976,62362,68362,82489,64001,91718,85023,37048,68592,33687,83913,71568,52256,92273,23291,17436,44043,66728,21534,28212,63502,7079,61811,24357,8201,99841,82383,14453,78945,98082,3257,25072,52295,1728,30953,74732,90988,86518,2472,2718,32688,28945,14081,13143,72443,53481,96176,30952,29155,7282,13824,20721,58772,28510,31263,35619,16472,89941,84380,34981,91097,82269,64874,65555,98969,68643,88507,52802,8351,20200,26986,74689,56901,16041,9230,81670,30447,18058,86689,72769,83512,66245,68877,46290,59519,99385,78663,97241,40918,76907,84322,58781,64072,74479,25091,41785,38957,82668,68935,5279,22277,86163,37069,21361,98728,60276,17760,41332,11348,43549,7846,3393,27006,57183,64681,55714,47115,25720,24708,23559,48792,98800,95306,82865,95508,32884,80612,87663,15436,91359,74081,59401,35536,44677,2217,34618,59879,56032,87345,64749,88719,25929,87794,15997,15521,4104,2054,77586,95021,53514,68153,14520,92802,19699,84773,56959,20867,52525,88464,32319,90273,21588,8694,95956,86945,79672,10279,1267,41910,40897,85052,47775,63807,46059,74643,99375,96905,40807,32510,37677,18511,31701,97884,92520,61494,89480,98651,67514,73372,99318,38919,99000,88196,52638,31635,64538,91284,48254,45170,79310,73352,12447,86403,61396,96227,52058,93204,36722,3413,8170,44252,94268,35045,24348,74164,28222,3762,10295,62741,25867,16418,5530,42226,26797,3147,4761,54867,96007,22304,46149,13118,54885,19710,9811,16009,61253,87739,83848,85759,7494,95648,73192,45105,57000,25477,10996,13947,13666,5324,75633,55020,42775,4126,87879,96229,52592,58295,25755,84399,55872,47785,57588,27074,98409,46161,58241,73571,59184,27660,79911,31798,71131,21213,17483,91754,93259,36385,70383,91049,40694,18544,18242,39600,52792,48239,86256,92014,61910,18406,5638,22992,46998,11217,52782,15617,99805,66217,46615,77653,81529,66882,74598,28144,32501,64545,82699,42175,38369,7227,90360,65729,47472,68228,11899,52524,11433,62973,22441,33917,26604,45295,5177,21924,56021,74583,68138,82358,46000,51044,58606,83010,21463,21469,65517,16437,43004,12468,78438,26906,11052,89090,46530,708,26779,61963,16721,92987,22361,97090,641,72038,21853,58529,37721,82670,7630,39943,26094,31761,18974,43598,54322,16685,90115,70514,86632,52769,45019,44657,24894,81306,62974,21503,57138,72234,95412,34374,65044,3874,59430,2806,72927,11241,8303,20013,66134,37710,12015,7782,97808,72923,81490,15330,13667,63344,42602,97070,37330,97908,51339,38334,64940,40912,30808,16598,55974,43306,61673,65633,8977,67456,93034,11983,29297,58146,71510,522,70117,37378,94474,86771,94098,49394,24089,79649,49982,53725,18700,61417,75645,66899,53600,15411,51264,74866,47226,88806,8023,25392,53950,71134,32464,50818,5234,19326,47808,8685,82750,20383,94391,29447,41243,41883,54754,39126,41565,43845,97474,11475,77983,81691,42818,46388,23860,84023,67347,56402,34567,69566,55784,71098,94969,37137,36103,80397,40432,18977,63897,49750,12863,47574,82535,76598,11795,54041,80822,38247,54231,11377,5326,11804,7990,37378,6134,54217,90744,58701,69696,89125,13885,32723,14047,88200,1101,72395,18066,65183,31760,34730,41505,55924,90358,95060,29684,83934,66214,80666,97592,33028,25693,88900,98348,28792,59607,4363,16752,31566,60710,48317,7716,86033,89662,48330,91037,31189,68903,513,16377,67317,67669,14547,2070,13080,16648,91864,84695,58137,3794,4900,78934,79396,16597,70489,67071,27829,267,86404,9697,52775,54785,17392,80564,9786,81534,20255,52632,3957,25208,28509,93114,23244,42566,10974,44201,94453,32381,48658,62160,79229,88315,67245,37488,93480,70538,73999,51688,53002,49566,85115,54976,17412,56866,42754,18526,44856,64243,64009,31549,68128,77318,16745,4828,95636,30757,79434,95986,10265,40544,40961,16424,60400,82730,85737,34899,90748,30869,65179,4292,73724,48421,39617,19172,97508,10546,41699,17900,31651,76546,62666,17880,69460,9000,83516,41408,92068,97691,69244,26284,88702,80873,81640,17394,94446,62437,52748,42592,228,37816,83030,4913,59938,96804,89189,81684,65966,49578,58160,93315,41309,18682,59914,98863,85429,18397,36606,73346,38192,30357,45413,26586,79734,9631,66802,88982,12439,50270,8189,66785,71534,83747,41593,27285,72391,15597,83354,97847,4462,59119,81806,78314,57753,19457,79240,11069,75027,75069,62821,21138,73044,8591,38309,29227,77650,87560,62277,9540,10354,89550,7407,7080,53658,44703,2511,35684,2198,70780,35279,55065,17888,29368,70920,83386,76567,67472,12045,86959,32035,98275,82752,76304,96350,76410,15407,91801,56339,16900,63995,61888,7097,65122,25492,52048,35380,67933,81635,15129,14922,21507,48303,72095,90469,31789,46517,18564,32582,40706,86222,84568,63263,95022,96495,77131,56143,62071,55573,85792,55853,89920,25575,62759,76311,43814,68434,73292,66734,86987,53517,92726,39452,68718,21430,12186,18206,94269,39324,33710,46509,54388,5148,2927,75786,58965,22984,35558,29862,5056,58603,71648,74981,22588,37826,78637,12701,17459,74730,6972,17855,19278,155,36071,7352,42508,84706,70257,71999,31235,69192,5030,85080,28682,53788,14740,68659,80594,50683,92977,30990,74433,30474,78504,96935,66274,76247,70790,93314,36771,26470,8702,63853,99414,16017,42732,19572,84114,22742,57558,36178,45865,32502,30782,55421,91536,99092,43118,96702,93383,50780,44548,53067,91174,94585,99579,93670,63412,50243,35961,92132,35334,2288,70535,77760,36421,50545,7647,88571,28804,97520,6012,65889,57622,64211,95056,61425,6287,4018,53117,97157,10531,15907,18631,52260,35718,73055,57511,22357,87562,2710,54881,99300,77631,25551,70318,27432,13700,73178,40555,31596,32073,66895,88521,99112,70476,13165,45585,12993,94045,54203,65866,164,61436,58000,18052,91992,4631,15464,82625,26353,53466,29589,2300,18090,24650,22694,31292,1236,64124,72443,57405,87076,35324,3890,14375,28582,2578,99425,81315,68668,14213,39366,20434,56321,97870,46636,87539,63070,51454,55932,98898,69503,45876,60686,20975,21320,44266,41696,17159,47742,24532,46014,16934,1567,48686,83211,95844,89878,41818,45883,24088,8133,81371,2879,14565,47106,25312,47292,40494,48828,75328,54819,2190,34515,10806,10536,78647,93399,90860,64639,64800,49787,12666,50502,52820,89828,47682,12234,25943,16215,79579,7069,95809,23680,13808,45076,38807,19820,11294,56913,62620,33654,10062,82793,61109,16009,82919,78834,39056,91618,79889,5755,98655,33188,48949,11128,2134,7616,33232,4627,61389,57734,25323,32389,42427,11341,44927,3424,32035,94190,99148,64783,62204,79413,91199,69519,56148,5939,29491,35841,84904,58176,73085,25329,46235,17882,93684,29502,21420,86839,62963,31689,62043,17816,16795,86566,62180,57497,78856,64492,98421,50700,58940,72514,40844,61308,6173,47133,46380,68998,50470,82101,39694,79938,46142,54355,84208,4577,82484,95223,52082,96966,49305,89163,84438,76081,9976,37261,86409,6780,18656,66512,66212,56900,26696,46561,98883,95644,26910,19226,74432,30817,59215,70382,37316,67248,51657,44046,82340,26025,80395,55577,83164,25949,74527,17357,19157,63519,40959,47791,61033,95258,78229,92141,45564,41617,4903,98978,79255,10767,14008,90524,34412,82483,16125,49470,11878,15521,60074,32387,54942,2762,86403,31937,20162,7109,37499,98194,42325,95938,71691,29684,11707,57267,29675,23603,77300,96383,28871,38179,95956,80766,54125,4666,56272,30547,28501,61267,35365,48784,77573,34715,12693,68732,57423,7115,69386,95571,15322,43944,1810,96868,22838,69034,34723,90377,90534,59150,84764,10497,35636,40842,52075,56685,55363,829,42793,69714,55121,33627,96654,55950,19676,30351,81840,83430,50619,44224,44216,37733,87739,44558,12963,14582,30450,32534,97638,86315,23103,96386,70800,91213,40251,77628,31291,51108,5741,99608,78044,50273,49681,55138,99797,20759,47619,74826,14672,36621,51103,71098,28868,94836,44254,36437,68390,14720,59695,27065,47919,86274,87275,30936,57901,50612,78281,93948,72203,64610,80479,78239,16960,47072,37141,39917,46064,39656,31871,17324,99834,88846,25574,84865,67029,25567,63961,53981,94129,46372,89710,1911,72274,92354,19487,33744,27421,71785,21239,8064,89992,51627,81119,2111,27855,2816,60731,52827,56168,71589,96307,79275,55128,33635,78489,58642,3947,75117,67698,16938,94785,23446,24198,48580,72543,27064,26467,29322,18157,63347,27843,98472,27205,84161,5751,35963,39767,17070,98775,73322,51322,71320,92133,82964,23733,57247,70342,26154,16721,84797,93549,31933,34569,80747,67863,14151,9238,50854,11126,10313,46327,64196,87657,75213,57065,1789,82870,75776,44666,38371,20860,25748,94117,12708,14583,68031,20348,12735,15730,61147,71525,89654,82780,30837,1379,1106,78290,24503,90992,64205,55793,43746,60817,97894,39547,53370,71002,69053,44764,50969,33488,3085,92709,87433,91606,16633,87362,99206,37032,46657,3676,74988,77334,84092,83526,21881,93999,88205,2880,24876,85715,17631,28654,53511,15852,72447,29819,11466,63341,49173,67878,40367,24258,8420,30220,35145,69969,20731,55167,86026,55489,88705,51318,44713,80616,67859,48623,90294,87163,75107,75395,82380,52470,85072,61567,16520,2219,31413,44829,38448,33581,30095,49754,8829,6392,80364,57677,20727,4530,20536,82242,60575,34995,29499,54437,17883,13910,34516,55257,71777,47351,8825,71993,14044,7112,19936,15938,3041,13316,74957,96131,39191,5359,50401,64018,54984,70693,45614,75094,81820,4734,15210,147,49504,1477,17742,27983,25768,37840,30736,96618,77382,90993,89361,82736,44512,27987,21062,54963,41013,92531,26884,99798,48053,71112,46994,81709,55583,28853,61085,46642,29237,28337,82522,20691,17676,51864,3351,29697,81274,32236,90852,40934,12240,43315,52102,48184,8962,1212,53980,7398,88251,21601,64499,85970,1557,79044,32070,71034,63687,87391,79235,60021,96480,74919,18120,98916,97242,71531,66173,55215,36357,81589,82890,23756,66166,50911,34556,82845,20603,77852,12264,97512,6759,40127,19296,88651,9000,12850,78497,48015,49622,28930,24975,53889,94515,50809,90329,97075,46770,43785,63908,45394,98151,86629,65222,87899,68337,25325,36586,27231,62914,42328,60751,64182,84827,3528,7394,98865,33618,17048,91070,55356,83621,51768,4374,91404,44623,87029,95599,51445,91925,59796,7719,5162,19269,68421,85219,91494,85532,59695,2845,60148,29584,55634,54335,83768,57986,80094,62550,46121,16178,11313,85942,63793,60325,375,39961,54523,45282,89267,43173,19133,95946,631,34779,83175,97386,57150,37327,52874,60800,91343,30819,92701,77108,83276,86460,21191,24854,87912,30836,20922,13817,59992,62372,67481,2627,52999,13807,73638,44024,25298,26039,35145,89593,86919,8198,41563,16338,52884,30957,54916,63675,80700,2477,59646,9735,71282,43462,66961,54915,57032,6855,99427,79995,29472,26570,18272,91218,13092,13279,36468,69938,44769,83832,21042,89892,86,49066,80401,79218,83861,7106,92152,59972,67639,37318,77114,63300,60813,17886,9226,12071,14346,92066,86084,94152,29756,61135,69429,36459,88320,82978,68261,18261,23685,82692,32459,8511,35967,24491,43142,62779,43059,33548,41448,39279,68702,65946,98755,24225,40351,14912,90926,74029,87431,36752,14972,18635,2720,92487,27097,13847,63861,50437,14249,55415,769,18821,72803,91648,51976,4028,65088,39379,49453,41313,11009,29013,28564,49103,54740,39405,40271,44909,6880,12096,32270,9110,32228,11292,72973,87865,26035,63816,9622,98611,26691,705,22980,5584,99531,4990,30269,23645,87845,33241,42182,66826,60080,65756,12712,49047,58450,96313,58614,18855,12133,30494,96365,48729,73702,25990,42825,11995,15840,14979,18553,1640,55908,52033,71689,72749,3283,39903,89473,27319,66415,84965,87556,38346,48183,6410,43338,26566,75755,82484,35811,87965,14784,13276,98020,30608,71374,96255,49291,97676,40140,61862,30241,55744,47547,61769,44979,68254,86437,82791,94541,77291,50842,50344,63017,87733,26753,30906,52145,56360,35671,49628,32380,54928,68746,25863,27676,56315,31179,95010,43429,13042,462,78438,46954,32150,93789,51878,24448,79949,68884,89061,80627,82949,8096,19629,50118,31095,59964,83160,39097,86314,4251,80056,10352,19309,58604,22431,98351,96033,31502,20490,20586,41563,80434,56278,50508,72580,23905,34067,21825,17304,47798,44182,39052,37268,35597,26395,90044,61143,4290,50422,54703,15835,53838,63837,17331,44804,65610,97583,86394,3761,16681,26004,84446,29054,10886,25229,84350,40276,84719,41711,29858,86550,41973,73411,68790,69760,28848,98761,55051,75381,55950,65435,32097,56859,99233,80967,4741,80841,70675,74446,1370,72015,95403,82660,25372,4104,63703,99264,36763,47985,96127,57667,43278,7593,93529,24619,77980,62171,47846,87334,33125,85897,45205,70100,56535,30010,37139,62972,68742,94947,86883,21476,41611,49417,71161,64724,29677,29307,72009,77850,53401,2498,98628,93247,58577,3989,25445,53247,67776,30105,76992,54178,64676,42062,14419,95509,81385,46003,44396,86529,62085,94712,99370,43078,81255,62702,10792,6500,98489,89039,64240,10492,38170,73796,39996,72470,53890,45828,50762,28252,19048,45995,84838,91319,82391,27506,54844,21918,13402,12481,42700,16009,14193,44443,61776,88089,52319,1116,73529,70940,38316,4803,37291,77980,91182,50573,40768,30467,17550,93806,14425,9181,26010,84130,83047,3919,69719,42549,24980,61225,14877,66404,70910,37775,17422,26014,30517,80288,81912,74965,36643,49791,84415,67385,85666,89788,1665,16290,34691,76860,28410,26647,91758,47545,52193,92235,31873,9653,92561,48590,40058,53733,71128,135,34407,65422,18080,99294,75942,63062,79408,91741,29593,13373,59893,41405,20752,29513,90569,50731,91502,69496,28319,21230,71713,50507,32564,7440,12413,39707,79234,3986,43463,25593,68864,52693,61759,88112,92734,83298,26791,78672,67604,49966,41241,48338,82513,35498,58375,33127,43536,69773,18818,14663,27318,32781,21240,37304,99514,50588,22183,77044,3808,97672,32228,6197,71545,69112,97697,42078,30513,93862,96456,73509,92630,75166,31969,27407,47731,98340,93905,35014,46849,20737,92496,35371,93297,27537,67548,36183,50675,29366,39100,32994,64297,82471,76449,12985,27266,48655,73333,60201,1326,23840,17937,16834,84625,38219,80416,815,81552,95146,10627,18685,17719,32085,30762,88232,71035,15991,11422,31925,62893,40799,83022,30605,77505,16267,9740,78076,80706,74778,74043,24783,56636,8786,71226,6201,8935,78872,57145,90311,71037,56008,54919,2803,38572,15766,7478,35871,55280,36695,30101,12801,53018,20356,18988,79889,16741,3361,4338,22303,32053,70724,43747,32198,84326,71409,13515,2856,97161,7658,89598,32217,59183,4642,38924,44846,70411,76863,4371,68743,42174,490,4196,78862,14676,66276,54955,20326,97179,91110,95163,23573,11976,69035,11380,82052,5629,76504,45159,19750,87461,84711,42678,8127,71992,74207,12671,68627,18382,69231,41245,3148,11750,99725,511,55806,68014,7886,88458,66308,37502,84230,32180,70323,46739,19394,8928,71857,71587,79003,99552,6110,60807,39690,84120,58452,74492,16964,45344,49181,33301,44222,62847,7729,59901,86516,88715,55583,90199,24769,53193,22736,5751,92479,11397,48133,76996,42439,97309,76228,90797,56691,26198,30199,19605,88128,52447,63106,76878,61681,71406,97170,94112,85041,25362,53503,91887,970,41736,92334,29678,8104,61777,91659,39469,69288,23014,93831,87315,74344,79060,31875,76617,1788,75740,61905,10321,13769,21596,83633,11863,32679,35808,41315,2830,35848,32719,68550,35617,45625,11587,86025,47165,45603,54307,33031,49185,53190,57503,23069,11403,21461,62286,70070,13812,65755,63402,92662,18027,74002,8258,28312,23986,27048,74848,89445,87955,60527,64170,55192,11954,71512,25997,88704,67594,60952,93256,89919,26910,96195,60016,6412,36947,26644,13747,30082,78824,98887,39904,45275,64633,85925,60731,40725,77590,49303,58734,75570,45403,12692,97836,86508,3912,75966,56148,75921,48247,16965,38991,24549,85228,99316,36129,52135,33467,68751,27161,59416,38219,18326,2815,59993,5817,42248,63304,78615,14522,58358,68717,24880,45138,79966,45552,34483,75839,16890,62735,18146,87388,14022,57100,51189,70073,74816,5018,14101,29247,16454,52340,33656,95051,45265,37710,89615,13366,89631,26060,9881,97894,27385,19095,1273,48021,9425,88958,98262,41601,43819,11117,80075,14503,57443,9590,48888,79058,43805,87963,66775,49385,72348,36942,46094,6727,68812,79763,38193,71510,60612,38765,59085,71886,56122,80319,43519,53626,61870,2677,1583,70060,60746,57185,95004,9309,25161,89637,48553,46875,84300,11397,90275,20016,53714,77017,44666,52404,23617,84832,45289,65471,23668,26197,27735,69737,42169,33656,44172,82663,10118,54292,26480,20145,67563,61194,40422,13736,58180,94892,54872,55219,46354,12097,99510,65321,67126,93272,74902,30098,43089,25784,60991,26815,7225,34729,24227,22833,24462,23260,19878,64880,39473,99831,59371,41866,49237,71776,15163,96021,32689,29602,43900,34197,44008,82976,59230,57009,87820,14382,90881,46404,75252,75455,92437,8906,34363,47644,61191,5083,11657,11135,88785,28356,46303,7455,91250,59646,48880,88518,7146,29428,85445,2045,94872,65059,44808,6143,91791,92596,62463,33955,3357,54041,7094,74220,87956,27237,27663,93569,66614,68159,33956,71580,57961,16163,70243,14725,42061,5667,46768,69167,99915,22773,82461,77346,52548,51902,49349,50612,7102,13002,69140,10155,66195,32619,24144,75211,65706,99678,24232,14630,69648,37972,81132,5908,68665,22865,78910,69814,1834,75914,97816,96859,22039,64252,74437,95816,27051,84375,34762,47534,42190,45810,10283,81334,1203,92259,68966,73,54133,66777,68235,95328,88354,72883,68614,48426,3075,51698,13902,10132,37692,78196,95298,81722,14722,36777,14044,78436,7890,75075,32325,25758,96848,24412,55206,12374,52555,9433,9612,31845,70646,57570,65590,56993,13581,59749,73796,29023,14091,33439,92310,24435,63264,13348,50140,75148,86836,56578,69101,61352,59091,61100,17145,65811,88744,65540,73577,51544,6486,74478,19023,14760,36501,74888,63824,5949,64991,63353,692,91349,28755,19364,98844,81526,58889,45806,25112,59549,49759,54554,37285,55299,7749,83895,25962,56930,66738,56107,99545,53600,74462,8138,78675,5155,29247,25042,13451,57237,4687,93463,60120,30233,73321,10231,28363,72223,76480,14974,64249,51440,76038,7196,89966,3611,48943,34951,71414,47681,10661,21503,33177,83552,9360,89758,48195,77889,25989,8088,56486,75964,68834,34034,79473,33885,59188,17812,65562,28706,49197,94423,91150,56950,55261,16250,47327,47667,50731,53162,11642,20431,26016,50808,14399,83062,84734,86688,61472,22561,94269,75392,60943,4773,26371,24376,24498,70593,86112,2402,96633,48868,73055,67191,91905,21383,25384,74614,50282,12884,77286,38014,79525,86602,1246,43521,56787,43836,6572,25559,12201,88687,96492,51820,94517,50697,11894,9585,71964,22684,33829,47650,57335,96972,60633,26536,15998,53744,44387,93966,11975,69113,81691,35357,99452,48390,49870,33233,95661,56533,83322,16724,52307,97249,72219,31817,86147,1044,36567,34274,20659,13946,27568,21613,6866,60375,22773,99893,31029,16986,36620,88952,26859,22031,8076,44896,98534,70468,38146,57014,23904,62492,81901,83344,58378,89412,80631,72260,66909,14223,92449,38974,87314,31055,51609,94532,98432,83676,86919,27350,65290,98359,44572,94167,93963,99432,53085,76563,44967,11124,72896,49347,80063,18303,70167,59221,17939,48129,61622,68104,77522,84607,72182,37781,77188,38988,15013,85303,5166,19174,81175,40721,77649,35909,55693,41844,46939,5960,86309,95688,76164,98865,31769,56679,65991,56975,68651,77627,23016,13534,22226,74646,7248,24750,23678,55622,46459,1180,90278,18765,62452,85276,58048,8901,62083,37150,95838,95667,81035,47318,65058,39703,33762,4680,96660,55457,90488,70118,64259,96958,94743,55299,91724,12832,41642,31283,99825,7949,38560,11510,63774,77455,73264,82840,59476,58170,43305,6671,10040,55001,75991,7234,73928,69874,22657,3099,20932,46808,26962,57998,44386,7878,11146,9439,32893,7073,85596,51077,71278,96669,32512,4572,75542,16706,88358,49471,61545,34478,98685,96489,48451,42989,45810,38024,19352,98905,27996,26350,51139,18834,40654,75077,10065,79590,15094,12703,23958,35776,75069,90132,41851,16761,15140,11888,37140,47718,62590,41635,51010,85861,17387,36893,29638,8528,58203,612,38203,71256,32947,72100,20128,34557,36926,39067,9525,82652,53426,7918,33701,6367,93358,74790,27925,85266,65399,22457,4160,16232,36480,49192,39643,14120,8465,25433,70781,28878,1139,18914,30597,10752,78645,58359,96287,76645,37410,5849,83980,89083,67372,54049,69842,34662,51901,34263,68853,36136,20307,35984,29416,40052,85856,57442,37227,57601,74583,91789,45266,846,56301,8607,34267,47148,46690,26586,95166,11874,61296,82749,82023,17487,8625,43469,78214,25852,72009,1082,77576,67153,28308,24278,7482,89600,22346,70793,75929,69672,89462,24895,77509,16731,99381,36126,26575,18908,55177,94407,81319,56840,20470,80797,99408,52024,80287,2906,46446,68907,31631,55414,22045,58179,9289,30961,33739,87076,9376,85157,88484,24910,66944,57867,83341,24380,84205,14494,51308,51201,27333,77574,79217,19999,18903,61343,32926,923,88831,78990,92776,10146,77265,6194,71925,10753,18258,89122,81034,63096,89100,25696,44571,3364,87261,1606,36222,71713,53222,78970,91998,76492,75986,17004,94738,11505,14400,24213,83917,58951,21064,45088,35652,8952,50416,48722,49692,70261,5589,19738,72269,89910,36884,41705,38763,18942,84476,71665,99155,6828,82516,50274,1873,58316,1358,49231,54640,88506,72602,22909,73012,8163,77159,34590,25103,57341,34872,37010,63222,66329,99929,5838,96660,88214,35252,98349,71951,52180,97483,28238,36144,36133,28691,51308,20869,6045,49964,93779,74331,36820,38159,67706,89159,69983,69731,51255,68152,2553,66503,73679,17784,6131,91414,68201,53837,33781,31131,69687,19468,96148,8036,44295,64542,79075,23995,9222,51379,82968,2536,78110,67222,79616,31152,86986,42946,58774,68897,51016,74787,96858,50212,44226,91783,4259,58890,3533,41918,39175,46581,22233,67801,31408,43588,97397,9965,749,7796,76038,19839,403,44419,63655,40371,35133,49497,88435,38997,60532,65189,2129,21834,86454,55155,84975,77476,97370,58367,69074,50431,8806,21883,55964,56863,91755,16263,81000,43163,41021,70066,89736,15250,76439,5789,24107,48815,7425,80039,37708,15113,1766,32448,97658,50684,19906,58997,68043,98788,25720,54163,92222,4184,87972,41802,36625,9412,98209,64716,59384,63158,71777,89180,61193,51160,1225,77539,1500,22546,86479,1080,58041,53774,47520,12358,26086,75477,3213,31119,31405,9308,69137,80853,17746,53944,69058,35232,83728,8188,68512,1546,3410,35541,45146,83959,98722,79853,53060,42822,83809,5288,38576,79009,31188,4024,52330,99581,65339,2508,54666,34188,96119,46818,56407,70278,17916,3811,5240,56473,56251,90160,24772,8320,35581,39961,1908,13497,52241,42509,67346,17800,63738,27579,37780,84053,76168,76356,51858,49445,68214,67927,58121,67895,57907,84355,76550,58542,85857,13764,23901,6514,95412,2881,74015,34380,7532,13345,18937,62072,85044,47090,15599,85528,57488,39550,34358,94043,11642,70487,60524,59508,34404,41664,79710,89880,32358,59117,18230,8565,87569,92630,40918,39097,51062,83470,21947,32894,71853,95109,56470,99980,79345,35664,7988,11418,21285,10720,17955,71371,8674,43988,81641,19212,62515,5983,91827,82047,4286,82774,4011,73896,31117,14690,76630,4705,47700,66569,92405,21425,27105,88779,62245,56911,61896,14305,53081,92608,3494,32598,80216,17064,96476,91098,50241,27964,11495,87167,6369,6025,77819,69559,98669,53440,25366,23942,67915,93451,45337,46127,34796,85254,38771,80703,86965,99338,17489,54715,51514,23693,29208,33936,48367,65523,28703,21433,44180,86601,79730,66374,79159,8734,97819,23871,26963,4140,51506,71939,33517,84704,36381,99154,90785,62586,26597,1099,75390,66186,8380,10044,93606,94934,96514,49979,10532,28997,60820,61233,71185,89189,62795,68167,47663,31153,92797,64469,26654,21482,80429,88931,93572,82356,90958,40679,42332,43579,11834,11755,9984,22081,12673,56375,36284,86459,86802,25690,6431,94882,84675,47974,28449,65081,27887,91815,78945,22144,75762,65590,94859,51188,54927,78026,92504,70173,33307,2411,1830,48823,65451,29278,76087,46934,38306,15313,12036,49021,74207,97901,22898,54730,87928,83713,50616,95933,68270,13179,8056,69564,36174,54239,14810,39766,97160,82668,50285,81292,19732,57897,64032,39435,18563,17956,21559,5635,31022,9434,22025,82613,45950,24353,68585,44782,71954,48897,37153,30417,49282,82080,7909,22585,84419,24951,93313,20864,95697,68258,81335,50126,6966,70822,5676,70572,71833,35964,20724,3570,44480,39810,44223,40397,95133,51969,11400,70079,34180,83855,48958,19827,36167,74158,88281,82440,47996,319,35660,80679,44345,73003,36721,5537,88138,83965,61683,79020,47728,43298,88336,29073,9199,16976,95885,18517,94285,25748,21401,30946,4721,19800,36981,25162,16151,98302,66067,16974,93850,29836,51333,73004,36447,8420,27762,63905,16152,61623,19208,38922,13646,76008,88748,18428,16875,86771,26550,5026,42006,72426,40543,91918,60944,9740,25401,83747,23870,9768,318,42051,65176,37675,42250,66867,15181,91695,48465,61931,94150,25605,90347,84712,62362,88566,19129,10702,37760,51039,76272,71254,4974,49334,10467,63720,65754,94229,93758,28349,50114,63695,16731,30883,43750,40116,29439,40429,23569,13164,52812,51008,87835,89363,8996,95074,68565,3294,64533,62017,25131,50471,48919,83226,47814,47432,10752,89346,90302,24292,95938,42628,74070,93605,82243,41370,78259,22716,27634,81930,30977,89415,27415,39513,74930,13527,30056,21886,49317,48265,47663,41892,69332,89302,87803,85173,18109,88468,96743,25151,38782,75548,90679,8758,1145,96637,18320,82332,94021,14834,71978,10744,78594,19925,1414,2478,75315,33314,47551,13730,39867,75959,71302,42991,50692,59193,17240,59040,47097,11247,77434,92330,25276,54042,403,27375,16775,96097,75607,51914,48155,72127,3347,2186,48155,74599,18845,29681,5534,89831,82597,29561,96278,29683,75872,68044,68861,96360,66168,43482,74741,29783,26261,81378,58129,87261,44636,42974,26420,46632,90518,48808,14071,67181,81501,71684,9155,86133,37873,90386,8274,44439,59164,92879,63585,50222,30483,88510,20628,40762,21254,45605,70231,80639,99294,89704,51605,94146,24727,76308,4308,79846,7987,6645,39194,37284,42727,73413,76534,8404,81404,72641,22948,22205,51323,20520,21050,4271,58980,55513,83077,15586,58532,66739,19950,75233,21573,37230,23738,64024,35595,44711,51220,15596,67099,12879,93418,65439,17215,93778,11410,17657,94541,80028,51024,98429,27654,83477,23153,59184,88329,58496,11328,81353,54840,90294,45321,91861,86108,54693,88275,32612,21723,77336,87635,19762,66258,7189,20010,62680,54328,78967,82326,51749,86589,84255,47844,30947,3056,91098,34903,48396,46161,15110,51031,81219,12006,20817,38520,6748,42154,30840,66563,75171,73475,24234,8930,3843,56869,60988,28140,51540,20533,44728,8766,14969,1317,5561,35608,73799,16771,95849,5050,227,5180,75568,66707,85692,33259,54000,53394,19233,65969,73330,78090,13090,64792,49326,70616,57802,80320,2003,9770,74696,65658,8549,31653,98818,52375,10669,84349,1683,40531,71085,84707,64788,31191,99329,84998,42403,4776,99869,37462,41535,51121,70753,63849,55529,97950,76153,11850,48508,47820,40046,96564,18031,16996,2862,82706,93031,6768,67911,99266,97466,86580,64545,3002,65290,38606,22715,68649,62112,78416,48475,87436,11064,59254,91053,39826,17938,28769,32782,71822,62584,94907,7188,57847,69057,86820,5308,18407,35488,74103,49384,28703,99655,30970,57235,85121,24671,5740,28494,56694,19455,38989,32433,38076,94134,75591,13518,90777,30387,72635,57799,58285,33775,38582,10777,27602,9939,74860,85852,85129,18235]\n",
    "four_divisors(a)"
   ]
  },
  {
   "cell_type": "code",
   "execution_count": null,
   "metadata": {},
   "outputs": [],
   "source": [
    "four_divisors([1,2,3,4,5,6,7,8,9,10])"
   ]
  },
  {
   "cell_type": "code",
   "execution_count": null,
   "metadata": {},
   "outputs": [],
   "source": [
    "a = [17595,45408,24290,47096,69315,76769,25160,29966,3929,114,20077,48750,30116,72075,10295,24275,55523,89099,40048,50416,82209,11088,58828,66678,12811,45689,12917,65685,74470,63698,48324,5412,8237,34089,11036,28929,77346,13322,69978,51168,70563,14447,49173,39437,44546,48656,52345,23276,6304,49450,31339,21733,97773,63396,25189,16131,16176,67381,18419,35606,21778,91374,46108,14870,68523,616,27722,48518,74784,80450,49762,1233,92482,39984,475,70676,63860,48497,93042,33234,96710,95201,38527,19272,97535,18704,70301,40104,584,27754,32878,60441,11634,20879,66646,70481,66787,27928,35714,22571,79399,57972,80139,98948,16053,52159,94439,81086,58090,88225,95529,15859,34567,83623,15733,98296,1614,86232,57223,2694,3941,61931,59286,6962,41068,76713,18773,17966,35677,11464,33713,72637,9059,34910,74297,59606,19867,23162,17238,16596,57756,60059,92444,16958,43359,86132,19154,31371,12518,13214,11564,24617,4695,44294,37075,64867,47462,73655,11512,70140,59849,10337,99322,487,46833,44881,78800,39479,35501,77083,65312,11489,55333,48890,89137,47495,93528,28839,36588,2314,84501,5580,58859,45341,54247,56766,21616,51392,15731,89577,63383,88453,53586,44172,63408,44387,51435,13122,2628,3209,62293,39566,56610,41150,954,55238,24874,43249,74083,15165,3004,95584,24719,61704,54093,12975,90625,18513,35476,82630,1974,16710,13852,40469,98838,15642,60253,67303,47954,51085,78309,12666,53580,70628,35737,11284,10948,45627,23918,18347,60938,3011,21013,90907,33837,83178,23975,47719,78716,69759,65165,61527,74210,57269,46421,72074,5551,82488,3236,61174,97295,20673,2845,64284,91728,3796,27187,6307,80317,49256,38661,81788,82174,42577,155,75010,62381,63160,54186,18416,42132,43516,60626,95653,8018,95560,68577,80014,32996,83566,35978,32835,95468,97647,13188,63376,49641,74799,34718,74187,46362,66188,20536,13772,77979,70629,36479,55867,72276,63870,31354,28446,51342,41536,82492,24260,51912,79334,577,2865,78472,31815,86987,71749,72948,49471,42124,49202,95772,96353,731,3737,76791,31893,76017,15579,49302,80759,16488,15332,62283,87593,50484,81146,85562,22640,44896,91706,96033,68810,73637,43386,24551,48761,77075,64007,33843,57380,59379,95174,23858,77007,41427,19822,92354,30036,74544,63023,20040,79132,37884,53591,3025,34380,3949,96735,12902,62543,58311,93473,27058,20355,21554,31201,11081,42376,12513,27852,7503,34457,65077,46178,170,30037,97050,87351,98396,23005,51959,68267,79835,77793,73869,37011,64195,82897,12902,39605,51433,59137,75,32580,28339,49270,87369,95616,70168,28935,739,6710,77883,25620,92454,75062,94894,93059,93544,37193,74444,93266,63556,44454,78516,632,31991,56332,6020,19738,45348,3479,91896,57795,3171,13766,13648,40269,10232,93794,20728,51795,16539,3452,88442,50416,4511,53579,70544,56624,15237,8021,53020,21603,72758,15064,22880,93994,70210,97474,96353,14842,12421,65945,16611,37635,31745,15419,49954,8522,47140,41519,40807,79041,49131,93630,17319,93054,1197,87002,86612,84070,80743,88279,47044,76457,48670,22086,9512,12948,88082,80673,62158,54023,10822,48138,67507,35947,53385,95762,90629,27041,79869,18126,64859,96369,39581,69113,78663,37990,86778,64337,52517,48811,54413,30897,2267,51202,25345,44790,98079,30887,3034,20950,32450,68502,10232,36272,47819,15149,82788,50785,47971,43258,15523,21593,33410,15839,28917,41775,89202,25853,80875,6219,26291,63781,11868,71908,28158,66236,36172,50801,86485,38219,57202,10080,54236,41326,59885,74893,72660,49068,75839,82593,41317,92721,8228,98324,99326,78766,65453,79727,2254,81331,69607,10670,13521,69551,72664,6843,11508,29230,92343,2303,89293,45779,70393,46465,17955,19372,52339,44265,32756,91473,65119,92294,19147,44850,75634,83086,1226,8392,44639,9186,92309,21408,34344,51062,59145,23495,53466,97056,40625,86589,76461,13777,62220,83864,68956,1250,64124,44465,91644,38992,54738,72958,10344,16327,89157,78552,32047,34303,93909,78410,2994,46995,67733,30605,30913,75343,18743,78604,69639,28016,19062,17379,92042,6469,10142,95897,28699,23341,73418,76050,31639,60838,96627,63775,73040,57801,3875,38500,57301,5425,12341,72257,71738,430,9893,16439,78140,70311,44734,3732,85815,48543,71831,62065,44511,35769,94547,99285,54072,16476,55665,4101,94760,53376,51060,44170,91933,54930,91130,3550,39041,88855,79325,43079,42891,64052,91756,72200,68538,56253,38969,39055,96352,65922,70048,71232,4993,74249,94107,98759,35974,54373,89915,23261,38141,11538,43703,18732,96624,55434,82888,91844,83331,65412,20673,75323,37652,32047,11471,95830,81943,47589,30319,33970,69478,44879,97084,99695,45541,71847,47028,57821,59056,84017,4079,95020,21162,10203,21751,32093,70098,11912,9586,23283,49819,74102,31165,85148,69189,51306,44099,78786,42240,79458,12718,77137,15909,31897,20559,44734,41603,93675,77768,92095,2932,53910,1490,96191,5703,12191,40718,66052,62778,2615,29934,43972,79282,38948,20774,40185,91266,82630,7778,97199,24035,26417,52790,98415,67035,3845,41973,46382,97465,86246,3546,74756,22443,45750,31691,31809,63170,90848,54336,96189,64266,13610,33703,85170,571,42012,89592,6721,90406,3894,18864,33778,97009,50393,92226,70707,20961,84816,86393,98647,13981,42289,27668,58063,66335,5305,78301,18739,55092,16721,79287,96671,74325,71096,7304,86115,38051,9098,86099,38653,84697,32009,73399,67370,30767,74956,43112,92405,83453,28007,7653,60387,18433,34561,14370,46301,84605,35506,34993,49074,34901,59813,39113,96232,4806,2316,43272,20052,26609,23277,82346,42870,49471,22782,84593,76509,56880,97743,723,32770,92543,24576,50976,74497,33736,63860,15866,45736,6979,35602,45544,57857,82496,75577,82517,36479,24008,32799,22648,7881,86709,85378,66488,45486,27808,77881,73633,9303,818,35039,68746,79451,57850,7528,75572,66728,41499,32169,48107,99591,45700,64553,92165,98467,24256,42452,49648,61426,845,63278,7373,63936,76867,3490,87955,73659,44775,33758,89286,55623,49211,77760,59288,21552,16662,77088,29476,3693,43297,40696,41453,15311,58037,58744,14837,2887,11420,32392,79851,14128,74010,29589,62305,44211,50018,98727,87758,76132,65623,82302,83397,60065,79458,22112,16618,3918,79399,82525,85678,31018,80364,64935,45700,13211,87299,34757,86455,87141,1447,53486,31085,37225,64567,69634,68930,3890,20274,61431,30081,22958,84949,930,78466,61206,89357,86903,99508,74895,73375,16938,21470,21286,63424,81672,98704,32851,46946,28825,30871,49921,68100,82207,78249,41068,77691,43744,93508,72266,37127,74072,73006,28842,74992,70207,45623,79853,66415,51338,82199,1310,10677,25786,52662,70070,5848,27148,78440,23503,48114,58493,41298,33788,90162,24744,41155,9522,41418,31440,88157,68115,81119,95078,93939,70949,61378,92733,77749,96035,94909,46434,65476,59178,15519,26061,88798,58786,68205,85137,94524,21908,46145,77979,15709,87133,74014,53694,57789,40647,87184,16586,51497,93226,51735,12054,69903,5846,55300,97124,96760,57197,70599,74615,96604,27775,9368,14388,65582,96321,99326,61819,3535,12436,84116,40580,93447,57870,53584,70115,82344,3998,45651,97143,43629,20977,31251,5097,40720,85590,31203,20096,49894,59368,84334,58469,95285,96980,80968,24017,27769,22927,35253,38836,33993,81254,56522,63701,44570,12708,9189,44333,34003,44836,95629,62962,21581,31717,78483,70592,50454,4726,79219,7322,98709,33367,12073,58582,93073,94456,90019,22553,23762,61378,28559,89649,70381,53373,5727,42140,49998,1068,34094,72370,5068,34355,33332,58492,91716,15503,93046,7842,94536,24410,69935,14189,23356,65606,19199,6363,15764,62358,55737,4914,30688,7606,12906,14592,99332,75730,18504,75210,71568,10457,63359,54716,5908,23749,69728,52330,75888,30990,79464,43466,61362,25333,2122,14860,52173,93530,62945,11826,51312,86684,2103,82738,70987,32326,91127,83773,49341,88674,64515,78796,9005,60221,97802,35632,87975,71347,45031,14233,38608,94902,91408,20200,57814,35996,70426,40538,2712,48901,32615,42946,55284,35752,66449,44884,21850,80,77548,2525,171,58355,79398,7898,90370,88242,90808,7370,4213,77128,96270,74521,43058,55043,70155,79784,48496,46438,12246,48639,60001,28032,63343,81813,35577,50487,62932,72896,72289,21867,9914,8237,41689,47079,86038,8609,26171,47756,16410,8212,35175,15389,76974,13594,39127,77369,52962,35404,3386,22507,99416,96620,95356,21818,34441,46613,51207,43571,87678,6563,16311,27153,55035,43235,92504,78284,75499,13904,21690,99722,34951,17858,51291,20649,80844,65444,53564,47852,83491,38076,30547,4516,40036,87417,61290,90225,61612,43697,85246,8705,75199,34715,15162,80577,23143,86876,55665,50727,41070,90533,63904,64435,85326,12924,11697,7340,18539,82476,999,11972,19454,33742,67446,51040,15584,274,46824,3356,16784,87523,9022,81620,64159,45022,15474,55736,82619,27904,15753,10916,90247,76514,20332,91479,44457,89066,524,69654,50310,73392,3060,96580,3751,37332,26105,44956,14624,63034,69627,31096,64131,63427,35106,13283,27805,17768,48251,32586,92910,17708,80275,25576,40237,726,51561,31044,68690,7985,25305,77226,75734,9938,38229,90743,69336,4251,79318,69374,92984,94786,52870,72890,2589,58040,74100,14695,87604,81906,54299,7287,55155,81417,65059,48488,20496,92681,18497,43674,20544,50244,84087,56835,25487,45616,14494,44959,84282,36389,1387,25494,46018,20777,70075,42598,42747,33710,50093,20908,28209,72031,37730,65993,81365,91808,58356,63807,73837,85702,52529,65024,79408,19916,92184,71453,52248,76345,72637,85094,20930,3379,31608,41143,44642,35391,24434,54525,95248,54792,66750,7777,8127,77055,4699,47096,35225,64799,4822,77102,94792,58146,55759,8010,18488,83785,27869,96695,73009,4070,54152,86998,76404,18655,27441,84256,81402,77853,44034,78828,48917,47603,97940,91123,9319,95556,57404,22390,8211,28920,65455,46238,34461,61248,53523,81205,46155,49604,65558,64011,94031,86268,27026,5614,95836,65105,6406,84701,25678,83131,9484,18927,65282,17953,47699,80512,69832,50619,3699,14711,94344,35663,45559,22360,5978,75351,57591,98945,17664,64567,58339,62261,11350,49272,25080,2189,36675,41628,81319,93474,78397,22468,25870,55410,57874,78506,90478,12919,96635,95371,86678,13973,42594,61596,91550,46776,72126,35628,94777,65146,64439,3036,4105,41519,10734,55505,74581,4351,1183,35211,32942,56995,57501,13292,11885,16391,85920,98769,89536,58855,98043,11686,11447,46657,53009,81305,22461,62186,68932,66550,25387,7118,7808,71274,1101,7676,20287,39311,14564,5222,66487,87228,68541,32207,46881,80878,72693,45469,67598,62607,60907,70828,66278,69953,61022,63046,77181,43771,78367,5130,11707,20133,72258,27104,43768,17193,51332,30711,43837,98744,13437,81905,12433,14632,89667,43941,30103,70630,30241,21164,25737,72476,7493,31958,91188,30420,38849,39174,41100,67157,1253,67541,30790,54124,65769,27931,29043,98742,75460,77854,75749,52789,3537,36086,32953,85915,21110,84698,84226,98508,27855,62049,398,54024,98866,74979,5838,97546,16049,69279,58496,73497,45951,3219,45874,5061,24423,72390,13039,88609,1479,82205,20017,24342,43190,76901,22329,98958,31609,3863,92735,61159,33054,8449,10255,27825,48887,83768,79327,14584,51001,64750,83511,7315,62032,90961,21765,52433,37214,22802,7302,8094,49352,83795,83571,97888,4591,17595,40431,45716,14887,38033,58427,60214,14835,82205,14300,70689,90045,82635,7425,66492,24266,37635,65463,60260,88688,14062,53200,90675,92556,44680,75901,49912,12246,21886,52634,77552,79768,63987,69983,31720,27504,6148,18477,46781,50347,92612,54815,5867,35634,24468,80125,17616,29606,96316,80328,84312,1495,52549,58520,57762,734,52913,8234,24619,3132,54346,82476,85688,58232,50520,81363,12085,68269,44560,50487,21248,67616,18260,8940,7303,6598,81028,21552,85999,72539,78927,34148,27840,31209,66245,5634,78930,20931,21082,63254,76717,49389,15209,92423,65433,64794,92773,13051,68388,34763,62103,27669,70005,52884,95599,4173,79250,49995,30272,34407,5510,90346,19759,65401,11228,65018,94998,35583,41375,13797,22499,80888,36063,94026,93779,12324,13323,58832,86964,38853,17073,12774,43508,94738,34352,29722,91468,46439,24152,35500,88112,70228,70030,88263,5725,35872,70647,85938,82367,27410,62142,16066,81362,68098,65816,24517,48998,53366,88251,16887,5327,35950,7481,99938,64673,90438,17374,24787,58736,10046,21615,59308,91907,69307,73118,94875,38381,23346,51680,30394,28792,73380,44494,46396,90411,7311,70840,8179,63570,75613,84575,61338,828,29352,16935,59220,29407,10194,10205,43719,3973,83416,54072,11127,32545,3655,86046,1774,65013,37214,49165,31760,55238,21163,89068,96997,97209,848,49064,74513,11383,10940,21484,38609,31035,5987,94286,71243,32032,631,73529,82879,64586,36601,65911,83733,69746,66715,2754,32149,17506,47424,12826,24459,41663,41620,70853,601,66838,59525,5334,44863,45482,57094,17883,62733,66518,58522,49680,34354,57540,77638,36850,57406,55522,75241,47200,17612,93,67844,83490,83767,42003,93198,60294,57532,46775,94645,63948,32272,63198,78742,99763,10126,64723,60823,8438,84673,99055,87650,64819,31482,92338,45818,44238,53752,44903,86385,71373,62920,18012,90582,15587,78467,96109,36786,5297,20835,51706,47384,19838,38434,70152,20812,91421,62789,32470,57229,80780,60898,6144,47480,1545,29098,39988,54553,6189,44012,94634,24916,17781,48921,24893,93958,10599,63462,45828,87579,69472,28547,68986,21167,8106,63585,42401,50841,20580,66078,93060,94682,74858,81989,75891,17351,60297,27971,35367,22282,92530,26826,90206,70766,63277,59161,63869,92042,46146,52184,81357,72937,6502,21658,28978,71242,55892,68762,11914,81331,40654,29588,44833,67371,49125,63374,11355,76572,92746,13940,5855,27981,20295,19580,91121,92917,96524,30181,85310,7748,16853,61133,17723,68007,76273,44220,57290,5849,26270,17085,70427,42240,45433,39800,91914,40200,32041,15463,85333,7918,85044,38879,90457,82761,70093,85439,8420,66023,29821,64035,60068,46552,40587,17723,4746,42029,22739,9583,22279,9009,74222,67683,2593,44999,81386,93027,69435,25020,17644,37577,36964,63271,62301,52935,62522,7052,33723,27808,38355,58804,76745,7720,35403,12008,65849,27938,50562,36698,37599,93476,45261,57984,12639,211,76608,22648,67461,16416,58133,35630,61600,25988,30730,10265,27359,77884,27846,74028,14307,29954,97518,26298,96867,66700,61902,22219,26273,45756,90270,60639,31334,2878,49893,18957,82421,60204,45556,11901,33810,99280,76201,4398,4296,79685,15746,82869,82608,6489,66982,27640,13348,17022,36270,28704,25819,90072,7300,5581,7407,30306,84319,69229,8031,8450,11005,39711,12835,72558,22004,9613,32748,32474,48268,75186,81400,19643,83808,79482,89632,31110,8637,33502,92346,36800,11172,71337,6683,17277,18893,2430,75750,6424,65300,960,73587,92439,7333,62524,39575,20067,38929,73530,79416,75476,2955,54414,47475,71433,86470,95623,8183,15799,27710,44121,3069,39910,37919,61669,33629,41644,96939,79794,5664,55536,85021,82348,94051,45344,12231,84939,4843,13700,30591,19437,86329,3041,12620,61252,66596,7475,59778,89054,75421,6799,55563,78244,40657,67067,82,74918,91832,52293,63368,75995,55770,30479,18516,15301,8291,83456,60362,88303,20465,36997,23179,71656,57862,68687,38557,15806,37496,89409,46787,19532,23970,34028,31037,78610,66697,98795,60663,49164,34754,18580,69714,91551,11226,921,18358,5365,53251,13302,23112,28690,7010,45608,32835,80325,80113,11721,94333,53646,28126,97841,12844,40294,35868,54434,78534,58442,48073,68666,84166,59252,54946,73290,93026,3744,58555,48307,82506,37490,9425,19396,26941,83220,64940,78826,86042,67911,30124,35485,45779,97457,95311,25086,64027,75985,57330,3685,71702,71068,12470,81255,26130,13652,37078,76464,66978,31662,75204,49219,51232,67270,2342,44108,93975,75119,9189,27431,72112,18429,42214,79055,60759,33925,53620,63861,42715,66081,18409,26402,51556,31155,20473,28459,98572,37587,56820,45343,8566,17173,43595,48261,66381,87396,94835,11880,53936,70665,3105,58283,79153,61386,77133,12851,31164,84043,51905,30693,1764,66286,98828,66789,57271,97860,99084,68510,30060,93705,12378,86917,71754,13519,29941,6903,79933,32515,63015,52965,69725,69821,74921,45005,79323,62842,25545,70422,38152,57419,26630,56129,85769,22950,6816,45219,22035,95745,79626,48915,3308,66030,93842,61716,12326,67901,61060,90412,75425,90196,78837,46575,32664,65748,78035,99057,83166,22418,95116,45444,46699,9296,54030,56067,10863,31288,14344,65251,22766,22976,59599,26971,22264,35864,73095,77906,85496,9151,25907,46876,3541,27278,35272,89455,98599,97692,2607,70898,90748,59897,52284,64807,94576,5305,4273,23774,71724,8116,40504,30383,79809,38553,33324,40488,17752,12382,18421,95812,72677,93037,46414,36769,35114,39321,77389,45318,60477,46473,38197,98053,13387,37332,44742,70639,95008,47220,37053,23447,52384,38176,29008,55091,24598,40856,8282,41169,81329,62286,27228,608,28460,46689,70854,60271,94349,97455,86488,51124,29803,81555,72603,16304,44152,20050,26573,38926,57470,21761,52143,9617,30030,85236,75605,90025,44319,75078,51674,38493,37675,20048,47740,19341,98044,52965,43854,82638,970,64721,84267,14664,23450,87382,26170,21110,61696,86892,49686,75968,99959,8314,94730,76004,11578,54135,13399,10318,72646,53895,48740,58754,90286,81094,90158,18934,83185,79389,28780,24616,96496,3835,87407,89315,42535,63272,92076,6959,1812,1019,12912,92237,34401,87386,97264,51406,72298,17102,61966,95636,95278,26868,77480,75485,92793,70231,74452,61679,7340,52487,33066,87170,94355,8530,1849,22070,63432,54721,27162,44783,93354,55554,93233,30464,48804,44384,82097,52658,19462,83247,63264,91119,2634,14996,65807,20225,70955,39420,71341,68407,72487,80004,26642,11918,54385,61103,99991,24381,50231,40701,44408,76453,64239,95530,87439,37611,58200,33839,21566,28813,92335,91935,36509,60135,56105,28803,14279,60749,30043,74730,977,84407,82658,38439,5866,61563,47857,3771,9924,99207,30641,76899,31890,39019,38930,92484,23055,37279,22189,19699,39254,54597,94521,31237,95944,84340,2559,14391,22383,71235,8435,66116,30508,59054,98849,49754,99131,16675,71882,41558,15625,94026,64287,29585,69481,58092,56395,32006,6541,92874,53796,53907,29774,53969,92745,56391,50135,1111,26556,83454,62669,56691,8179,4192,47032,25483,17711,3989,37225,29782,44250,78875,3028,68923,50920,45779,69076,76720,23824,30403,44670,25740,1919,83523,906,73903,97600,49933,16164,57825,76821,24921,47049,92423,67110,49194,61405,483,96664,39721,38320,6821,38389,1723,48586,81833,91936,68580,13292,87790,650,45461,50827,66154,81410,89617,86581,51913,52069,72345,25449,5793,5222,59440,18465,599,32609,98348,57077,10285,52093,32401,49666,87385,65148,69287,85012,14698,23298,44889,92665,89482,20876,35296,3486,5058,2308,71457,76390,38746,42242,75922,15332,68304,89762,9822,65297,5981,69453,47508,17640,26461,57703,39535,82225,37597,25839,95393,54373,19532,44148,77055,48420,72447,52103,62962,90049,33501,74746,20184,4454,22038,72585,93993,32588,67215,72132,5410,65051,71669,50297,23743,21183,44971,9350,25840,78396,59540,12466,72871,50638,93032,66572,32382,83884,21624,3963,24194,30304,5845,6895,8026,57259,12094,24902,90791,50797,36358,57167,94409,30988,85302,36465,57067,81458,24427,24358,70953,982,88627,8232,93367,51454,53808,83440,14447,56350,21423,84407,87313,97779,45167,28470,28491,9345,19447,64378,74610,72497,8993,18385,9011,95049,83990,58919,4486,19743,82812,51385,29318,84311,34679,22906,3954,67424,2316,64293,86844,26451,63104,38772,76123,33755,2555,17941,60533,10565,22718,28458,67583,32924,67885,62579,31784,79665,68727,71441,52667,3318,5308,62513,90944,27348,58043,9914,62041,9072,88817,18010,17354,49796,21239,34069,90570,55742,49410,9709,94652,89155,2400,19891,88454,87347,95445,33074,96854,80111,28471,65960,67936,53730,10607,43558,84115,82482,67418,27683,53794,76137,63800,26007,45075,965,79396,53927,58005,19243,67479,76771,46541,75216,78872,75126,3916,86406,72739,52046,17837,9911,40600,13195,78494,56022,7251,64119,18021,76592,27250,86722,93920,85691,89,22947,35020,8464,45562,94670,69433,44352,97914,61361,56722,21109,30572,51368,28163,56889,78321,37786,32385,17221,58451,62451,83025,86386,32448,62778,87376,53098,89648,98723,26760,2166,19656,16306,74312,38182,97546,36897,30234,15844,67957,30247,57023,4249,62032,25867,97127,89261,5872,47966,62464,14957,36218,1734,11264,17424,27469,6407,48042,95825,34978,49304,42853,27765,48737,38139,45692,6996,39348,95778,61854,37757,25662,96121,93635,52314,36554,71521,87031,27181,79245,1595,54459,58872,43040,36132,58148,28541,77007,79164,92188,42187,9954,6399,20038,78379,99928,65414,35626,65984,45722,47829,50664,66377,95742,32879,69759,84283,46945,98684,96380,85858,87531,63390,14207,38028,41372,77160,14013,93304,12481,72264,48606,5098,54290,40328,98624,48122,4136,5485,96352,24851,82674,58006,28666,6298,2310,11158,97818,59906,90930,8639,25458,34290,2100,42464,5043,18370,49975,95886,63404,53633,40635,31868,40172,24167,14392,58041,21529,91723,83473,75444,31569,8487,24898,1367,93031,84584,36539,64282,44201,32557,15950,57449,80187,75604,64642,97836,12879,23455,48345,30085,24472,10882,16225,19725,32429,86333,41350,80159,70847,65581,88884,13956,93257,24084,97056,81591,36349,26346,74889,31934,63571,87250,69556,45384,42494,17190,68159,13566,60512,63752,68195,52956,70047,25317,19125,63467,60681,47736,57984,33432,58026,58502,842,5563,34370,16731,75725,23728,25550,23934,77434,83718,26475,84367,89918,58213,25051,75522,65907,51924,27983,72077,1490,92894,20455,24153,66175,49457,13488,74165,48270,73875,91083,3412,55723,75242,62876,75263,9232,50841,90585,81874,74399,14930,2837,36406,44200,42253,76509,83863,76204,63844,33836,60081,94092,72847,65642,39661,59156,51251,29330,12746,67790,44908,66043,76196,75774,37264,71352,98711,84986,39193,38959,81523,30420,76397,97840,5340,79535,14191,81970,28943,59138,9982,97695,30566,26264,58209,14392,69641,55728,89033,96057,57629,91001,76921,41643,47014,97003,80915,72852,82847,70544,59183,25583,25336,91945,51796,11724,27709,40772,48946,52781,48963,90155,2278,9671,11750,95617,8654,60703,15727,62277,41666,93798,30742,54951,3482,1196,74452,6945,74213,21696,38237,83374,79990,98377,70099,81476,4255,89744,26561,41107,61559,78307,15048,42351,2640,75292,68071,36304,43565,5068,93644,68928,82845,67836,54649,47532,3846,40572,36215,44844,6920,32947,79887,98447,47442,8484,11462,6695,93488,5003,2427,59484,17505,39055,11936,8456,73020,21840,15938,73860,30869,41855,93171,41235,95026,36100,79755,38926,94081,54323,56384,58070,80715,10525,71207,97737,78922,20512,4756,69869,34943,76568,75167,9785,93641,78208,42695,5668,14523,41804,19394,54235,10709,41837,15617,88485,96569,41697,26268,49749,46546,81080,91725,74074,84399,30745,47443,27343,26617,83805,9682,53969,43593,56662,13699,14041,19246,85648,98683,97431,48316,81837,95616,95921,81845,63308,98075,87974,78543,79270,5711,37449,29008,12669,92837,72182,11841,79111,26496,29738,45901,63645,68273,74724,17517,82782,17187,76356,6619,48112,77120,6712,6884,11680,67820,92813,54339,68554,55364,52783,67325,1642,50681,43114,46353,90163,34283,62520,16693,59128,79233,67688,85069,48316,1374,18104,32427,15255,13439,38789,13774,71647,34621,95379,88143,86326,49276,45308,90854,30865,69306,97147,54614,56533,72856,98455,25091,74240,1620,13134,32562,42582,31277,73096,64930,33053,47076,69001,62065,45331,37682,16471,1480,44887,10070,58477,35965,35982,18485,82382,83384,93253,61336,8316,64912,17292,56775,35658,89519,23511,87597,51722,49768,11023,10623,10364,64524,45118,49477,63034,74954,85332,70000,64932,42185,52569,54656,32587,54439,54436,74079,34684,23616,36574,78284,76944,59866,93581,39584,21111,90962,53398,71813,55227,23202,76697,66260,53456,510,17616,43370,32905,35989,69330,68087,75112,46618,91844,98600,70927,25234,9653,25255,63684,79301,24185,88915,40476,33672,58813,567,32360,73767,16849,54132,98010,48,50818,42977,51100,14016,28453,86492,5839,56192,30061,1145,3158,12944,56053,97302,81463,305,66940,24552,55029,84524,55805,25502,32251,91386,66574,36194,57761,47403,42044,22516,52304,98493,41845,46796,57268,24327,38991,15072,53962,42228,58732,61694,19706,46603,17210,55434,95489,8899,31033,54673,76405,3432,32266,98066,17548,50155,39596,71620,52078,98158,26429,43703,29527,78275,92316,37429,84137,95655,58875,22000,46839,78756,77472,4593,86858,22282,60898,27972,53267,9407,33967,5368,20931,47426,71937,17056,93068,39843,54439,52625,36352,12088,47696,38053,85076,63017,11936,31776,37735,12150,66298,32923,357,35873,35272,16862,69082,85708,15446,85670,61709,89684,18311,16375,29168,57584,5026,6508,60601,64238,49720,44963,94093,2525,55891,69746,77750,18724,27436,7908,9832,12029,95869,22464,347,80377,23058,37536,11525,50453,10491,48112,56500,24380,18469,95381,29963,85791,70682,76262,37940,61700,41051,10446,42052,28770,37015,52888,78220,73406,55737,909,53772,9953,66970,32349,90787,79468,14404,76020,75682,40463,82135,24669,36086,70178,17061,86692,45770,74987,87015,33652,40875,80972,91923,54168,4038,47200,56788,16546,904,34886,65292,2515,69350,5345,84889,30623,21403,47668,80497,82803,92335,47014,77498,25605,90245,69278,4208,75695,18123,729,76759,58140,16380,29296,16252,6005,8958,76731,17958,8910,86991,32322,26414,5869,50996,86448,7887,88082,8989,30919,14090,44510,834,45064,63603,68896,53840,51219,95021,2048,56025,57053,26213,31084,56286,73092,50160,26485,78167,5257,54015,7240,85946,43159,95394,84649,64025,46776,84765,15777,68269,48145,67903,38197,12851,66790,15434,73873,40661,92118,45500,32406,23033,14058,82588,38417,45128,85498,40483,46416,89358,68753,8789,79318,39970,91257,21411,5688,22634,90033,56339,12166,2155,74334,53982,30616,56300,73639,8792,64496,6019,96162,24560,86110,16932,97439,99255,45156,44579,3013,70348,55447,56675,30597,93082,13053,99133,66594,52377,4472,39035,39106,76407,39724,1189,49968,15882,66561,52997,58654,81774,20069,96729,5199,21338,17582,12587,43534,71975,91228,23987,86434,41382,98142,30184,95335,98846,34066,86495,64124,63950,70969,12391,17713,19369,14648,72618,79254,48032,10935,66644,30203,51868,49157,13195,38608,84785,26367,3059,40008,29984,18148,51980,3746,53876,79809,51054,52109,42085,17504,806,39990,23887,40628,89029,12703,46337,29609,92035,50327,76149,3263,38937,39021,90762,55188,55876,84015,41879,18888,35981,91170,4664,22013,28447,83004,32942,44581,80442,49087,2907,67035,43801,71870,76792,52845,4304,57420,62823,17807,3464,97532,26197,52488,25164,75928,3750,57768,24707,41117,74622,21741,7842,28313,66244,77695,29484,45617,85186,12561,5111,14060,95080,43643,82052,96434,20855,4546,91325,98325,59856,79437,15188,34858,82755,17039,3414,63094,23066,28493,33775,30903,88087,14246,55751,39435,21097,34170,30673,20322,79142,87419,92199,51258,61890,73723,14728,60518,49584,64201,32202,84077,21757,18147,94285,17204,62131,25998,93771,68771,25085,96029,48795,10664,89229,49441,41368,66782,59262,33100,40480,85436,69504,86266,50199,54407,54511,99619,24086,52746,38456,68687,40271,36352,81188,74577,78655,83661,16582,91864,22630,67915,22244,88947,65361,1010,97452,54112,43479,5447,20589,56276,45515,29985,72795,42620,53335,41091,24562,17158,71269,8405,20635,4747,58806,36106,75649,21615,20265,38597,37378,28198,48881,64817,32626,29100,86916,22288,73882,32699,93306,78094,42530,48948,98577,14015,3309,97056,5311,92438,98046,36436,340,4761,9644,1668,66698,80633,98210,4342,66779,6873,55475,84987,28055,30233,59993,38704,56704,12095,40844,46067,90656,89362,70645,52364,29464,19573,93397,56947,25507,87968,89558,44810,48669,57314,29084,90670,53072,80274,52560,3297,1211,62393,26723,83434,16296,90238,38424,21646,12358,10464,40216,52439,56448,50051,97659,61602,46075,37238,53319,36456,36363,50679,3908,63263,3169,60372,47764,98654,64961,77134,63452,96892,56262,32118,98706,79295,15481,44250,7376,36148,56138,86296,12469,67151,46596,10455,40076,92624,65640,63970,89595,31531,30292,82058,37545,35549,77736,45290,39132,28791,24906,93584,56879,92937,44088,64928,84259,4797,64786,81537,27415,95791,36503,47043,81398,47769,96543,28005,47225,18661,26347,3487,11533,23465,21131,39085,78160,51250,67905,9015,96415,643,28049,42292,7921,5912,40363,17981,50365,96937,47405,84531,55090,31908,32435,81492,97610,36498,2441,1155,80456,775,38223,85624,88797,58583,76946,85033,33940,70867,3868,97127,68816,65271,22547,97864,20438,69405,10498,20496,88992,60160,84331,75143,14313,50337,27441,34788,92546,85348,88135,81821,31577,89936,98990,27256,59567,50929,3067,83326,23028,55414,51558,4874,37486,38855,36777,35382,54018,51918,16415,82321,96401,66441,23096,53401,55309,96368,24769,26320,41943,93512,64390,38140,35948,91570,8881,82578,2924,80943,59012,82563,48856,23015,77288,29113,14951,11703,31913,11332,48557,74052,19637,48519,28729,3640,56483,46837,26243,6336,19174,41932,18969,66817,84887,67779,47981,30213,79337,89099,3987,80534,5682,19291,96787,97028,25980,61531,94414,73317,92252,56622,32959,27740,8546,19873,58340,57797,4991,36578,61750,36216,61893,93006,30622,25553,50386,85431,96747,91047,68364,89104,69755,60774,21372,46010,3306,93590,91517,70166,74129,29982,86825,67074,16162,22618,25782,88445,67637,27814,84956,44967,29301,75492,90948,55543,92164,41080,72774,29726,84210,66396,23962,53027,92798,48257,75504,15153,74862,85481,41213,62916,35148,17498,19752,90884,13701,22747,59979,95860,49789,71725,60622,63603,62654,29198,94743,70757,64087,6323,38868,41429,54999,70665,55583,42647,45889,23515,25486,52061,63376,47476,67253,31919,70974,31972,84513,28822,16032,48924,56962,93306,87908,60756,62307,8788,60526,74517,45335,44878,66679,15461,38597,91798,81537,98483,32920,98278,1496,55726,32844,50003,54298,58319,67548,81661,60983,88055,51099,73275,36693,58694,22635,73945,36684,84054,47497,31617,69124,82954,46211,52869,2686,1146,75997,10392,29522,25360,4652,62719,59606,65338,45682,65632,81201,85333,19555,22780,15503,50498,71160,5275,97965,44452,96210,28184,10419,66277,53001,60534,88988,48295,76714,47789,13184,54034,76762,86696,31146,86879,89512,82082,39748,68691,63361,41856,99710,59045,78726,67426,93198,71329,16780,41544,19214,29042,1641,59236,20449,2987,61101,12639,85058,38889,69310,5206,63777,29644,49079,35597,59424,36815,82578,4955,55996,4999,26594,80375,22580,52356,75924,6346,37618,57488,30786,53433,29910,4375,26894,2692,13244,21794,23049,16379,3328,61394,89728,62880,86838,53384,6236,26840,20470,27207,53791,82157,18718,76607,66123,70978,17739,49320,7810,23228,16370,85262,19557,184,4156,20327,35455,95696,66172,92480,24352,19707,41804,62667,19752,41454,73184,70584,33991,43402,31464,93771,31733,81184,99497,83434,90786,14894,74951,48432,60049,44814,34120,88295,73852,49894,72122,12803,62040,42850,50550,44462,99048,22654,87644,95880,17422,73107,1440,54516,91510,66299,232,15121,61722,9581,70691,47145,35212,8559,41305,91656,51147,84251,76968,9636,92350,44444,4096,35570,60175,80150,20559,87345,18621,687,70462,65862,37171,75614,68747,85511,76645,8885,45571,25384,58721,11281,16408,10168,98798,43194,22734,2348,82822,40199,15697,27185,13143,28029,50002,92734,95705,30405,74684,3208,21458,85971,256,69186,28017,87522,14668,6962,22543,40696,53789,46415,79548,80599,72803,1140,13045,15866,5352,73690,22427,50566,76606,17357,76072,5228,12474,59151,77454,56150,20572,33667,58964,18984,10380,79733,29941,85358,237,25661,2072,18863,29754,63925,48424,74845,31325,71555,53687,29024,60533,62308,5578,78584,73702,21832,61119,95673,62096,44445,82036,27004,55902,80338,88550,45633,2443,52176,25651,80466,17725,65251,48805,98502,94348,21557,35994,27820,35392,92887,24485,89701,21091,39725,73905,56696,80552,11993,7475,29542,20860,24568,46146,57508,87396,40392,3173,88860,94741,11890,44868,37848,10860,18223,69700,2231,15581,50651,76062,80049,1335,7933,116,77680,57467,39367,31295,17625,34822,87567,49497,14582,98339,17930,95774,92642,98216,20821,42545,64110,24788,91323,2160,54236,38913,88285,96247,8236,84292,35761,99567,14311,97044,22070,98253,74065,38084,58461,21921,68095,79303,94555,31418,58785,86149,37808,88549,12274,89696,3499,19163,4651,96270,52412,32402,43525,97185,42222,80005,88008,60532,41179,27696,45313,27779,84387,52780,82741,93883,33641,26896,80042,77942,38461,24573,98826,81436,4195,91756,7181,11789,8393,32341,70305,23607,80213,60392,23328,954,74123,54034,21319,51023,42990,81692,19685,68132,22445,31840,59003,80151,95841,23438,40439,74229,67697,34455,82962,59715,82042,45274,93622,70068,70580,45394,98704,48124,16745,26873,47152,43132,72438,60461,93531,83450,53184,64394,93025,32739,34416,48983,54992,21464,41997,41912,31440,2404,2780,85078,40670,37342,31584,6192,83731,30968,74689,81381,32134,77961,20725,45023,9717,51262,83728,32597,19818,80169,68333,24029,4107,67227,32461,23691,56096,50571,46119,75583,96342,40394,39752,68864,75199,12141,21099,79541,33439,84680,83816,82480,27763,40507,30895,74987,51274,40378,40391,225,4197,42014,71782,68234,90631,95980,52045,9154,30387,25309,71202,32862,63242,69379,29616,1797,73392,89436,11865,64046,94983,63864,21787,23776,7394,49853,45685,33427,67041,95107,79976,23617,78801,98200,43768,32300,41677,47205,47602,41639,99376,10789,19690,64703,44034,63227,4117,32735,71039,76520,84815,86127,70211,56952,93177,55247,11748,54110,64474,43408,64042,76694,28860,77568,50462,34494,63618,18417,89045,4357,1960,3554,70983,84722,63026,92583,14545,69327,54738,28635,27764,80689,58182,24417,61515,24643,88973,5589,83955,6948,81457,58428,11102,8309,7790,2548,95139,36775,59352,15014,82543,21551,40641,71657,24214,70672,2557,28260,73871,28402,19569,863,84374,20786,13939,44061,34275,92805,64432,22752,70697,73302,20617,50873,62929,14181,20115,67441,34057,85565,57191,50988,90701,99667,43506,89317,4433,26780,66531,13606,86998,54762,74419,20294,20932,14311,71862,57206,83426,1131,79150,74228,76480,55568,81474,22263,71839,16347,19518,94594,58473,12436,252,22078,55927,12991,83697,59888,42032,65777,19844,52710,65608,62088,37294,50143,14912,50760,84992,12450,52675,61702,86069,98045,3471,38638,8754,39822,22025,29658,96111,88309,59596,81464,29468,13798,45186,82439,90773,56057,94623,94473,31030,88582,13720,15953,90764,83884,23784,52211,16792,58537,86397,36767,71438,63022,79636,24491,3088,20134,70724,99525,20283,79750,22968,15863,65108,52787,26761,35473,79776,3705,51350,62829,68112,37331,30556,34784,40207,7049,50759,7805,29066,79537,32637,89272,83803,8071,50900,63960,42653,43209,13023,66493,76775,81209,81327,881,95065,96755,5185,39689,19428,70950,81531,90899,61421,97931,43319,34374,76320,56397,3394,92664,47148,38340,68430,44925,86195,8600,6155,66709,8280,22842,38421,25097,98261,21657,21182,58702,92389,70062,80310,12257,89781,92171,52740,93491,97637,61191,64290,13432,60649,18405,68478,40762,54423,23248,54215,42326,59024,3738,84913,14846,30507,88211,83870,31986,65347,19042,45157,53109,53770,11803,57617,36798,94022,77562,96706,47010,70690,60697,96067,20931,90453,4100,67677,24231,37906,68363,25510,16582,98116,23307,10367,16614,39041,98007,38140,58952,86900,71318,82967,77842,95382,18101,20350,73037,53319,51557,3478,8888,61943,95106,10663,10644,26168,48325,11899,21557,91461,80787,70867,78236,14827,84041,52853,65834,15839,34724,71021,26066,74573,14242,30173,6326,29747,7553,55611,37533,47864,7405,62007,36070,4629,49172,411,94696,19336,35043,63873,67024,42094,55366,99894,45978,79401,17607,93933,89537,95825,77696,29014,98963,5122,75158,11520,17821,4974,80680,33977,89670,23761,4056,15030,44214,70841,7338,88257,6292,25964,26495,26301,88888,28339,4335,3205,71951,47475,99,93711,73894,89621,57753,64916,27666,91393,28662,20166,33563,92642,83313,12539,87592,5828,19150,6324,35900,585,60521,94022,3407,45616,78114,48433,97332,40215,73998,14442,87435,1464,14175,33284,6778,35768,26167,62378,4409,44594,56387,23790,55836,74612,54587,70252,63425,17207,76838,38576,40083,79272,99579,19501,8579,86295,80461,85191,29448,78872,89742,35865,13900,95313,60081,51352,68145,2574,37194,95582,33102,63820,29868,40566,22416,96291,60112,64261,97798,88643,65150,66968,66481,16656,25454,90189,81189,79765,65522,23834,94737,34095,51766,53139,45343,36273,9278,50246,64254,78341,42012,76532,32494,3408,90879,4650,18424,6176,10159,38313,7520,9760,966,51519,41344,60223,25680,85789,37894,51938,70921,96477,86239,31946,27507,79376,47400,18436,20200,46033,30491,60326,77629,42722,93626,15006,84161,361,10484,62557,24508,78307,72930,85057,67001,12699,34601,43482,29527,3306,87557,66882,8776,13518,19128,85382,7024,64045,27383,17460,28977,39803,43984,33955,5991,36081,69790,66032,50315,85213,55014,74885,57475,79658,5759,47922,21887,49847,50488,85209,82533,14884,49599,63219,75525,1741,80353,75244,54275,15802,18836,33638,39349,16340,87047,16464,34985,12527,11292,61724,41461,22928,12758,51894,79964,88217,1920,4135,55640,90549,76673,17216,65577,33436,86358,54300,80140,15164,31058,46179,53158,87165,82137,25133,57548,18820,95073,38586,79940,62559,50541,32743,86649,92206,74362,75660,50664,940,39343,98986,68452,69689,41747,53913,52275,76258,73924,1686,42850,78749,78853,70425,29437,32516,21949,38051,63769,7390,48487,32350,36843,87180,78560,26159,73625,94740,22901,22896,74183,25365,17687,97030,15689,48513,96919,83358,68611,4223,93852,66740,93302,97744,61011,18207,99379,65516,96046,59620,405,14448,66649,24978,74635,29303,48335,43228,32293,76659,24881,98588,6090,57899,79949,33875,42640,91609,24506,64855,36905,74282,17993,14213,74783,91118,66467,22430,87110,7683,4213,86178,54441,66817,49413,12313,62052,58059,6652,70211,86516,28562,77229,74908,61938,59415,76507,86736,73773,71327,96279,96584,86694,92543,29511,87373,94452,72779,20704,10601,38920,71771,37861,58373,1293,94252,74594,41800,17513,7634,45474,36335,21049,74411,41812,59838,8731,6194,60045,13779,48073,53378,99008,51824,45635,37808,27279,34672,54169,59564,46031,643,83311,14948,79157,56112,16789,2401,63380,11975,48167,92645,4328,63233,43483,57872,9436,82288,1778,83726,10233,26353,59522,77257,40460,78762,63534,99551,87266,58900,90132,76760,25758,17144,88928,89629,12315,16619,48851,19673,75433,19989,18919,83521,53924,88594,31577,38581,31098,81654,99632,16826,88555,78342,42556,50573,90575,29872,9138,5874,22667,12885,5070,73879,22057,40211,19390,72561,67719,10254,49706,83885,66238,71176,34941,49484,92744,1278,23957,39514,19657,12248,96291,58522,41128,31605,21038,37833,26886,14357,71309,87660,62057,10928,54221,6815,15220,68825,65019,37963,85095,31464,33351,19380,64804,14900,91162,26797,52665,73389,68502,31309,12654,42892,64879,70324,62815,67251,34054,32914,74985,87439,81347,57270,97894,20406,58889,34336,65937,29098,95982,20735,67867,64322,8066,27994,24743,77995,80472,42999,41203,88116,15462,40729,72483,99786,37364,4509,78232,43351,61458,87610,21244,40231,32616,9391,102,77058,17697,43189,65506,3147,57772,50866,12180,52346,95222,81660,13002,62902,5614,3203,68277,49092,77695,75761,59379,40045,81414,23140,97693,4326,21771,71185,37851,92067,91105,76862,25579,129,31330,57916,27286,33093,15342,47192,53053,81683,77483,29571,5059,94852,24261,25621,32256,26063,39815,68726,57807,80216,29878,27140,30113,75213,23772,57576,55377,37033,76852,34900,25799,15847,794,35660,67234,70476,9556,45675,19142,75323,64714,30432,61841,12249,3085,8961,38907,51147,27515,74238,11062,30215,64317,6037,79814,41449,13161,17491,89471,15985,23411,46203,12392,29714,16032,67704,58875,65718,22503,36515,8128,59973,49007,24090,43800,35941,71098,94203,13707,13537,64047,72462,43108,39562,48591,15176,41314,65671,43845,58508,80044,40980,11210,97816,20593,10123,78924,16817,27368,90843,8435,58208,78057,88123,77359,67578,12372,11450,35976,3212,76939,25850,65636,96130,95568,16646,97440,53741,65411,39977,7469,66215,85107,89136,46155,5299,23349,71959,30436,76164,17431,30987,6864,83663,42757,82678,12071,67356,74520,27713,50071,80081,59142,90753,69584,10727,31760,31334,20559,52473,63604,30923,68873,38441,88857,10830,58948,84767,99362,35551,89589,23839,17780,24287,17872,44910,12125,17281,41587,14141,19492,93915,48496,36201,27099,77090,33821,38996,49411,37359,17465,5057,85797,44957,4782,37236,46927,25721,15098,73417,87057,3282,47940,79225,33871,26730,35283,12036,50416,29039,97552,22656,4225,77720,75211,37839,60456,27210,63807,28031,61580,49987,66105,34153,88440,87929,489,92256,48524,85086,9848,126,32869,47555,1216,8358,56,60996,13158,43536,50006,90465,89182,92616,4382,18427,49662,82782,91905,92814,46580,4337,81706,35682,94982,75125,73734,1005,60269,40926,20134,67406,18882,34962,96423,69001,77698,32037,83384,64228,20490,32785,753,36153,49484,47480,25620,74618,52455,13007,86702,38740,96386,66980,6033,43194,14446,62481,62160,69837,27048,53402,12789,7746,20733,11381,97987,31049,24102,86456,46038,70302,94768,30094,65401,2291,13616,45775,73738,81599,36143,3108,65492,20534,79067,25623,2904,19590,40006,68228,36468,31885,60760,86382,54818,89584,21427,87113,61379,56754,48963,26449,94777,31404,47817,90039,86864,96126,59265,42459,83146,85160,88563,42142,10835,7615,10585,26850,97463,83346,34963,8243,84910,49811,39514,67451,76774,86935,90991,3189,30608,31012,2862,66650,13580,60163,43185,82306,80968,58536,29367,68819,45158,28820,70158,51301,17014,10737,24879,89392,49969,39167,8963,72294,23021,35788,19005,61034,91569,53438,90307,2466,88055,23501,62843,69515,66050,48675,61571,61363,43236,11392,54514,36332,7142,48927,74599,34797,56900,56175,99761,14458,35596,8301,34309,48905,7367,58160,38600,87529,74702,74364,3361,53826,11187,25422,68610,52553,59430,81483,59294,29963,65833,4603,12310,11032,96753,41139,6947,22812,38107,35097,48060,65167,81782,65936,58684,49120,55365,92775,54727,62530,35322,55336,50243,7508,96229,59102,90936,95535,47664,71418,25975,15386,37892,31681,4087,98891,40040,59425,20661,42792,31341,50771,91544,34787,81180,47947,43975,12186,67574,13910,68707,11728,11113,59735,8303,87188,63985,69195,68822,47776,43231,75273,4358,57949,95387,50793,22345,72622,11413,98950,58767,88160,63693,43223,24837,69960,31497,95893,26916,8650,6755,47209,46265,61451,99473,31199,97824,28806,53235,21271,27656,24125,74079,70704,7921,19442,43752,56918,19788,64652,8765,52419,29273,46580,95456,74752,94994,97953,40183,48791,90908,44932,17303,38485,80584,23635,79962,24661,73548,41740,64492,53683,2397,69189,67954,24691,48215,68460,37822,19015,60867,56925,85045,90573,36952,13415,47087,25320,54001,11167,85783,70218,30377,16137,7673,98398,13085,80144,80950,35293,23367,85501,98962,98598,36325,82691,36557,84159,97146,23171,84616,38962,23168,25636,79306,48170,12060,12791,90524,78239,32236,20550,93439,73469,35847,15182,26202,57252,14444,20689,88227,71822,63098,50724,79075,62311,94872,63737,19869,38484,13434,56730,14715,9946,83425,1570,24717,58993,87761,71093,61496,66468,38004,13942,47349,68542,53548,94804,33322,64085,19279,68152,26178,69474,89290,56345,30612,91612,90276,40438,49311,43912,73387,19242,83403,73343,14836,6657,93599,86824,78653,77207,37183,47957,74735,46052,78362,77803,98472,94419,75269,17159,9391,76553,70255,57551,63345,43894,32232,26982,23713,26876,97132,13188,29714,54770,7827,4624,9160,99552,5884,91273,9597,68669,65006,36174,57124,4993,24864,87389,58403,83600,84655,21837,31486,58092,42542,7877,58606,90209,16276,97874,4204,35363,2537,95376,81183,14390,26935,11112,14073,99369,59286,51750,7190,87681,4218,46504,25224,42276,29968,33174,53775,52704,66407,38454,21807,44599,73623,36185,26672,15129,26095,65395,70990,71348,26230,2835,15756,26054,37143,49852,4870,16734,10877,17720,74298,76499,48705,712,70604,92859,18371,48412,35728,91939,50590,16318,49579,73376,87279,68189,2411,24490,3360,912,2790,4285,90254,65176,46109,87281,48582,52965,96574,696,12042,62851,16081,50469,95132,94364,86917,19499,25535,26218,26221,78633,77350,27384,5254,5813,20381,42529,30550,14755,80032,52158,58653,99771,92256,83761,95362,24320,59211,84305,23320,23206,80389,14263,95551,76432,86858,84594,65623,38077,64118,18136,33592,34443,59307,88616,10403,78958,41635,68571,98588,98878,14058,31390,54462,48656,32536,96701,676,25065,13853,99607,36198,9166,23792,3617,46824,23805,85729,77753,23589,77164,68296,28857,71407,60025,22768,36853,81010,77447,54493,48986,82721,21159,26526,37563,23139,56202,61301,52028,96666,30497,61655,1300,79867,95839,28091,4785,23516,65712,35323,56597,90978,2347,89509,84804,2600,71456,90427,37062,77361,84254,16893,2263,76080,28648,37166,2470,88072,28815,71884,95438,75777,41208,52420,45624,47945,74430,6175,81689,28919,8220,9475,68335,18836,55103,70824,91830,29720,24177,1194,7885,89019,68511,91506,71387,46972,63769,46290,57762,96438,8540,27523,53306,20033,81554,30256,87254,24604,69948,55516,61290,74848,75152,87956,29490,38044,61601,61559,97449,81287,19105,42099,94093,2462,37751,25744,85342,80632,8358,90411,28017,52789,93095,54227,80659,45337,87446,35030,78631,4399,92329,33933,38090,71344,59490,48796,24605,94570,46503,4352,64148,91964,29988,77567,97152,66432,93826,63242,3588,29942,43184,79920,81782,60811,7506,36388,88662,97405,75854,90549,69379,11469,86547,23253,60534,67223,13069,49962,12692,23975,90941,27390,83645,18268,57543,46998,45179,45367,74016,13727,14022,52987,77907,80744,3897,3058,37394,64938,19828,31629,54996,47999,4173,49127,4531,20032,97267,30691,23724,40027,73506,35820,45881,8254,11720,4273,1193,94557,67163,20895,38082,66047,26145,26064,18029,42992,65956,99841,75005,14645,40745,34498,18616,63983,76612,73701,10137,19065,56049,41694,61788,78019,79112,23656,44076,61637,45120,98332,83294,231,47538,10787,16122,19538,89930,5767,33813,85656,91747,21241,90072,56898,76394,95838,10183,52985,86561,45314,10858,61562,47812,74598,79917,59896,87194,68214,64058,72033,35791,49496,49189,34363,36600,66908,71968,61550,69492,17909,86140,10895,50798,74124,95063,80174,16092,31394,4972,41897,74809,51035,12369,88130,87269,58778,90225,99742,8686,66909,53452,34225,93881,33910,39307,99667,82914,54866,3860,66601,96528,29139,28537,17136,1735,89835,35379,68263,70825,66127,15251,22720,19707,87162,63850,95066,26799,16616,63570,67507,61945,88289,46558,85280,86929,27491,45427,78361,67090,25947,44542,39440,25258,69252,63392,43058,46706,16188,44971,63323,41231,46731,54285,74890,60950,11568,95855,82985,56691,52704,75255,88388,9930,97742,43409,61872,91979,51547,71454,81681,97700,46478,4531,6971,29882,19087,95603,21598,35279,11861,90105,97556,73820,96424,12315,93445,47952,89209,66345,28451,42663,10782,50227,95189,61284,96718,8927,80132,97385,19683,20650,43439,15193,59767,99573,20891,81286,38328,69804,1029,44352,41993,839,93100,35154,21097,65858,27328,96180,88175,91230,87831,12716,84873,76524,47946,12236,65293,29407,94189,70648,83444,36173,60148,7598,20878,89060,65395,38989,28819,8634,29327,6364,10952,57816,11602,20303,36687,16646,19461,84113,47925,31102,21340,485,44507,79331,63538,67617,13190,79919,6988,4529,5891,1604,84590,36821,36688,84908,48370,9668,41706,4239,33029,35135,50925,75832,84486,35125,71714,91475,59704,40937,17930,44391,41418,53883,94990,71127,90553,54455,89124,39138,37766,48228,65804,82908,26845,47083,43912,27487,42758,57918,27984,66846,93413,11413,64180,42171,77775,7590,47971,35244,80369,81092,55535,92680,83409,68109,40452,40277,86229,68428,27552,88398,16464,59587,64791,83704,89779,5260,40936,93990,97454,70319,78239,85805,45286,74980,79734,24627,38450,75016,97206,43425,46320,39288,2745,3975,78568,4431,38594,33835,7197,64223,99310,26962,82820,60366,39925,4687,27272,55506,98533,71472,63638,31862,28858,42109,81799,53441,44967,45405,29867,60080,39514,31155,31915,55643,98542,63183,17775,29039,34246,5137,28566,19588,42102,22314,12425,46893,14755,6864,25847,93883,27050,28765,40918,16228,74224,34977,78189,13599,37870,36433,20757,19086,7707,35603,91212,51230,49954,70005,8576,17838,63249,34956,8370,33756,89091,79899,16411,36964,22191,2307,75820,28864,56371,71524,98071,73508,23891,1395,66053,67557,12327,70037,95522,96181,13907,21755,84629,25056,71103,74071,1682,55101,74038,70818,15573,93833,46446,15831,23921,72158,48533,76809,34009,65454,64325,70670,84121,46981,15823,9274,25276,19238,38900,74948,81050,50597,21101,89395,85364,93638,69736,74835,96402,78087,70904,82883,73230,53088,71620,61761,16669,97535,64022,1305,31429,31229,11155,38130,35565,80272,47780,10622,31788,33152,57736,35226,15032,60733,33438,48068,62243,88367,23347,59014,2918,47945,6526,23242,27673,19356,39375,26996,14937,9634,4751,48324,94626,38161,71692,70959,31424,63528,66818,57116,78169,14762,9029,39033,87901,12041,42698,32591,91541,94925,60345,35564,87847,26388,45435,493,86252,14079,58735,64158,87002,79888,81947,85782,6629,56449,15251,79480,535,65846,55896,12268,62304,60640,75362,29386,24643,46511,98878,17344,32629,51265,14311,62585,3961,85259,62161,38243,62425,37051,34448,44838,26390,29510,8553,53433,35794,93873,87385,81421,2046,25182,32729,51163,28977,79347,66891,64228,90990,83232,72229,23942,83893,85131,37931,21478,92130,56035,56227,98209,69141,55803,3720,39825,74854,34560,3625,18211,71443,97437,98552,42177,33505,42588,37639,76194,38250,22926,2542,97812,1311,98130,14221,20957,72079,84964,6586,33668,29740,11659,97575,77051,30275,68742,68501,64557,53681,2627,82665,66235,74481,35426,26798,7046,26926,90782,73283,71890,44237,45906,95652,50978,1265,46016,12977,5488,17115,97766,24321,11292,30464,50264,13158,83104,48502,26670,34260,75067,11389,1277,93395,85805,19948,94914,15677,69144,23402,56160,58416,21730,15693,40015,3415,97523,84787,4715,46410,80756,15296,44260,86019,15432,61223,86373,10368,34908,72164,56763,11771,3815,57953,62452,10889,74724,83613,10204,24213,80137,5685,18394,43990,49983,37986,6885,55971,20898,50930,31863,72995,98206,17011,40075,6329,46006,70798,98837,7706,61763,94379,86412,10410,92307,16283,90717,79175,84336,97271,3851,37642,50441,43081,50159,44798,95090,54529,33126,68231,64756,68620,91815,65593,98323,34144,53709,83068,58642,87482,99290,98966,94422,43829,73444,61079,66851,56810,60573,51388,15581,58989,16575,18038,95943,823,47121,14560,88057,93411,75089,56116,55075,3275,7880,84048,11091,11546,87317,58972,60929,12603,94103,79214,11847,59098,87048,56391,40264,63651,45508,71269,61791,93569,52494,14067,35737,74389,98005,26925,16424,85784,71314,27432,57795,72394,56115,47536,8669,89029,6165,68315,92620,69477,12184,36194,54337,5777,81107,32023,35099,22120,3387,51889,20129,98433,54166,29665,8271,30950,80650,69068,39179,10306,49423,27644,72116,74442,73715,37369,95285,34384,94939,88102,89831,81015,44863,1487,77835,40606,96092,58490,36733,78244,87330,1852,51744,59983,75731,22376,96361,20474,17103,46261,51712,754,21091,46669,96854,9345,64238,52479,33489,39520,49138,84890,62619,84239,100,60632,80371,81380,24764,33287,11472,35119,6053,58424,83689,821,62434,27438,87322,95215,10464,94915,7557,97245,82881,40254,75932,27779,96503,87415,1487,64651,35718,51066,94115,42149,26910,12295,87684,96793,7254,30076,14701,84018,57567,40288,35036,48541,41172,66905,37942,41562,79094,85982,97025,53640,4010,30256,11682,56308,26550,31649,57002,32757,85102,74985,46115,70688,32233,8427,47807,81521,39330,33057,72824,24057,18817,85365,21006,61419,26839,91036,66269,48495,19545,47756,67804,59937,1802,81850,82364,95483,19592,7227,3623,87187,21017,1468,65316,45256,9569,90163,26818,41381,31232,55883,97198,70699,78863,44235,42391,46094,50790,85948,4604,13886,34766,19007,7024,47535,9413,52733,6265,62395,359,79529,62653,94038,88552,51294,94312,91640,45233,45040,97048,30296,16424,27030,11617,76038,61073,96170,88527,30628,73123,5165,97244,91509,80830,45219,51017,48715,82806,23398,41574,21517,45419,31381,42187,69910,34399,35088,79414,88155,11419,10657,95056,21464,16487,1800,73055,27684,68804,41486,69815,79445,40129,62842,52039,76036,84999,66985,72558,51680,2797,54953,29880,10858,674,84505,79034,31469,65716,18214,70060,65205,62980,645,15477,38374,32977,12775,7961,79974,71584,12991,13235,91485,69653,10721,24598,21660,97351,68461,15214,83423,43801,3427,21952,34334,80136,78206,42527,30186,82552,96264,78141,26836,9727,10604,29140,45150,41302,63627,46685,94324,59594,96957,94344,93020,84369,54669,36119,75545,55476,97019,82522,1981,62237,2660,74907,91434,37475,24606,88650,51712,57656,19616,33801,40044,67361,32607,46770,39803,16953,63221,13241,46151,77397,89685,53710,96930,47234,26430,30979,73762,38585,87633,53133,50179,64230,50703,76216,96616,88504,52297,22227,29805,56365,32451,20525,45610,33234,52735,2194,97406,15864,22429,42682,84951,19800,66757,68199,62952,2088,61570,69054,95603,49529,96564,24181,269,4933,6913,34636,60306,89110,88726,63201,98441,8700,636,6402,91963,19909,66315,47534,46357,35330,18364,93829,43361,37284,47801,98231,24980,28389,18030,56939,74032,11221,7894,32123,40552,73386,47044,84069,73057,23839,59965,55218,60365,95525,8660,96268,24216,23561,9714,19608,14356,53372,14947,93960,81318,3011,94796,41075,53540,29316,71590,21682,16473,39063,97246,22910,43110,60449,77774,2929,70905,76347,81862,47156,17875,76207,46618,82271,97841,756,26092,97709,37685,39530,38514,2140,86661,13122,58778,10816,27393,86795,98593,51346,349,86825,13153,26982,65986,11589,71906,87923,29541,40811,44449,88319,81058,51883,31348,39895,89729,85233,94928,82869,11984,54438,45592,8976,23406,28021,13696,75819,18881,22767,90831,57930,35682,7371,81272,56828,60976,45638,11471,54501,31743,75307,98600,51272,18773,17536,11992,83663,55991,51450,85187,81031,49586,99634,44103,24702,43528,14108,28515,69756,4304,62194,83717,74715,84912,55510,15401,14074,83970,32755,98981,77657,79762,40516,26165,28370,39684,64624,58303,57422,39116,3594,43741,72637,79384,92783,3336,30485,56637,11474,53695,55911,21094,1244,17076,70387,59941,31531,35355,83907,62793,20731,83417,72316,47736,9843,83396,75345,74281,77991,48073,39439,79475,38540,90464,56942,93292,31680,51079,25513,24611,86751,32365,3063,45670,87518,88813,6055,49735,55154,9123,97509,89676,37967,67060,24353,17233,81210,72825,56054,38823,94634,56111,65038,16315,68163,13113,1055,32886,10508,45822,31711,61041,15587,7738,24703,54126,35112,32599,1713,97596,10524,77958,14071,71396,61117,81898,69202,29726,8142,38849,60822,33401,63333,60800,17779,7511,28985,20562,83757,60007,64530,34986,76400,68270,26442,92927,14025,10972,51137,9583,94324,48573,10220,19820,30086,18826,74475,31700,26114,49381,62774,21753,47024,94975,47505,4116,69425,77284,37624,54300,45971,99449,34744,43760,14159,32318,76589,62747,95001,48942,75907,28097,77060,10755,52044,59918,4880,40626,59,12128,45622,25461,6872,36977,30004,41906,69096,49707,95675,92904,16099,68677,67742,54980,39767,79604,56683,87478,32172,95442,38614,86487,20007,25174,68626,72651,16287,30146,69068,13646,4604,57738,99686,4741,1022,64878,53107,70525,39744,62532,80107,219,77597,24477,52094,88386,34187,18650,35765,79932,20428,44803,32105,95399,74856,31205,29012,98951,6024,86698,93501,60024,73233,1762,6148,19566,38490,63371,84242,98458,41008,82998,81845,27075,56677,70952,66038,48680,63001,48785,45550,18134,5119,31500,76583,83846,84089,14313,20612,62331,78917,42235,72309,71077,13826,66507,546,81443,32325,55522,79512,63550,68057,96474,21319,31772,7510,97768,49218,44134,93403,87757,89005,58908,36783,59832,95677,8207,92903,96687,58555,91151,27526,9290,70186,82151,19348,21712,94022,14248,28016,95874,3532,97985,65353,73939,97361,79979,2525,96735,16634,24782,67796,68508,61958,61422,74591,9656,63575,40198,47471,2925,53157,29735,37160,38740,55107,54307,89560,86146,64633,29353,49888,29195,59983,24034,31217,35421,30519,57470,98956,83856,49191,19153,44231,86333,32457,91321,84615,76707,47478,19441,8326,85503,64049,84308,48791,16986,36952,77276,20202,23519,7531,16153,60487,87928,93935,49108,30472,5568,23035,65527,90890,43419,69008,34619,3482,27080,70920,30379,62140,40595,99983,10148,74672,37486,30623,52833,28518,19972,99167,77205,24470,56773,15068,22757,93746,13897,58500,16267,89845,12609,97942,64904,38468,92308,80954,41071,80612,74059,7267,74596,9130,89709,35714,63399,10820,72123,98481,39380,32372,23793,50516,32788,32318,31495,57850,44800,64766,41976,75606,77551,70790,18181,38833,54383,75641,5744,61046,7934,67747,46939,19412,93119,49821,59628,98901,62005,78155,35845,64247,81850,6579,72839,44457,13905,62216,92753,84726,50403,21891,33320,32480,71355,22243,87059,19526,91394,50091,50567,53705,35685,25359,31884,74470,65890,80513,29369,29490,75834,86191,5657,35192,2536,64403,74785,40781,51114,70214,74025,50236,67403,85058,90605,58341,88683,42649,51966,14262,80684,54376,39120,81232,90689,53414,13723,81435,56498,49540,85492,86052,40185,64001,61069,7368,87828,42991,14294,32450,8964,82144,4780,66301,58231,32826,73297,93693,50134,69256,21454,52263,76571,1170,94070,95737,53572,40459,28661,28784,49980,74685,19842,92682,22480,26805,42534,72493,68172,94873,61348,32648,22153,19651,48678,93211,10413,48886,55262,16645,88863,95772,97848,81838,58249,55381,38550,90088,59112,94834,44661,1507,42634,21394,46769,57390,67883,36455,31371,73286,68497,60097,53827,10977,73743,79904,45609,86926,87242,86336,70297,25064,28867,44655,1558,41937,87256,96814,4403,26513,19944,83876,91453,57615,72592,38875,6829,29346,86862,1656,45467,66814,43422,48552,48097,25707,51875,71863,83301,49341,35866,76264,99538,79626,81350,54463,26985,3928,73352,83186,70773,4810,44686,71055,24257,34204,19283,17321,90911,7512,23007,53720,1365,58778,36241,62255,80573,38061,67666,763,16269,7946,85104,45718,56665,49421,55667,89616,47413,66882,278,91889,29477,9286,60343,15207,51292,47394,91651,78069,71323,68718,57154,7154,397,88905,73732,87849,57106,45763,56061,71066,48775,25437,70273,83483,6420,7198,94310,67861,94091,67031,57700,27480,43466,78385,80468,56645,1949,10394,15908,62519,16356,54638,1896,75487,54833,54131,88517,33652,96987,67447,30063,11732,12412,52774,24376,22976,59385,62207,20331,26150,45607,71482,97497,19880,3698,71477,1022,53618,26138,52421,80946,47244,59042,33273,69468,14218,73577,87837,1960,68478,21455,97546,77426,81342,15416,23908,30765,44826,2819,27531,6465,47772,10830,1802,97895,99851,27050,67342,35494,78328,54922,554,82887,74536,3145,14789,1664,5983,25584,20307,74795,34168,64570,97326,21304,51883,65988,9322,93793,39396,8240,70996,63126,78557,95568,74043,80471,52333,44184,33268,8320,32627,30508,55763,74439,83023,35798,60459,43772,4495,9185,56056,3563,41969,87098,59117,61769,89424,92700,1525,85845,67498,32259,86774,91295,39507,65158,29394,72484,98363,7718,11957,11342,46546,5695,76764,50240,41757,37825,9511,75856,63193,24580,65447,64810,15552,50247,25811,34641,37973,64250,40259,46753,22080,83322,53143,78036,86302,32249,54348,54139,52751,37872,54604,22665,1431,37380,98554,58045,90644,37035,42038,63795,13830,3973,9888,96248,59533,46808,38999,5277,84387,94941,35793,19992,8162,61174,4806,61230,78832,52163,4249,43549,10488,29057,28677,25726,11406,42748,50296,7033,37620,90176,59338,47212,17658,7164,39396,28829,17586,14258,51532,41971,87135,49414,75643,48056,19331,25854,16900,92787,39687,53215,68737,54940,1538,73730,87757,95897,19731,86628,32135,36006,51693,67673,97975,71940,32857,20187,23475,30108,98491,64684,83213,73044,5950,71773,3759,93637,20696,35166,5474,56162,70458,56029,50122,20778,41423,96096,27757,47242,78436,92204,64011,2826,14546,73260,15900,7863,60680,28377,29461,31686,75044,66954,65184,34448,75855,18188,46168,76560,42263,10482,80803,63652,8873,43826,8218,14676,31076,82313,17469,99613,99039,32952,38053,46175,54808,25940,13505,67739,19610,35233,92455,87960,56533,17957,15981,9157,6405,87248,15659,69026,37586,77353,58996,11369,77188,12936,39482,75524,22041,34295,49070,21444,843,70175,79052,13925,39668,31594,9407,874,11071,26951,34361,33283,20829,42049,5512,33150,54081,54063,23870,4118,72339,44065,85071,48703,83281,26651,53006,22590,55672,60232,62440,32704,11711,35407,29245,84080,85870,78009,36025,42696,1894,79898,17991,44727,55078,5042,64049,80802,66577,42511,32043,98661,80635,70653,80082,37293,27679,80049,22973,83217,99811,90499,31267,35478,53521,31897,65726,63399,94823,60833,88378,63925,26568,46072,5024,86211,94333,38653,72366,20432,82360,92436,82814,83162,53126,59500,99274,42092,58399,65966,74758,14567,4428,54397,28696,39704,99032,15460,41680,65585,25244,62879,26811,52885,36867,49698,28103,29885,7040,62033,70159,17836,52715,96165,35657,12604,35306,45566,94776,65064,99116,15801,38104,34823,29792,21788,46434,74464,74071,59602,99857,57040,98461,9882,3851,7456,20861,15242,67952,58353,83014,6055,92921,34682,9615,86675,58150,12516,74609,92303,41819,71087,6850,27373,84685,95556,48466,28348,79411,87942,7569,4664,36780,77739,75633,43630,38331,68718,35310,4037,57911,87605,76733,95046,23756,72148,14380,87805,10307,58439,34996,69129,32397,77653,66900,95969,10367,87555,75922,61089,95791,32453,80742,17596,32093,74342,27969,51711,57356,54815,15485,11745,36733,17769,6939]\n",
    "four_divisors(a)"
   ]
  },
  {
   "cell_type": "markdown",
   "metadata": {},
   "source": [
    "## 53. [Maximum Subarray](https://leetcode.com/problems/maximum-subarray)"
   ]
  },
  {
   "cell_type": "code",
   "execution_count": null,
   "metadata": {},
   "outputs": [],
   "source": [
    "# libraries\n",
    "from typing import List"
   ]
  },
  {
   "cell_type": "code",
   "execution_count": null,
   "metadata": {},
   "outputs": [],
   "source": [
    "def get_slices(a: List[int], n: int) -> int:\n",
    "    '''\n",
    "    :params a: list of integers to create subarrays from\n",
    "    :params n: length of subarrays\n",
    "    :type a: List[int]\n",
    "    :type n: int\n",
    "    :rtype: List[int]\n",
    "    '''\n",
    "    store = []\n",
    "    count = 0\n",
    "    \n",
    "    while True:\n",
    "        slice = a[count:count + n]\n",
    "        if len(slice) == n:\n",
    "            store.append(sum(a[count:count + n]))\n",
    "            count += 1\n",
    "        else: \n",
    "            break\n",
    "    return max(store)"
   ]
  },
  {
   "cell_type": "code",
   "execution_count": null,
   "metadata": {},
   "outputs": [],
   "source": [
    "get_slices([-2,1,-3,4,-1,2,1,-5,4], 4)"
   ]
  },
  {
   "cell_type": "code",
   "execution_count": null,
   "metadata": {},
   "outputs": [],
   "source": [
    "def maximum_subarray(nums: List[int]) -> List[int]:\n",
    "    '''\n",
    "    :params nums: length of subarrays\n",
    "    :type nums: List[int]\n",
    "    :rtype: List[int]\n",
    "    '''\n",
    "    # return the list if it contains \n",
    "    if len(nums) < 2:\n",
    "        return sum(nums)\n",
    "    \n",
    "    store = []\n",
    "    n = 1\n",
    "    output = []\n",
    "    max_sum = float('-inf')\n",
    "    \n",
    "    # get all of the slices of `nums`\n",
    "    while n <= len(nums):\n",
    "        total = get_slices(nums, n)\n",
    "        if total > max_sum:\n",
    "            max_sum = total\n",
    "        n += 1\n",
    "                \n",
    "    return max_sum"
   ]
  },
  {
   "cell_type": "code",
   "execution_count": null,
   "metadata": {},
   "outputs": [],
   "source": [
    "maximum_subarray([-2,1,-3,4,-1,2,1,-5,4])"
   ]
  },
  {
   "cell_type": "code",
   "execution_count": null,
   "metadata": {},
   "outputs": [],
   "source": [
    "maximum_subarray([1])"
   ]
  },
  {
   "cell_type": "code",
   "execution_count": null,
   "metadata": {},
   "outputs": [],
   "source": [
    "maximum_subarray([0])"
   ]
  },
  {
   "cell_type": "code",
   "execution_count": null,
   "metadata": {},
   "outputs": [],
   "source": [
    "maximum_subarray([-1])"
   ]
  },
  {
   "cell_type": "code",
   "execution_count": null,
   "metadata": {},
   "outputs": [],
   "source": [
    "a = [-64,78,56,10,-8,26,-18,47,-31,75,89,13,48,-19,-69,36,-39,55,-5,-4,-15,-37,-27,-8,-5,35,-51,83,21,-47,46,33,-91,-21,-57,0,81,1,-75,-50,-23,-86,39,-98,-29,69,38,32,24,-90,-95,86,-27,-23,-22,44,-88,3,27,9,55,-50,-80,40,5,-61,-82,-14,40,-58,35,93,-68,-26,94,3,-79,9,-88,21,19,-84,7,91,-8,84,12,-19,-13,-83,66,-80,-34,62,59,48,-98,53,-66,18,94,46,11,-73,96,-18,6,-83,91,17,38,10,9,-78,-22,77,83,89,-42,-30,-94,-98,-34,-51,63,-97,96,64,55,-93,-41,27,52,69,53,26,-71,-64,42,-80,52,-43,6,-62,-21,83,-85,-38,49,-50,8,55,-72,74,80,90,53,53,32,-15,36,90,-88,-34,37,41,91,65,76,33,61,5,90,-33,42,-54,-73,34,-16,75,83,91,7,-89,42,-36,77,-5,-83,9,80,53,-23,68,-81,90,10,-90,55,-14,19,-7,91,-14,59,33,31,62,-33,-85,37,-73,83,-78,-86,25,-15,91,97,2,-23,54,-68,53,22,-73,43,-68,-87,-25,18,31,67,-14,94,3,-81,25,-35,-37,17,79,-34,-23,-99,-43,-98,-38,-52,75,63,1,29,71,-68,-71,74,51,-40,86,-73,54,-5,70,-60,-11,-49,-64,90,-8,-25,-16,-52,40,60,-75,96,39,-13,-79,14,-73,22,-79,75,30,-51,49,-19,-15,36,-16,-60,-69,-68,-21,-4,-18,-9,-14,50,65,70,75,-17,30,99,-44,-31,-14,-46,60,-10,52,80,-35,-18,-94,-86,62,-10,49,-53,6,56,-45,62,-48,36,-47,15,-37,-81,-15,-62,-22,91,-85,33,-62,-23,86,97,66,15,54,-69,96,36,-55,36,-97,70,82,9,4,-63,-29,32,49,23,-53,88,18,8,-96,72,-23,-82,6,14,-6,-31,-12,-39,61,-58,-32,57,77,12,-7,56,-40,-48,-35,40,-35,12,-28,90,-87,-4,79,30,80,82,-20,-43,76,62,70,-30,-92,-42,7,68,-24,75,26,-70,-36,95,86,0,-52,-49,-60,12,63,-11,-20,75,84,-41,-18,41,-82,61,98,70,0,45,-83,8,-96,24,-24,-44,-24,-98,-14,39,97,-51,-60,-78,-24,-44,10,-84,44,89,67,5,-75,-73,-53,-81,64,-55,88,-35,89,-94,72,69,29,-52,-97,81,-73,-35,20,-99,13,36,98,65,69,8,81,13,-25,25,95,-1,51,-58,-5,16,-37,-17,57,-71,-35,29,75,70,53,77,51,79,-58,-51,56,31,84,54,-27,30,-37,-46,-56,14,56,-84,89,7,-43,-16,99,19,67,56,24,-68,-38,-1,-97,-84,-24,53,71,-6,-98,28,-98,63,-18,-25,-7,21,5,13,-88,-39,28,-98,68,61,-15,44,-43,-71,1,81,-39,62,-20,-60,54,33,69,26,-96,48,-69,-94,11,-11,-20,80,87,61,-29,98,-77,75,99,67,37,-38,11,93,-10,88,51,27,28,-68,66,-41,41,36,84,44,-16,91,49,71,-19,-94,28,-32,44,75,-57,66,51,-80,10,-35,-19,97,-65,70,63,86,-2,-9,94,-59,26,35,76,11,-21,-63,-21,-94,84,59,87,13,-96,31,-35,-53,-26,-84,-34,60,-20,23,58,15,-7,21,-22,67,88,-28,-91,14,-93,61,-98,-38,75,-19,-56,59,-83,-91,-51,-79,16,14,-56,90,6,-14,27,63,-91,-15,-22,-22,82,32,-54,47,-96,-69,-61,86,91,-60,-75,43,-3,-31,3,-9,-23,28,11,69,-81,31,59,25,-83,-36,-12,-75,48,42,-21,8,-26,24,-68,-23,31,-30,-60,0,-13,-36,-57,60,32,22,-49,85,-49,38,55,-54,-31,-9,70,-38,54,-65,-37,-20,76,42,64,-73,-57,95,-20,74,-57,19,-49,29,83,-7,-11,-8,-84,40,-45,-57,-45,86,-12,24,-46,-64,62,-91,-30,-74,-35,-76,44,-94,-73,86,77,7,37,-80,-74,87,48,85,-19,-85,-45,-27,31,9,-8,85,-28,79,-14,25,91,-51,10,-61,-49,74,-38,94,56,-12,57,34,71,-5,53,74,-18,-21,59,39,-30,90,-88,-99,-24,3,62,47,-40,-51,-27,-49,-26,82,-11,1,34,27,-5,-10,92,-48,-99,63,23,31,14,-94,-90,-49,44,-44,-59,33,-44,17,-64,-82,-36,-28,-57,13,0,-7,-4,88,70,-93,-7,-35,-4,-15,-6,-26,-75,93,-95,39,98,90,66,20,-54,-93,-47,-22,0,-35,-28,41,14,-8,-46,-86,84,26,-98,55,32,-29,96,-94,32,-33,-21,57,-39,-17,-27,-64,-50,-61,55,-28,-78,84,49,22,-73,-79,-37,40,12,-7,53,-26,-80,31,-94,51,-97,-98,56,34,-54,-88,-32,-17,-29,17,18,20,32,-49,91,54,-65,40,-47,-39,38,-8,-99,-73,84,30,0,-96,-38,5,32,-36,-16,-35,74,29,-23,-80,-88,47,36,29,-32,-54,79,-64,76,91,53,-71,-71,-9,-3,-93,17,-19,36,94,-38,97,-1,70,-62,82,-65,-87,11,11,-68,-1,-41,44,-71,3,89]\n",
    "maximum_subarray(a)"
   ]
  },
  {
   "cell_type": "code",
   "execution_count": null,
   "metadata": {},
   "outputs": [],
   "source": [
    "def max_subarray(nums: List[int]) -> int:\n",
    "    '''\n",
    "    :type nums: List[int]\n",
    "    :rtype: int\n",
    "    '''\n",
    "    max_sum = float('-inf')\n",
    "    current_sum = float('-inf')\n",
    "    \n",
    "    for x in nums:\n",
    "        current_sum = max(0, current_sum + x)\n",
    "        max_sum = max(current_sum, max_sum)\n",
    "    \n",
    "    return max_sum"
   ]
  },
  {
   "cell_type": "code",
   "execution_count": null,
   "metadata": {},
   "outputs": [],
   "source": [
    "max_subarray([-2, -1])"
   ]
  },
  {
   "cell_type": "code",
   "execution_count": null,
   "metadata": {},
   "outputs": [],
   "source": [
    "max_subarray([1, 2])"
   ]
  },
  {
   "cell_type": "code",
   "execution_count": null,
   "metadata": {},
   "outputs": [],
   "source": [
    "max_subarray([1, 2])"
   ]
  },
  {
   "cell_type": "code",
   "execution_count": null,
   "metadata": {},
   "outputs": [],
   "source": [
    "max_subarray([-2,1,-3,4,-1,2,1,-5,4])"
   ]
  },
  {
   "cell_type": "code",
   "execution_count": null,
   "metadata": {},
   "outputs": [],
   "source": [
    "def maxSubArray(self, nums: List[int]) -> int:\n",
    "    '''\n",
    "    :type nums: List[int]\n",
    "    :rtype: int\n",
    "    '''\n",
    "    # return 0 or a single element if the array is size 1 or less\n",
    "    if len(nums) < 2:\n",
    "        return nums[0]\n",
    "    # set sums to first value in array\n",
    "    max_sum = nums[0]\n",
    "    current_sum = nums[0]\n",
    "    \n",
    "    for i in range(1, len(nums)):\n",
    "        current_sum = max(nums[i], current_sum + nums[i])\n",
    "        max_sum = max(current_sum, max_sum)\n",
    "\n",
    "    return max_sum"
   ]
  },
  {
   "cell_type": "markdown",
   "metadata": {},
   "source": [
    "## 146. [LRU Cache](https://leetcode.com/problems/lru-cache)"
   ]
  },
  {
   "cell_type": "code",
   "execution_count": 29,
   "metadata": {},
   "outputs": [],
   "source": [
    "from dataclasses import dataclass, field\n",
    "from typing import Dict, List\n",
    "\n",
    "@dataclass\n",
    "class LRUCache(object):\n",
    "    '''\n",
    "    :type capacity: int\n",
    "    :type store: Dict\n",
    "    :type last_used: List[int]\n",
    "    '''\n",
    "    capacity: int\n",
    "    store: Dict = field(default_factory=lambda: {})\n",
    "    last_used: List[int] = field(default_factory=lambda: [])\n",
    "    \n",
    "    def get(self, key: int) -> int:\n",
    "        '''get a key from cache\n",
    "        '''\n",
    "        if key in self.store.keys():\n",
    "            # update recently used keys\n",
    "            self.last_used.remove(key)\n",
    "            self.last_used.append(key)\n",
    "            return self.store[key]\n",
    "        # key does not exist\n",
    "        return -1\n",
    "\n",
    "    def put(self, key: int, value: int) -> None:\n",
    "        '''push key, value pair to the cache\n",
    "        '''\n",
    "        # update value if key exists\n",
    "        if key in self.store.keys():\n",
    "            self.store[key] = value\n",
    "            # update recently used keys\n",
    "            self.last_used.remove(key)\n",
    "            self.last_used.append(key)\n",
    "            return None\n",
    "        \n",
    "        # cache not at full capacity\n",
    "        if len(self.store.keys()) < self.capacity:\n",
    "            self.store[key] = value\n",
    "            # update recently used keys\n",
    "            self.last_used.append(key)\n",
    "            return None\n",
    "        \n",
    "        # cache at full capacity\n",
    "        if len(self.store.keys()) >= self.capacity:\n",
    "            # \n",
    "            if len(list(self.last_used)) >= self.capacity:\n",
    "                self.store.pop(self.last_used[0], None)\n",
    "                self.last_used.remove(self.last_used[0])\n",
    "                self.store[key] = value\n",
    "                self.last_used.append(key)\n",
    "                return None\n",
    "            \n",
    "            # \n",
    "            for item in list(self.store.keys()):\n",
    "                if item not in self.last_used:\n",
    "                    self.store.pop(item, None)\n",
    "                    self.store[key] = value\n",
    "                    self.last_used.append(key)\n",
    "                    return None\n",
    "        return None"
   ]
  },
  {
   "cell_type": "code",
   "execution_count": 35,
   "metadata": {},
   "outputs": [],
   "source": [
    "from typing import List\n",
    "\n",
    "def execute_lru(operations: List[str], data: List[List]) -> List[int]:\n",
    "    '''\n",
    "    '''\n",
    "    store = []\n",
    "    # execute each lru operation\n",
    "    for i in range(len(operations)):\n",
    "        if operations[i] == 'LRUCache':\n",
    "            lru = LRUCache(data[i][0])\n",
    "            store.append(None)\n",
    "        elif operations[i] == 'get':\n",
    "            value = lru.get(data[i][0])\n",
    "            store.append(value)\n",
    "        elif operations[i] == 'put':\n",
    "            lru.put(data[i][0], data[i][1])\n",
    "            store.append(None)\n",
    "    return store"
   ]
  },
  {
   "cell_type": "code",
   "execution_count": 36,
   "metadata": {},
   "outputs": [],
   "source": [
    "operations = [\n",
    "    \"LRUCache\", \n",
    "    \"put\", \n",
    "    \"put\", \n",
    "    \"get\", \n",
    "    \"put\", \n",
    "    \"get\", \n",
    "    \"put\", \n",
    "    \"get\", \n",
    "    \"get\", \n",
    "    \"get\"\n",
    "]\n",
    "data = [\n",
    "    [2], \n",
    "    [1, 1], \n",
    "    [2, 2], \n",
    "    [1], \n",
    "    [3, 3], \n",
    "    [2], \n",
    "    [4, 4], \n",
    "    [1], \n",
    "    [3], \n",
    "    [4]\n",
    "]"
   ]
  },
  {
   "cell_type": "code",
   "execution_count": 38,
   "metadata": {},
   "outputs": [
    {
     "data": {
      "text/plain": [
       "[None, None, None, 1, None, -1, None, -1, 3, 4]"
      ]
     },
     "execution_count": 38,
     "metadata": {},
     "output_type": "execute_result"
    }
   ],
   "source": [
    "execute_lru(operations, data)"
   ]
  },
  {
   "cell_type": "markdown",
   "metadata": {},
   "source": [
    "## 203. [Remove Linked List Elements](https://leetcode.com/problems/remove-linked-list-elements/)"
   ]
  },
  {
   "cell_type": "code",
   "execution_count": 212,
   "metadata": {},
   "outputs": [],
   "source": [
    "def remove_elements(\n",
    "    head: ListNode, val: int) -> ListNode:\n",
    "    '''\n",
    "    '''\n",
    "    \n",
    "    if head.next == None:\n",
    "        return head\n",
    "    \n",
    "    \n",
    "    dummy = ListNode()\n",
    "    dummy.next = head\n",
    "    \n",
    "    current = dummy\n",
    "    \n",
    "    while current.next:\n",
    "        if current.next.val == val:\n",
    "            current.next = current.next.next\n",
    "        else:\n",
    "            current = current.next\n",
    "            \n",
    "    return dummy"
   ]
  },
  {
   "cell_type": "code",
   "execution_count": 213,
   "metadata": {},
   "outputs": [
    {
     "data": {
      "text/plain": [
       "ListNode(val=-inf, next=ListNode(val=1, next=ListNode(val=2, next=ListNode(val=3, next=ListNode(val=4, next=ListNode(val=5, next=None))))))"
      ]
     },
     "execution_count": 213,
     "metadata": {},
     "output_type": "execute_result"
    }
   ],
   "source": [
    "remove_elements(\n",
    "    array_to_linked_list([1,2,6,3,4,5,6]),\n",
    "    6\n",
    ")"
   ]
  },
  {
   "cell_type": "code",
   "execution_count": 230,
   "metadata": {},
   "outputs": [],
   "source": [
    "def remove_elements(\n",
    "    head: ListNode, val: int) -> ListNode:\n",
    "    '''\n",
    "    '''\n",
    "    \n",
    "    if head.next == None:\n",
    "        return head\n",
    "    \n",
    "    # initialize a ListNode and point it to the head\n",
    "    dummy = ListNode()\n",
    "    dummy.next = head\n",
    "    \n",
    "    # create cursor to traverse nodes\n",
    "    current = dummy\n",
    "    \n",
    "    while current.next:\n",
    "        if current.next.val == val:\n",
    "            # set cursor to next Node's next\n",
    "            current.next = current.next.next\n",
    "        else:\n",
    "            current = current.next\n",
    "    \n",
    "    return dummy"
   ]
  },
  {
   "cell_type": "code",
   "execution_count": 231,
   "metadata": {},
   "outputs": [
    {
     "data": {
      "text/plain": [
       "ListNode(val=-inf, next=ListNode(val=1, next=ListNode(val=2, next=ListNode(val=3, next=ListNode(val=4, next=ListNode(val=5, next=None))))))"
      ]
     },
     "execution_count": 231,
     "metadata": {},
     "output_type": "execute_result"
    }
   ],
   "source": [
    "remove_elements(\n",
    "    array_to_linked_list([1,2,6,3,4,5,6]),\n",
    "    6\n",
    ")"
   ]
  },
  {
   "cell_type": "markdown",
   "metadata": {},
   "source": [
    "## 155 [Min Stack](https://leetcode.com/problems/min-stack/)"
   ]
  },
  {
   "cell_type": "code",
   "execution_count": 6,
   "metadata": {},
   "outputs": [],
   "source": [
    "from typing import List\n",
    "from dataclasses import dataclass, field\n",
    "\n",
    "@dataclass\n",
    "class min_stack:\n",
    "    store: List[int] = field(default_factory=lambda: [])\n",
    "    min_element: int = float('inf')\n",
    "        \n",
    "    def push(self, x: int) -> None:\n",
    "        self.store.append(x)\n",
    "        if x < self.min_element:\n",
    "            self.min_element = x\n",
    "\n",
    "    def pop(self) -> None:\n",
    "        if self.store[-1] == self.min_element:\n",
    "            self.store.remove(self.store[-1])\n",
    "            self.min_element = min(self.store)\n",
    "        \n",
    "\n",
    "    def top(self) -> int:\n",
    "        return self.store[-1]\n",
    "\n",
    "    def getMin(self) -> int:\n",
    "        return self.min_element\n",
    "\n",
    "\n",
    "    # Your MinStack object will be instantiated and called as such:\n",
    "    # obj = MinStack()\n",
    "    # obj.push(x)\n",
    "    # obj.pop()\n",
    "    # param_3 = obj.top()\n",
    "    # param_4 = obj.getMin()"
   ]
  },
  {
   "cell_type": "code",
   "execution_count": 7,
   "metadata": {},
   "outputs": [],
   "source": [
    "ms = min_stack()"
   ]
  },
  {
   "cell_type": "code",
   "execution_count": 8,
   "metadata": {},
   "outputs": [],
   "source": [
    "ms.push(-2)"
   ]
  },
  {
   "cell_type": "code",
   "execution_count": 9,
   "metadata": {},
   "outputs": [],
   "source": [
    "ms.push(0)"
   ]
  },
  {
   "cell_type": "code",
   "execution_count": 10,
   "metadata": {},
   "outputs": [],
   "source": [
    "ms.push(-3)"
   ]
  },
  {
   "cell_type": "code",
   "execution_count": 11,
   "metadata": {},
   "outputs": [
    {
     "data": {
      "text/plain": [
       "min_stack(store=[-2, 0, -3], min_element=-3)"
      ]
     },
     "execution_count": 11,
     "metadata": {},
     "output_type": "execute_result"
    }
   ],
   "source": [
    "ms"
   ]
  },
  {
   "cell_type": "markdown",
   "metadata": {},
   "source": [
    "## 101. [Symmetric Tree](https://leetcode.com/problems/symmetric-tree/)"
   ]
  },
  {
   "cell_type": "code",
   "execution_count": null,
   "metadata": {},
   "outputs": [],
   "source": [
    "# Definition for a binary tree node.\n",
    "# class TreeNode:\n",
    "#     def __init__(self, val=0, left=None, right=None):\n",
    "#         self.val = val\n",
    "#         self.left = left\n",
    "#         self.right = right\n",
    "class Solution:\n",
    "    def isSymmetric(self, root: TreeNode) -> bool:\n",
    "        "
   ]
  },
  {
   "cell_type": "markdown",
   "metadata": {},
   "source": [
    "# LeetCode"
   ]
  },
  {
   "cell_type": "markdown",
   "metadata": {},
   "source": [
    "## []()"
   ]
  },
  {
   "cell_type": "code",
   "execution_count": 10,
   "metadata": {},
   "outputs": [],
   "source": [
    "from typing import List\n",
    "\n",
    "def two_sum(nums: List[int], target: int) -> List[int]:\n",
    "    # loop through combinations of numbers\n",
    "    for i in range(len(nums) - 1):\n",
    "        for j in range(i + 1, len(nums)):\n",
    "            if nums[i] + nums[j] == target:\n",
    "                return [i, j]"
   ]
  },
  {
   "cell_type": "code",
   "execution_count": 11,
   "metadata": {},
   "outputs": [
    {
     "data": {
      "text/plain": [
       "[0, 1]"
      ]
     },
     "execution_count": 11,
     "metadata": {},
     "output_type": "execute_result"
    }
   ],
   "source": [
    "two_sum([2, 7, 11, 15], 9)"
   ]
  },
  {
   "cell_type": "markdown",
   "metadata": {},
   "source": [
    "# Setup"
   ]
  },
  {
   "cell_type": "code",
   "execution_count": 64,
   "metadata": {},
   "outputs": [],
   "source": [
    "# set root directory\n",
    "import os\n",
    "ROOT_DIR = os.path.abspath('')\n",
    "UTILS_DIR =  ROOT_DIR + '/utils'"
   ]
  },
  {
   "cell_type": "code",
   "execution_count": 65,
   "metadata": {},
   "outputs": [],
   "source": [
    "# add directory to sys path to enable imports\n",
    "import sys\n",
    "sys.path.insert(0, UTILS_DIR)"
   ]
  },
  {
   "cell_type": "code",
   "execution_count": 68,
   "metadata": {},
   "outputs": [],
   "source": [
    "from list_node import list_node"
   ]
  },
  {
   "cell_type": "code",
   "execution_count": 70,
   "metadata": {},
   "outputs": [
    {
     "data": {
      "text/plain": [
       "list_node(val=9, next=None)"
      ]
     },
     "execution_count": 70,
     "metadata": {},
     "output_type": "execute_result"
    }
   ],
   "source": [
    "list_node(9)"
   ]
  },
  {
   "cell_type": "code",
   "execution_count": null,
   "metadata": {},
   "outputs": [],
   "source": []
  },
  {
   "cell_type": "code",
   "execution_count": null,
   "metadata": {},
   "outputs": [],
   "source": []
  }
 ],
 "metadata": {
  "kernelspec": {
   "display_name": "Python 3.8.2 64-bit",
   "language": "python",
   "name": "python38264bite8925ebd667149fb9bb619eee2888c02"
  },
  "language_info": {
   "codemirror_mode": {
    "name": "ipython",
    "version": 3
   },
   "file_extension": ".py",
   "mimetype": "text/x-python",
   "name": "python",
   "nbconvert_exporter": "python",
   "pygments_lexer": "ipython3",
   "version": "3.9.1"
  },
  "toc-autonumbering": false,
  "toc-showcode": false,
  "toc-showmarkdowntxt": false,
  "toc-showtags": false
 },
 "nbformat": 4,
 "nbformat_minor": 4
}
