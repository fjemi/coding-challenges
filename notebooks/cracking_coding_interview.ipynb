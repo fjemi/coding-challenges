{
 "cells": [
  {
   "cell_type": "markdown",
   "metadata": {},
   "source": [
    "# Libraries"
   ]
  },
  {
   "cell_type": "code",
   "execution_count": 165,
   "metadata": {},
   "outputs": [],
   "source": [
    "# data modeling\n",
    "import json\n",
    "from dataclasses import dataclass\n",
    "# type hints\n",
    "from typing import Any"
   ]
  },
  {
   "cell_type": "markdown",
   "metadata": {},
   "source": [
    "# Array and Strings"
   ]
  },
  {
   "cell_type": "markdown",
   "metadata": {},
   "source": [
    "## Is Unique\n",
    "Implement an algorithm to determine if a string has all unique characters. What if you cannot use additional data structures?"
   ]
  },
  {
   "cell_type": "code",
   "execution_count": 24,
   "metadata": {},
   "outputs": [],
   "source": [
    "def is_unique(string: str) -> bool:\n",
    "    '''determine if a string has unique characters'''\n",
    "    # store unique chars from the string\n",
    "    store = []\n",
    "    # check for uniqueness\n",
    "    for char in string:\n",
    "        if char in store:\n",
    "            return False\n",
    "        else:\n",
    "            store.append(char)\n",
    "    return True"
   ]
  },
  {
   "cell_type": "code",
   "execution_count": 25,
   "metadata": {},
   "outputs": [
    {
     "data": {
      "text/plain": [
       "False"
      ]
     },
     "execution_count": 25,
     "metadata": {},
     "output_type": "execute_result"
    }
   ],
   "source": [
    "is_unique('test')"
   ]
  },
  {
   "cell_type": "code",
   "execution_count": 26,
   "metadata": {},
   "outputs": [
    {
     "data": {
      "text/plain": [
       "True"
      ]
     },
     "execution_count": 26,
     "metadata": {},
     "output_type": "execute_result"
    }
   ],
   "source": [
    "is_unique('algorithm')"
   ]
  },
  {
   "cell_type": "code",
   "execution_count": 27,
   "metadata": {},
   "outputs": [],
   "source": [
    "def is_unique(string: str) -> bool:\n",
    "    '''determine if a string has unique characters using \n",
    "    no additional data structures'''\n",
    "    # sort the chars in the string\n",
    "    sorted_string = sorted(string)\n",
    "    # check for uniqueness between adjacent chars\n",
    "    for i in range(1, len(sorted_string) - 1):\n",
    "        if (sorted_string[i - 1] == sorted_string[i] or\n",
    "           sorted_string[i] == sorted_string[i + 1]):\n",
    "            return False\n",
    "    return True"
   ]
  },
  {
   "cell_type": "code",
   "execution_count": 28,
   "metadata": {},
   "outputs": [
    {
     "data": {
      "text/plain": [
       "False"
      ]
     },
     "execution_count": 28,
     "metadata": {},
     "output_type": "execute_result"
    }
   ],
   "source": [
    "is_unique('test')"
   ]
  },
  {
   "cell_type": "code",
   "execution_count": 29,
   "metadata": {},
   "outputs": [
    {
     "data": {
      "text/plain": [
       "True"
      ]
     },
     "execution_count": 29,
     "metadata": {},
     "output_type": "execute_result"
    }
   ],
   "source": [
    "is_unique('algorithm')"
   ]
  },
  {
   "cell_type": "markdown",
   "metadata": {},
   "source": [
    "## Check Permutation\n",
    "Given two strings, write a method to decide if one is a permutation of the other."
   ]
  },
  {
   "cell_type": "code",
   "execution_count": 45,
   "metadata": {},
   "outputs": [],
   "source": [
    "def count_chars(string: str) -> dict:\n",
    "    '''Helper function that returns the count unique chars in a string\n",
    "    '''\n",
    "    # store char counts\n",
    "    store = {}\n",
    "    #\n",
    "    for char in a:\n",
    "        if char in store.keys():\n",
    "            store[char] = store[char] + 1\n",
    "        else:\n",
    "            store[char] = 1\n",
    "    return store"
   ]
  },
  {
   "cell_type": "code",
   "execution_count": 49,
   "metadata": {},
   "outputs": [],
   "source": [
    "def is_permutation(a: str, b: str) -> bool:\n",
    "    '''\n",
    "    Check if a is string `a` permutation of another string `b`\n",
    "    ---\n",
    "    ## Input\n",
    "    - a: string\n",
    "    - b: string\n",
    "    ## Output\n",
    "    boolean\n",
    "    '''\n",
    "    store = []\n",
    "    # permutations have to be the same size\n",
    "    if len(a) != len(b):\n",
    "        return False\n",
    "    # permutations should have the same chars and char counts\n",
    "    if count_chars(a) != count_chars(b):\n",
    "        return False\n",
    "    return True"
   ]
  },
  {
   "cell_type": "code",
   "execution_count": 50,
   "metadata": {},
   "outputs": [
    {
     "data": {
      "text/plain": [
       "False"
      ]
     },
     "execution_count": 50,
     "metadata": {},
     "output_type": "execute_result"
    }
   ],
   "source": [
    "is_permutation('tests', 'tist')"
   ]
  },
  {
   "cell_type": "code",
   "execution_count": 51,
   "metadata": {},
   "outputs": [
    {
     "data": {
      "text/plain": [
       "True"
      ]
     },
     "execution_count": 51,
     "metadata": {},
     "output_type": "execute_result"
    }
   ],
   "source": [
    "is_permutation('tests', 'stest')"
   ]
  },
  {
   "cell_type": "markdown",
   "metadata": {},
   "source": [
    "## URLify\n",
    "Write a method to replace all spaces in a string with '%20'. You may assume that the string has sufficient space at the end to hold the additional characters,and that you are given the \"true\" length of the string. (Note: If implementing in Java, please use a character array so that you can perform this operation in place.)\n",
    "\n",
    "EXAMPLE <br />\n",
    "Input: <br />\n",
    " \"Mr John Smith\"  <br />\n",
    "Output: <br />\n",
    " \"Mr%20John%20Smith\""
   ]
  },
  {
   "cell_type": "code",
   "execution_count": 54,
   "metadata": {},
   "outputs": [],
   "source": [
    "def replace_spaces(a: str) -> str:\n",
    "    '''replace spaces with `%20`'''\n",
    "    return a.strip().replace(' ', '%20')"
   ]
  },
  {
   "cell_type": "code",
   "execution_count": 55,
   "metadata": {},
   "outputs": [
    {
     "data": {
      "text/plain": [
       "'Mr%20John%20Smith'"
      ]
     },
     "execution_count": 55,
     "metadata": {},
     "output_type": "execute_result"
    }
   ],
   "source": [
    "replace_spaces('Mr John Smith ')"
   ]
  },
  {
   "cell_type": "code",
   "execution_count": 63,
   "metadata": {},
   "outputs": [],
   "source": [
    "def replace_spaces(a: str) -> str:\n",
    "    '''replace spaces with `%20` without using built-in functions'''\n",
    "    store = ''\n",
    "    for i in range(len(a)):\n",
    "        # replace spaces and add to store\n",
    "        if a[i] == ' ':\n",
    "            # ignore spaces at the begining and end of a string\n",
    "            if i != 0 and i != len(a) - 1:\n",
    "                store = store + '%20'\n",
    "        # add non-space chars to store\n",
    "        else:\n",
    "            store = store + a[i]\n",
    "    return store"
   ]
  },
  {
   "cell_type": "code",
   "execution_count": 64,
   "metadata": {},
   "outputs": [
    {
     "data": {
      "text/plain": [
       "'Mr%20John%20Smith'"
      ]
     },
     "execution_count": 64,
     "metadata": {},
     "output_type": "execute_result"
    }
   ],
   "source": [
    "replace_spaces(' Mr John Smith ')"
   ]
  },
  {
   "cell_type": "markdown",
   "metadata": {},
   "source": [
    "## Palindrome Permutation\n",
    "Given a string, write a function to check if it is a permutation of a palindrome. A palindrome is a word or phrase that is the same forwards and backwards. A permutation is a rearrangement of letters. The palindrome does not need to be limited to just dictionary words.\n",
    "\n",
    "EXAMPLE <br />\n",
    "Input: <br />\n",
    " Tact Coa <br />\n",
    "Output: <br />\n",
    " True (permutations: \"taco cat\", \"atco eta\", etc.) <br />"
   ]
  },
  {
   "cell_type": "code",
   "execution_count": 69,
   "metadata": {},
   "outputs": [],
   "source": [
    "def is_palindrone(a: str) -> bool:\n",
    "    '''Check if a given string is a palindrone'''\n",
    "    reversed_string = ''\n",
    "    for i in reversed(range(len(a))):\n",
    "        reversed_string = reversed_string + a[i]\n",
    "    #\n",
    "    if reversed_string == a:\n",
    "        return True\n",
    "    return False"
   ]
  },
  {
   "cell_type": "code",
   "execution_count": 70,
   "metadata": {},
   "outputs": [
    {
     "data": {
      "text/plain": [
       "True"
      ]
     },
     "execution_count": 70,
     "metadata": {},
     "output_type": "execute_result"
    }
   ],
   "source": [
    "is_palindrone('tat')"
   ]
  },
  {
   "cell_type": "code",
   "execution_count": 71,
   "metadata": {},
   "outputs": [
    {
     "data": {
      "text/plain": [
       "False"
      ]
     },
     "execution_count": 71,
     "metadata": {},
     "output_type": "execute_result"
    }
   ],
   "source": [
    "is_palindrone('cat')"
   ]
  },
  {
   "cell_type": "markdown",
   "metadata": {},
   "source": [
    "## One Away\n",
    "There are three types of edits that can be performed on strings: insert a character, remove a character, or replace a character. Given two strings, write a function to check if they are one edit (or zero edits) away.\n",
    "\n",
    "##### EXAMPLE\n",
    "- pale, ple -> true\n",
    "- pales, pale -> true\n",
    "- pale, bale -> true\n",
    "- pale, bake -> false\n"
   ]
  },
  {
   "cell_type": "code",
   "execution_count": 112,
   "metadata": {},
   "outputs": [],
   "source": [
    "def one_away(a: str, b: str) -> bool:\n",
    "    '''Check if two strings are one edit (insert, delete, remove) apart\n",
    "    '''\n",
    "    # lengths for the strings must be within 1 of each other\n",
    "    # if a is 2 chars longer than b, than at least 2 edits are required\n",
    "    if abs(len(a) - len(b)) > 1:\n",
    "        return False\n",
    "    \n",
    "    # make the two strings the same size\n",
    "    if len(a) > len(b):\n",
    "        b = b + ' ' * (len(a) - len(b))\n",
    "    if len(b) > len(a):\n",
    "        a = a + ' '*(len(b) - len(a))\n",
    "        \n",
    "    # count the edits needed between `a, b`\n",
    "    edits = 0\n",
    "    for i in range(len(a)):\n",
    "        # edit is required if chars are not the same\n",
    "        if a[i] != b[i]:\n",
    "            edits += 1\n",
    "    \n",
    "    if edits > 1:\n",
    "        return False   \n",
    "    return True"
   ]
  },
  {
   "cell_type": "code",
   "execution_count": 113,
   "metadata": {},
   "outputs": [
    {
     "data": {
      "text/plain": [
       "False"
      ]
     },
     "execution_count": 113,
     "metadata": {},
     "output_type": "execute_result"
    }
   ],
   "source": [
    "one_away('pale', 'paless')"
   ]
  },
  {
   "cell_type": "code",
   "execution_count": 114,
   "metadata": {},
   "outputs": [
    {
     "data": {
      "text/plain": [
       "True"
      ]
     },
     "execution_count": 114,
     "metadata": {},
     "output_type": "execute_result"
    }
   ],
   "source": [
    "one_away('pales', 'pale')"
   ]
  },
  {
   "cell_type": "markdown",
   "metadata": {},
   "source": [
    "## String Compression\n",
    "Implement a method to perform basic string compression using the counts of repeated characters. For example, the string aabcccccaaa would become a2blc5a3. If the \"compressed\" string would not become smaller than the original string, your method should return the original string. You can assume the string has only uppercase and lowercase letters (a - z)."
   ]
  },
  {
   "cell_type": "code",
   "execution_count": 138,
   "metadata": {},
   "outputs": [],
   "source": [
    "def compress_string(a: str) -> str:\n",
    "    '''\n",
    "    '''\n",
    "    # initialize a store containing the first char in the string\n",
    "    store = [{\n",
    "        'count': 1, \n",
    "        'char': a[0]\n",
    "    }]\n",
    "    # update char counts or add new chars to store\n",
    "    for i in range(1, len(a)):\n",
    "        if a[i] == store[-1]['char']:\n",
    "            store[-1]['count'] += 1\n",
    "        else:\n",
    "            store.append({\n",
    "                'count': 1,\n",
    "                'char': a[i]\n",
    "            })\n",
    "    # create the compressed string\n",
    "    compressed_string = ''\n",
    "    for item in store:\n",
    "        compressed_string = compressed_string + f\"{item['char']}{item['count']}\"\n",
    "    # compare regular and compressed string lengths\n",
    "    if len(compressed_string) < len(a):\n",
    "        return compressed_string\n",
    "    return a"
   ]
  },
  {
   "cell_type": "code",
   "execution_count": 141,
   "metadata": {},
   "outputs": [
    {
     "data": {
      "text/plain": [
       "'a2b1c5a3'"
      ]
     },
     "execution_count": 141,
     "metadata": {},
     "output_type": "execute_result"
    }
   ],
   "source": [
    "compress_string('aabcccccaaa')"
   ]
  },
  {
   "cell_type": "code",
   "execution_count": 142,
   "metadata": {},
   "outputs": [
    {
     "data": {
      "text/plain": [
       "'aab'"
      ]
     },
     "execution_count": 142,
     "metadata": {},
     "output_type": "execute_result"
    }
   ],
   "source": [
    "compress_string('aab')"
   ]
  },
  {
   "cell_type": "markdown",
   "metadata": {},
   "source": [
    "## Rotate Matrix\n",
    "Given an image represented by an NxN matrix, where each pixel in the image is 4 bytes, write a method to rotate the image by 90 degrees. Can you do this in place?"
   ]
  },
  {
   "cell_type": "code",
   "execution_count": 144,
   "metadata": {},
   "outputs": [],
   "source": [
    "def rotate_matrix(a: list) -> list:\n",
    "    ''''''\n",
    "    \n",
    "    return None"
   ]
  },
  {
   "cell_type": "code",
   "execution_count": 147,
   "metadata": {},
   "outputs": [],
   "source": [
    "a = [\n",
    "    [1, 2],\n",
    "    [1, 2]\n",
    "]\n",
    "rotate_matrix(a)"
   ]
  },
  {
   "cell_type": "markdown",
   "metadata": {},
   "source": [
    "## Zero Matrix\n",
    "Write an algorithm such that if an element in an MxN matrix is 0, its entire row and column are set to 0."
   ]
  },
  {
   "cell_type": "code",
   "execution_count": 155,
   "metadata": {},
   "outputs": [],
   "source": [
    "# TODO create function that turn columns values to zero"
   ]
  },
  {
   "cell_type": "code",
   "execution_count": 153,
   "metadata": {},
   "outputs": [],
   "source": [
    "def zero_matrix(a: list) -> list:\n",
    "    '''\n",
    "    '''\n",
    "    store = []\n",
    "    for row in a:\n",
    "        if 0 in row:\n",
    "            store.append(['0'] * len(row))\n",
    "        else:\n",
    "            store.append(row)\n",
    "    print(store)\n",
    "    "
   ]
  },
  {
   "cell_type": "code",
   "execution_count": 154,
   "metadata": {},
   "outputs": [
    {
     "name": "stdout",
     "output_type": "stream",
     "text": [
      "[['0', '0'], [1, 2], ['0', '0']]\n"
     ]
    }
   ],
   "source": [
    "a = [\n",
    "    [0, 2],\n",
    "    [1, 2],\n",
    "    [5, 0]\n",
    "]\n",
    "zero_matrix(a)"
   ]
  },
  {
   "cell_type": "markdown",
   "metadata": {},
   "source": [
    "## String Rotation\n",
    "Assume you have a method isSubstring which checks if one word is a substring of another. Given two strings, sl and s2, write code to check if s2 is a rotation of sl using only one call to isSubstring (e.g.,\"waterbottle\" is a rotation of\"erbottlewat\")."
   ]
  },
  {
   "cell_type": "code",
   "execution_count": 192,
   "metadata": {},
   "outputs": [],
   "source": [
    "def is_rotation(s1: str, s2: str) -> bool:\n",
    "    '''Check if strings `a, b` are a rotation of each other\n",
    "    '''\n",
    "    # use for rotations\n",
    "    rotate_string = s1\n",
    "    for i in range(len(s1)):\n",
    "        rotate_string = f'{rotate_string[1:]}{rotate_string[0]}'\n",
    "        if rotate_string == s2:\n",
    "            return True\n",
    "    return False"
   ]
  },
  {
   "cell_type": "code",
   "execution_count": 193,
   "metadata": {},
   "outputs": [
    {
     "data": {
      "text/plain": [
       "True"
      ]
     },
     "execution_count": 193,
     "metadata": {},
     "output_type": "execute_result"
    }
   ],
   "source": [
    "a = 'waterbottle'\n",
    "b = 'erbottlewat'\n",
    "is_rotation(a, b)"
   ]
  },
  {
   "cell_type": "code",
   "execution_count": 195,
   "metadata": {},
   "outputs": [
    {
     "data": {
      "text/plain": [
       "False"
      ]
     },
     "execution_count": 195,
     "metadata": {},
     "output_type": "execute_result"
    }
   ],
   "source": [
    "a = 'waterbottle'\n",
    "b = 'erbotttewal'\n",
    "is_rotation(a, b)"
   ]
  },
  {
   "cell_type": "markdown",
   "metadata": {},
   "source": [
    "# Linked Lists"
   ]
  },
  {
   "cell_type": "code",
   "execution_count": 231,
   "metadata": {},
   "outputs": [],
   "source": [
    "@dataclass\n",
    "class Node:\n",
    "    data: Any\n",
    "    previous_node: str = None\n",
    "    next_node: str = None\n",
    "        \n",
    "\n",
    "@dataclass \n",
    "class LinkedList:\n",
    "    head: Node\n",
    "    tail: Node = None\n",
    "        \n",
    "    def __post_init__(self):\n",
    "        self.tail = self.head\n",
    "        \n",
    "    def add_node_to_tail(data: None):\n",
    "        print('test')"
   ]
  },
  {
   "cell_type": "code",
   "execution_count": 232,
   "metadata": {},
   "outputs": [],
   "source": [
    "node1 = Node('1')\n",
    "node2 = Node('2')\n",
    "node3 = Node('3')"
   ]
  },
  {
   "cell_type": "code",
   "execution_count": 235,
   "metadata": {},
   "outputs": [
    {
     "name": "stdout",
     "output_type": "stream",
     "text": [
      "LinkedList(head=Node(data='1', previous_node=None, next_node=None), tail=Node(data='1', previous_node=None, next_node=None))\n"
     ]
    }
   ],
   "source": [
    "linked_list = LinkedList(node1)\n",
    "print(linked_list)"
   ]
  },
  {
   "cell_type": "code",
   "execution_count": 234,
   "metadata": {},
   "outputs": [
    {
     "name": "stdout",
     "output_type": "stream",
     "text": [
      "test\n"
     ]
    }
   ],
   "source": [
    "linked_list.add_node_to_tail()"
   ]
  },
  {
   "cell_type": "code",
   "execution_count": null,
   "metadata": {},
   "outputs": [],
   "source": []
  },
  {
   "cell_type": "code",
   "execution_count": null,
   "metadata": {},
   "outputs": [],
   "source": []
  }
 ],
 "metadata": {
  "kernelspec": {
   "display_name": "Python 3.8.2 64-bit",
   "language": "python",
   "name": "python38264bite8925ebd667149fb9bb619eee2888c02"
  },
  "language_info": {
   "codemirror_mode": {
    "name": "ipython",
    "version": 3
   },
   "file_extension": ".py",
   "mimetype": "text/x-python",
   "name": "python",
   "nbconvert_exporter": "python",
   "pygments_lexer": "ipython3",
   "version": "3.8.6"
  }
 },
 "nbformat": 4,
 "nbformat_minor": 4
}
